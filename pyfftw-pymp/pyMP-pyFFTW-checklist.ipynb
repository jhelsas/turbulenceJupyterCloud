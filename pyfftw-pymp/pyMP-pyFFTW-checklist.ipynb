{
 "cells": [
  {
   "cell_type": "code",
   "execution_count": 1,
   "metadata": {
    "collapsed": true
   },
   "outputs": [],
   "source": [
    "import os\n",
    "import h5py\n",
    "import time\n",
    "import pymp\n",
    "import numpy as np\n",
    "import pyfftw as ft\n",
    "import matplotlib.pyplot as plt"
   ]
  },
  {
   "cell_type": "code",
   "execution_count": 2,
   "metadata": {
    "collapsed": true
   },
   "outputs": [],
   "source": [
    "N = 1024"
   ]
  },
  {
   "cell_type": "code",
   "execution_count": 5,
   "metadata": {},
   "outputs": [
    {
     "name": "stdout",
     "output_type": "stream",
     "text": [
      "3.83256816864\n"
     ]
    }
   ],
   "source": [
    "start = time.time()\n",
    "\n",
    "wiz = ('(fftw-3.3.5 fftw_wisdom #x3c273403 #x192df114 #x4d08727c #xe98e9b9d\\n)\\n','(fftw-3.3.5 fftwf_wisdom #x706526c0 #x2f8b6c85 #x8cd1bb1a #x7c96e03d\\n  (fftwf_rdft2_rank_geq2_register 0 #x11bdd #x11bdd #x0 #xe0177557 #xe9f32997 #xfb2dcb2c #xf8f70860)\\n  (fftwf_dft_buffered_register 1 #x11bdd #x11bdd #x0 #xb6380734 #x8d827d8e #xdc067a28 #x4fc763de)\\n  (fftwf_rdft_rank0_register 4 #x10bdd #x10bdd #x0 #xf3c0402e #xf303d9aa #xbdc22798 #xd9510af9)\\n  (fftwf_rdft2_vrank_geq1_register 0 #x10bdd #x10bdd #x0 #x1a3fc773 #x16826a6d #x4ac1ba9b #x71705541)\\n  (fftwf_codelet_hc2cf_16 0 #x11bdd #x11bdd #x0 #xa3aa3245 #xfa89ad84 #x6f51d136 #x21269ea8)\\n  (fftwf_dft_indirect_register 0 #x10fdd #x10fdd #x0 #x4708cf10 #x9dd6031e #x074d1f25 #xae61f28f)\\n  (fftwf_rdft_vrank_geq1_register 0 #x11bdd #x11bdd #x0 #xf6b156b6 #x69706c05 #x3801e8c2 #xccec020e)\\n  (fftwf_dft_r2hc_register 0 #x10bdd #x10bdd #x0 #xea28ce24 #xc8cff39e #xa823c75f #x926c5590)\\n  (fftwf_codelet_r2cb_8 2 #x10bdd #x10bdd #x0 #x669a3813 #x9ba2bb21 #x64e8656d #x87c9de00)\\n  (fftwf_rdft2_rank_geq2_register 0 #x11bdd #x11bdd #x0 #xbd6b8262 #xabd0b6b7 #xe6ad6d03 #x628df7dc)\\n  (fftwf_codelet_r2cbIII_8 2 #x10bdd #x10bdd #x0 #xfb67696a #x19d836b7 #x6b24c329 #xe4fc2e8b)\\n  (fftwf_dft_vrank_geq1_register 0 #x10fdd #x10fdd #x0 #x8676a7b7 #xe006c70d #x487b0278 #xb2f8f002)\\n  (fftwf_rdft2_rank_geq2_register 0 #x10bdd #x10bdd #x0 #xb8bedcad #x45a4525b #xc44e4385 #xa637a3a4)\\n  (fftwf_codelet_n1_32 0 #x10bdd #x10bdd #x0 #x660a6630 #xc4ce3c6a #x62a726bb #x4f6728ee)\\n  (fftwf_codelet_hc2cb_8 0 #x10bdd #x10bdd #x0 #x48259488 #x196c8c29 #x37f91b06 #x556264da)\\n  (fftwf_dft_buffered_register 1 #x10bdd #x10bdd #x0 #xf6843763 #xe67a42c5 #x37896514 #x1934a686)\\n  (fftwf_rdft_rank0_register 3 #x11bdd #x11bdd #x0 #x91607aa1 #xd40dae11 #x01dbbb42 #x733d3911)\\n  (fftwf_codelet_t2fv_32_avx 0 #x10fdd #x10fdd #x0 #x1e5fa302 #x4dca4b4b #x68854fe7 #x57f745da)\\n  (fftwf_dft_vrank_geq1_register 0 #x10bdd #x10bdd #x0 #x51cb679a #x7537ad6d #x1fc7433b #x71e04136)\\n  (fftwf_dft_vrank_geq1_register 0 #x11bdd #x11bdd #x0 #x1fe15182 #x5f3d421c #xba834eb6 #x2292df94)\\n  (fftwf_dft_thr_vrank_geq1_register 0 #x10bdd #x10bdd #x0 #x519e2811 #xfd996521 #x222afcf1 #xa289f0a6)\\n  (fftwf_dft_nop_register 0 #x11bdd #x11bdd #x0 #x2ca97a7c #x1278c07a #x4b274fea #x63afcfcd)\\n  (fftwf_rdft_vrank_geq1_register 0 #x10bdd #x10bdd #x0 #x2b2a182d #x1a4f0eb8 #x4051bfc8 #x50ede16d)\\n  (fftwf_rdft_rank0_register 3 #x10bdd #x10bdd #x0 #xb7dce065 #x1bc70b3f #xefe0c473 #x60ae45b7)\\n  (fftwf_rdft2_vrank_geq1_register 0 #x11bdd #x11bdd #x0 #x32025de0 #x37ce7b0a #x95c084dd #xcd18ab21)\\n  (fftwf_codelet_t2fv_32_avx 0 #x10bdd #x10bdd #x0 #xcd08c9cd #xac2dabe6 #x0a6d47c5 #x5b07814f)\\n  (fftwf_dft_vrank_geq1_register 0 #x10bdd #x10bdd #x0 #x1b302212 #x94fbdfad #xf5eb1b1e #x9cbc4116)\\n  (fftwf_codelet_r2cf_64 0 #x11bdd #x11bdd #x0 #xfd689742 #x8cf30941 #x28dc0368 #x1d560726)\\n  (fftwf_codelet_r2cfII_16 2 #x11bdd #x11bdd #x0 #xf9dc5ef5 #xdbec3d0d #x0942416f #x9d652f91)\\n  (fftwf_codelet_t2bv_32_avx 0 #x10bdd #x10bdd #x0 #xbf8f2281 #x53d808d5 #x34ab52eb #x747f8bf4)\\n  (fftwf_dft_buffered_register 0 #x10bdd #x10bdd #x0 #x7cf6cc98 #x1860681d #x04f92f92 #x64e3787b)\\n  (fftwf_dft_vrank_geq1_register 0 #x10bdd #x10bdd #x0 #xf91e412c #xc1e62b4b #xb772f42b #x91524b5a)\\n  (fftwf_dft_r2hc_register 0 #x10fdd #x10fdd #x0 #xf198bf27 #xb1c4fdb7 #xc76c5370 #xacd19ffe)\\n  (fftwf_rdft2_rank_geq2_register 0 #x10bdd #x10bdd #x0 #xb27d35ea #xa96ba975 #x4796bd74 #xae50e653)\\n  (fftwf_codelet_r2cf_16 2 #x11bdd #x11bdd #x0 #x50d2f46f #x7308bf05 #x1e8d0b64 #x12981444)\\n  (fftwf_rdft_rank0_register 6 #x10fdd #x10fdd #x0 #x31fc48ea #x91190d4a #x7e381771 #xc41342ed)\\n  (fftwf_codelet_n1_32 0 #x10bdd #x10bdd #x0 #xdbd34cc3 #x010b1fae #x10e8d12b #x05b15faf)\\n  (fftwf_rdft2_thr_vrank_geq1_register 0 #x11bdd #x11bdd #x0 #x245908be #x1b45c309 #xfa989829 #xe3448ecb)\\n  (fftwf_dft_thr_vrank_geq1_register 0 #x11bdd #x11bdd #x0 #xce1da3b2 #xb156b9ff #x345deb46 #x24967a68)\\n  (fftwf_rdft2_thr_vrank_geq1_register 0 #x10bdd #x10bdd #x0 #x0478d9e6 #xffc458b2 #xefeba0c5 #xe8fb2e05)\\n  (fftwf_dft_r2hc_register 0 #x10bdd #x10bdd #x0 #x3c666628 #x01043fe7 #x20ba9e85 #x1f9b67a1)\\n  (fftwf_dft_indirect_register 0 #x10bdd #x10bdd #x0 #x938d7e18 #x1343c0de #xbe03a120 #x64e734a9)\\n  (fftwf_dft_nop_register 0 #x10bdd #x10bdd #x0 #xd84e4956 #xbbda597c #x4dcc8ca2 #x8135f48a)\\n  (fftwf_codelet_n1_32 0 #x10fdd #x10fdd #x0 #xd3a62617 #x8a0451dd #x42952706 #x6501219f)\\n  (fftwf_codelet_t1bv_32_avx 0 #x10bdd #x10bdd #x0 #x354d5c68 #x9e923e23 #xcdb19ec8 #xc1743254)\\n  (fftwf_dft_r2hc_register 0 #x11bdd #x11bdd #x0 #x38a08196 #x2a4ca72e #x2d1ba440 #x10600d8c)\\n  (fftwf_codelet_r2cb_128 0 #x10bdd #x10bdd #x0 #x673294cd #xe5b085a3 #xb8a774bf #xfd19dfb2)\\n  (fftwf_dft_nop_register 0 #x10bdd #x10bdd #x0 #xb99abc38 #x8ead8d6b #xf0c5f1c4 #x54d4dbc2)\\n  (fftwf_rdft_rank0_register 3 #x10bdd #x10bdd #x0 #xc38de049 #x749dcc3a #x59c86a86 #xfac577ce)\\n  (fftwf_dft_buffered_register 1 #x11bdd #x11bdd #x0 #xca4b9bb9 #x447b7ee5 #xbb98516b #x49ee082c)\\n  (fftwf_dft_r2hc_register 0 #x11bdd #x11bdd #x0 #x9382d45c #x3b4ef564 #x05a9af24 #x70bb1b32)\\n  (fftwf_rdft_rank0_register 3 #x11bdd #x11bdd #x0 #xb7dce065 #x1bc70b3f #xefe0c473 #x60ae45b7)\\n  (fftwf_dft_r2hc_register 0 #x10bdd #x10bdd #x0 #x043e2cd1 #x12fa8aea #x17cd7852 #xfeb5d3ec)\\n  (fftwf_dft_vrank_geq1_register 0 #x10bdd #x10bdd #x0 #x89cb22ca #x6491b1a8 #xf5f7b0be #x3cd19d43)\\n  (fftwf_codelet_n1bv_32_avx 0 #x10bdd #x10bdd #x0 #x308753a3 #xcc3d5e80 #xf64312e3 #xc698c209)\\n  (fftwf_dft_nop_register 0 #x11bdd #x11bdd #x0 #xdeee3024 #xbaceb843 #xf78f49d6 #x68b91457)\\n)\\n','(fftw-3.3.5 fftwl_wisdom #x0821b5c7 #xa4c07d5a #x21b58211 #xebe513ab\\n)\\n')\n",
    "ft.import_wisdom(wiz)\n",
    "fo = ft.zeros_aligned((N,N,N), dtype='float32')\n",
    "bo = ft.zeros_aligned((N,N,N//2+1), dtype='complex64')\n",
    "fft_object = ft.FFTW(fo,bo,axes=(0,1,2), direction='FFTW_FORWARD', flags=('FFTW_MEASURE', ),threads=8)\n",
    "ifft_object = ft.FFTW(bo,fo,axes=(0,1,2), direction='FFTW_BACKWARD', flags=('FFTW_MEASURE', ),threads=8)\n",
    "\n",
    "end = time.time()\n",
    "print(end-start)"
   ]
  },
  {
   "cell_type": "code",
   "execution_count": 6,
   "metadata": {},
   "outputs": [
    {
     "name": "stdout",
     "output_type": "stream",
     "text": [
      "0.000676870346069\n"
     ]
    }
   ],
   "source": [
    "start = time.time()\n",
    "\n",
    "u = np.zeros((N,N,N), dtype='float32')\n",
    "v = np.zeros((N,N,N), dtype='float32')\n",
    "w = np.zeros((N,N,N), dtype='float32')\n",
    "\n",
    "end = time.time()\n",
    "print(end-start)"
   ]
  },
  {
   "cell_type": "code",
   "execution_count": 7,
   "metadata": {},
   "outputs": [
    {
     "name": "stdout",
     "output_type": "stream",
     "text": [
      "32.1703879833\n"
     ]
    }
   ],
   "source": [
    "start = time.time()\n",
    "\n",
    "nproc = 8\n",
    "nx = N//nproc\n",
    "\n",
    "vx = np.zeros((N//nproc,N,N), dtype='float32')\n",
    "vy = np.zeros((N//nproc,N,N), dtype='float32')\n",
    "vz = np.zeros((N//nproc,N,N), dtype='float32')\n",
    "\n",
    "folder = '/home/admin/scratch'\n",
    "\n",
    "for k in range(nproc):\n",
    "    filename = 'ref-isotropic1024coarse-'+str(k)+'-(t=0.0).npz'\n",
    "    file = folder+'/'+filename\n",
    "    \n",
    "    content = np.load(file)\n",
    "    if(int(content['nproc'])!=nproc):\n",
    "        print(\"Unmatched number of processes. Must first pre-process to adequate number of process\")\n",
    "    \n",
    "    vx[:,:,:] = content['vx']\n",
    "    vy[:,:,:] = content['vy']\n",
    "    vz[:,:,:] = content['vz']\n",
    "    \n",
    "    u[k*nx:(k+1)*nx,:,:] = vx[:,:,:]\n",
    "    v[k*nx:(k+1)*nx,:,:] = vy[:,:,:]\n",
    "    w[k*nx:(k+1)*nx,:,:] = vz[:,:,:]\n",
    "\n",
    "end = time.time()\n",
    "print(end-start)"
   ]
  },
  {
   "cell_type": "code",
   "execution_count": 12,
   "metadata": {
    "collapsed": true
   },
   "outputs": [],
   "source": [
    "del vx,vy,vz"
   ]
  },
  {
   "cell_type": "code",
   "execution_count": 8,
   "metadata": {},
   "outputs": [
    {
     "name": "stdout",
     "output_type": "stream",
     "text": [
      "0.000808000564575\n"
     ]
    }
   ],
   "source": [
    "start = time.time()\n",
    "\n",
    "Nt = 8\n",
    "shS = pymp.shared.array(Nt, dtype='float32')\n",
    "\n",
    "end = time.time()\n",
    "print(end-start)"
   ]
  },
  {
   "cell_type": "code",
   "execution_count": 9,
   "metadata": {
    "collapsed": true
   },
   "outputs": [],
   "source": [
    "chk = N//Nt"
   ]
  },
  {
   "cell_type": "code",
   "execution_count": 18,
   "metadata": {},
   "outputs": [
    {
     "name": "stdout",
     "output_type": "stream",
     "text": [
      "('Average u^2', 0.68271917104721069)\n",
      "(4.3092780113220215, 's')\n"
     ]
    }
   ],
   "source": [
    "start = time.time()\n",
    "\n",
    "with pymp.Parallel(Nt) as p:\n",
    "    for idx in p.range(0,Nt):\n",
    "        shS[idx] = np.average(u[idx*chk:(idx+1)*chk,:,:]**2+v[idx*chk:(idx+1)*chk,:,:]**2+w[idx*chk:(idx+1)*chk,:,:]**2)\n",
    "\n",
    "avgK = 0.5*np.average(shS)\n",
    "\n",
    "print(\"Average u^2\",avgK)\n",
    "        \n",
    "end = time.time()\n",
    "print(end-start,\"s\")"
   ]
  },
  {
   "cell_type": "code",
   "execution_count": 21,
   "metadata": {},
   "outputs": [
    {
     "name": "stdout",
     "output_type": "stream",
     "text": [
      "0.00104212760925\n"
     ]
    }
   ],
   "source": [
    "start = time.time()\n",
    "\n",
    "kx=np.zeros((N,N,N//2+1), dtype='complex64')\n",
    "ky=np.zeros((N,N,N//2+1), dtype='complex64')\n",
    "kz=np.zeros((N,N,N//2+1), dtype='complex64')\n",
    "k2=np.zeros((N,N,N//2+1), dtype='complex64')\n",
    "\n",
    "end = time.time()\n",
    "print(end-start)"
   ]
  },
  {
   "cell_type": "code",
   "execution_count": 12,
   "metadata": {
    "collapsed": true
   },
   "outputs": [],
   "source": [
    "Nt = 8"
   ]
  },
  {
   "cell_type": "code",
   "execution_count": 19,
   "metadata": {},
   "outputs": [
    {
     "name": "stdout",
     "output_type": "stream",
     "text": [
      "1.93322587013\n"
     ]
    }
   ],
   "source": [
    "start = time.time()\n",
    "\n",
    "shA = pymp.shared.array((N,N,N), dtype='float32')\n",
    "\n",
    "end = time.time()\n",
    "print(end-start)"
   ]
  },
  {
   "cell_type": "code",
   "execution_count": 23,
   "metadata": {},
   "outputs": [
    {
     "name": "stdout",
     "output_type": "stream",
     "text": [
      "23.2355670929\n"
     ]
    }
   ],
   "source": [
    "start = time.time()\n",
    "\n",
    "for i in range(N):\n",
    "    kx[i,:,:]=(i+N//2)%N - N//2\n",
    "\n",
    "for j in range(N):\n",
    "    ky[:,j,:]=(j+N//2)%N - N//2\n",
    "\n",
    "for k in range((N//2)+1):\n",
    "    kz[:,:,k]=k \n",
    "\n",
    "k2[:,:,:] = kx[:,:,:]**2 + ky[:,:,:]**2 + kz[:,:,:]**2\n",
    "\n",
    "end = time.time()\n",
    "print(end-start)"
   ]
  },
  {
   "cell_type": "code",
   "execution_count": 24,
   "metadata": {},
   "outputs": [
    {
     "name": "stdout",
     "output_type": "stream",
     "text": [
      "0.00094199180603\n"
     ]
    }
   ],
   "source": [
    "start = time.time()\n",
    "\n",
    "cu = np.zeros((N,N,N//2+1), dtype='complex64')\n",
    "cv = np.zeros((N,N,N//2+1), dtype='complex64')\n",
    "cw = np.zeros((N,N,N//2+1), dtype='complex64')\n",
    "\n",
    "end = time.time()\n",
    "print(end-start)"
   ]
  },
  {
   "cell_type": "code",
   "execution_count": 25,
   "metadata": {},
   "outputs": [
    {
     "name": "stdout",
     "output_type": "stream",
     "text": [
      "44.6994609833\n"
     ]
    }
   ],
   "source": [
    "start = time.time()\n",
    "\n",
    "fo[:,:,:] = u[:,:,:]\n",
    "fft_object.update_arrays(fo,bo)\n",
    "fft_object.execute()\n",
    "cu[:,:,:] = bo[:,:,:]\n",
    "\n",
    "fo[:,:,:] = v[:,:,:]\n",
    "fft_object.update_arrays(fo,bo)\n",
    "fft_object.execute()\n",
    "cv[:,:,:] = bo[:,:,:]\n",
    "\n",
    "fo[:,:,:] = w[:,:,:]\n",
    "fft_object.update_arrays(fo,bo)\n",
    "fft_object.execute()\n",
    "cw[:,:,:] = bo[:,:,:]\n",
    "\n",
    "end = time.time()\n",
    "print(end-start)"
   ]
  },
  {
   "cell_type": "code",
   "execution_count": null,
   "metadata": {
    "collapsed": true
   },
   "outputs": [],
   "source": [
    "start = time.time()\n",
    "\n",
    "A11 = ft.zeros_aligned((N,N,N), dtype='float32')\n",
    "A12 = ft.zeros_aligned((N,N,N), dtype='float32')\n",
    "A13 = ft.zeros_aligned((N,N,N), dtype='float32')\n",
    "A21 = ft.zeros_aligned((N,N,N), dtype='float32')\n",
    "A22 = ft.zeros_aligned((N,N,N), dtype='float32')\n",
    "A23 = ft.zeros_aligned((N,N,N), dtype='float32')\n",
    "A31 = ft.zeros_aligned((N,N,N), dtype='float32')\n",
    "A32 = ft.zeros_aligned((N,N,N), dtype='float32')\n",
    "A33 = ft.zeros_aligned((N,N,N), dtype='float32')\n",
    "\n",
    "end = time.time()\n",
    "print(end-start)"
   ]
  },
  {
   "cell_type": "code",
   "execution_count": null,
   "metadata": {
    "collapsed": true
   },
   "outputs": [],
   "source": [
    "start = time.time()\n",
    "\n",
    "I = np.complex64(0.0+1.0j)\n",
    "\n",
    "bo[:,:,:] = I*kx[:,:,:]*cu[:,:,:]\n",
    "ifft_object.update_arrays(bo,fo)\n",
    "ifft_object.execute()\n",
    "A11[:,:,:] = fo[:,:,:]/(N**3)\n",
    "\n",
    "bo[:,:,:] = I*kx[:,:,:]*cv[:,:,:]\n",
    "ifft_object.update_arrays(bo,fo)\n",
    "ifft_object.execute()\n",
    "A12[:,:,:] = fo[:,:,:]/(N**3)\n",
    "\n",
    "bo[:,:,:] = I*kx[:,:,:]*cw[:,:,:]\n",
    "ifft_object.update_arrays(bo,fo)\n",
    "ifft_object.execute()\n",
    "A13[:,:,:] = fo[:,:,:]/(N**3)\n",
    "\n",
    "bo[:,:,:] = I*ky[:,:,:]*cu[:,:,:]\n",
    "ifft_object.update_arrays(bo,fo)\n",
    "ifft_object.execute()\n",
    "A21[:,:,:] = fo[:,:,:]/(N**3)\n",
    "\n",
    "bo[:,:,:] = I*ky[:,:,:]*cv[:,:,:]\n",
    "ifft_object.update_arrays(bo,fo)\n",
    "ifft_object.execute()\n",
    "A22[:,:,:] = fo[:,:,:]/(N**3)\n",
    "\n",
    "bo[:,:,:] = I*ky[:,:,:]*cw[:,:,:]\n",
    "ifft_object.update_arrays(bo,fo)\n",
    "ifft_object.execute()\n",
    "A23[:,:,:] = fo[:,:,:]/(N**3)\n",
    "\n",
    "bo[:,:,:] = I*kz[:,:,:]*cu[:,:,:]\n",
    "ifft_object.update_arrays(bo,fo)\n",
    "ifft_object.execute()\n",
    "A31[:,:,:] = fo[:,:,:]/(N**3)\n",
    "\n",
    "bo[:,:,:] = I*kz[:,:,:]*cv[:,:,:]\n",
    "ifft_object.update_arrays(bo,fo)\n",
    "ifft_object.execute()\n",
    "A32[:,:,:] = fo[:,:,:]/(N**3)\n",
    "\n",
    "bo[:,:,:] = I*kz[:,:,:]*cw[:,:,:]\n",
    "ifft_object.update_arrays(bo,fo)\n",
    "ifft_object.execute()\n",
    "A33[:,:,:] = fo[:,:,:]/(N**3)\n",
    "\n",
    "end = time.time()\n",
    "print(end-start)"
   ]
  },
  {
   "cell_type": "code",
   "execution_count": null,
   "metadata": {
    "collapsed": true
   },
   "outputs": [],
   "source": [
    "del cu,cv,cw"
   ]
  },
  {
   "cell_type": "code",
   "execution_count": null,
   "metadata": {
    "collapsed": true
   },
   "outputs": [],
   "source": [
    "A  = [A11,A12,A13,A21,A22,A23,A31,A32,A33]\n",
    "la = ['A11','A12','A13','A21','A22','A23','A31','A32','A33']\n",
    "\n",
    "for i in range(9):\n",
    "    with pymp.Parallel(Nt) as p:\n",
    "        for idx in p.range(0,Nt):\n",
    "            shS[idx] = np.average(A[i])\n",
    "    \n",
    "    Aav = np.average(shS)\n",
    "    print(\"<\"+la[i]+\"> = \"+str(Aav))"
   ]
  },
  {
   "cell_type": "code",
   "execution_count": null,
   "metadata": {
    "collapsed": true
   },
   "outputs": [],
   "source": [
    "A  = [A11,A12,A13,A21,A22,A23,A31,A32,A33]\n",
    "la = ['A11','A12','A13','A21','A22','A23','A31','A32','A33']\n",
    "\n",
    "for i in range(9):\n",
    "    # A2av = np.average(A[i]**2)\n",
    "    with pymp.Parallel(Nt) as p:\n",
    "        for idx in p.range(0,Nt):\n",
    "            shS[idx] = np.average(A[i]**2)\n",
    "    \n",
    "    A2av = np.average(shS)\n",
    "    print(\"<\"+la[i]+\"^2> = \"+str(A2av))"
   ]
  },
  {
   "cell_type": "code",
   "execution_count": null,
   "metadata": {
    "collapsed": true
   },
   "outputs": [],
   "source": [
    "A  = [A11,A12,A13,A21,A22,A23,A31,A32,A33]\n",
    "la = ['A11','A12','A13','A21','A22','A23','A31','A32','A33']\n",
    "\n",
    "for i in range(9):\n",
    "    with pymp.Parallel(Nt) as p:\n",
    "        for idx in p.range(0,Nt):\n",
    "            shS[idx] = np.average(A[idx*chk:(idx+1)*chk,:,:]**2)\n",
    "    \n",
    "    A2av = np.average(shS)\n",
    "    print(\"<\"+la[i]+\"^2> = \"+str(A2av))\n",
    "    \n",
    "    with pymp.Parallel(Nt) as p:\n",
    "        for idx in p.range(0,Nt):\n",
    "            shS[idx] = np.average((A[idx*chk:(idx+1)*chk,:,:]/np.sqrt(A2av))**3)\n",
    "    \n",
    "    A3av_skew = np.average(shS)\n",
    "    print(\"skewness = <\"+la[i]+\"^3>/\"+\"<\"+la[i]\n",
    "                        +\"^2>^(3/2) \"+\"= \"+str(A3av) )"
   ]
  },
  {
   "cell_type": "code",
   "execution_count": null,
   "metadata": {
    "collapsed": true
   },
   "outputs": [],
   "source": [
    "# div = A11+A22+A33 \n",
    "with pymp.Parallel(Nt) as p:\n",
    "    for idx in p.range(0,Nt):\n",
    "        shA[idx*chk:(idx+1)*chk,:,:] = A11[idx*chk:(idx+1)*chk,:,:] \n",
    "                                     + A22[idx*chk:(idx+1)*chk,:,:] \n",
    "                                     + A33[idx*chk:(idx+1)*chk,:,:]\n",
    "\n",
    "# div2av = np.average(div**2)\n",
    "with pymp.Parallel(Nt) as p:\n",
    "    for idx in p.range(0,Nt):\n",
    "        shS[idx] = np.average(shA[idx*chk:(idx+1)*chk,:,:]**2)\n",
    "        \n",
    "div2av = np.average(shS)\n",
    "print(\"sqrt(<(div v)^2>) = \"+str(np.sqrt(div2av)))"
   ]
  },
  {
   "cell_type": "code",
   "execution_count": null,
   "metadata": {
    "collapsed": true
   },
   "outputs": [],
   "source": [
    "%matplotlib inline\n",
    "\n",
    "vx_xl  =   u[:,0,0]\n",
    "vx_xldx = A11[:,0,0]\n",
    "\n",
    "pos = vx_xldx > 0\n",
    "neg = vx_xldx < 0\n",
    "scale = 30\n",
    "\n",
    "Y = np.linspace(0,2.*np.pi,N,endpoint=False)\n",
    "    \n",
    "dx = 2.*np.pi/1024\n",
    "vlgrx = np.gradient(vx_xl)/dx\n",
    "    \n",
    "plt.plot(Y[pos],vx_xl[pos],'r.')\n",
    "plt.plot(Y[pos],vx_xldx[pos]/scale,'b.')\n",
    "    \n",
    "plt.plot(Y[neg],vx_xl[neg],'m.')\n",
    "plt.plot(Y[neg],vx_xldx[neg]/scale,'k.')\n",
    "    \n",
    "plt.plot(Y,vlgrx/scale,'g')\n",
    "plt.grid()\n",
    "    \n",
    "plt.xlim((1,2))\n",
    "  \n",
    "plt.show()"
   ]
  },
  {
   "cell_type": "code",
   "execution_count": null,
   "metadata": {
    "collapsed": true
   },
   "outputs": [],
   "source": [
    "%matplotlib inline\n",
    "\n",
    "vx_xl   =   u[:,0,0]\n",
    "vy_xl   =   v[:,0,0]\n",
    "vz_xl   =   w[:,0,0]\n",
    "\n",
    "vx_xldx = A11[:,0,0]\n",
    "vy_xldx = A12[:,0,0]\n",
    "vz_xldx = A13[:,0,0]\n",
    "\n",
    "dx = (2.*np.pi)/N\n",
    "\n",
    "vxlgrx = np.gradient(vx_xl)/dx\n",
    "vylgrx = np.gradient(vy_xl)/dx\n",
    "vzlgrx = np.gradient(vz_xl)/dx\n",
    "\n",
    "pos = vx_xldx > 0\n",
    "neg = vx_xldx < 0\n",
    "scale = 30\n",
    "\n",
    "Y = np.linspace(0,2.*np.pi,N,endpoint=False)\n",
    "\n",
    "########################\n",
    "\n",
    "plt.xlim((1,2))\n",
    "plt.grid()\n",
    "plt.plot(Y,vx_xldx,'r.')\n",
    "plt.plot(Y,vxlgrx,'c-')\n",
    "    \n",
    "plt.show()\n",
    "   \n",
    "plt.xlim((1,2))\n",
    "plt.grid()\n",
    "plt.plot(Y,vy_xldx,'g.')\n",
    "plt.plot(Y,vylgrx,'k-')\n",
    "    \n",
    "plt.show()\n",
    "   \n",
    "plt.xlim((1,2))\n",
    "plt.grid()\n",
    "plt.plot(Y,vz_xldx,'b.')\n",
    "plt.plot(Y,vzlgrx,'m-')\n",
    "    \n",
    "plt.show()"
   ]
  },
  {
   "cell_type": "code",
   "execution_count": null,
   "metadata": {
    "collapsed": true
   },
   "outputs": [],
   "source": [
    "%matplotlib inline\n",
    "\n",
    "vx_xl   =   u[:,0,0]\n",
    "vx_yl   =   u[0,:,0]\n",
    "vx_zl   =   u[0,0,:]\n",
    "\n",
    "vx_xldx = A11[:,0,0]\n",
    "vx_xldy = A21[0,:,0]\n",
    "vx_xldz = A31[0,0,:]\n",
    "\n",
    "dx = (2.*np.pi)/N\n",
    "\n",
    "vxlgrx = np.gradient(vx_xl)/dx\n",
    "vxlgry = np.gradient(vx_yl)/dx\n",
    "vxlgrz = np.gradient(vx_zl)/dx\n",
    "\n",
    "Y = np.linspace(0,2.*np.pi,N,endpoint=False)\n",
    "\n",
    "########################\n",
    "\n",
    "plt.xlim((1,2))\n",
    "plt.grid()\n",
    "plt.plot(Y,vx_xldx,'r.')\n",
    "plt.plot(Y,vxlgrx,'c-')\n",
    "    \n",
    "plt.show()\n",
    "   \n",
    "plt.xlim((1,2))\n",
    "plt.grid()\n",
    "plt.plot(Y,vx_xldy,'g.')\n",
    "plt.plot(Y,vxlgry,'k-')\n",
    "    \n",
    "plt.show()\n",
    "   \n",
    "plt.xlim((1,2))\n",
    "plt.grid()\n",
    "plt.plot(Y,vx_xldz,'b.')\n",
    "plt.plot(Y,vxlgrz,'m-')\n",
    "    \n",
    "plt.show()"
   ]
  },
  {
   "cell_type": "code",
   "execution_count": null,
   "metadata": {
    "collapsed": true
   },
   "outputs": [],
   "source": [
    "%matplotlib inline\n",
    "\n",
    "vy_xl   =   v[:,0,0]\n",
    "vy_yl   =   v[0,:,0]\n",
    "vy_zl   =   v[0,0,:]\n",
    "\n",
    "vy_xldx = A12[:,0,0]\n",
    "vy_xldy = A22[0,:,0]\n",
    "vy_xldz = A32[0,0,:]\n",
    "\n",
    "dx = (2.*np.pi)/N\n",
    "\n",
    "vylgrx = np.gradient(vy_xl)/dx\n",
    "vylgry = np.gradient(vy_yl)/dx\n",
    "vylgrz = np.gradient(vy_zl)/dx\n",
    "\n",
    "Y = np.linspace(0,2.*np.pi,N,endpoint=False)\n",
    "\n",
    "########################\n",
    "\n",
    "plt.xlim((1,2))\n",
    "plt.grid()\n",
    "plt.plot(Y,vy_xldx,'r.')\n",
    "plt.plot(Y,vylgrx,'c-')\n",
    "    \n",
    "plt.show()\n",
    "   \n",
    "plt.xlim((1,2))\n",
    "plt.grid()\n",
    "plt.plot(Y,vy_xldy,'g.')\n",
    "plt.plot(Y,vylgry,'k-')\n",
    "    \n",
    "plt.show()\n",
    "   \n",
    "plt.xlim((1,2))\n",
    "plt.grid()\n",
    "plt.plot(Y,vy_xldz,'b.')\n",
    "plt.plot(Y,vylgrz,'m-')\n",
    "    \n",
    "plt.show()"
   ]
  },
  {
   "cell_type": "code",
   "execution_count": null,
   "metadata": {
    "collapsed": true
   },
   "outputs": [],
   "source": [
    "Q = np.zeros((N,N,N), dtype='float32')\n",
    "\n",
    "with pymp.Parallel(Nt) as p:\n",
    "    for idx in p.range(0,Nt):\n",
    "        shA[idx*chk:(idx+1)*chk,:,:] = A12[idx*chk:(idx+1)*chk,:,:]*A21[idx*chk:(idx+1)*chk,:,:]\n",
    "                                     + A23[idx*chk:(idx+1)*chk,:,:]*A32[idx*chk:(idx+1)*chk,:,:]\n",
    "                                     + A13[idx*chk:(idx+1)*chk,:,:]*A31[idx*chk:(idx+1)*chk,:,:]\n",
    "                                     - A22[idx*chk:(idx+1)*chk,:,:]*A33[idx*chk:(idx+1)*chk,:,:]\n",
    "                                     - A11[idx*chk:(idx+1)*chk,:,:]*A33[idx*chk:(idx+1)*chk,:,:]\n",
    "                                     - A11[idx*chk:(idx+1)*chk,:,:]*A22[idx*chk:(idx+1)*chk,:,:]\n",
    "\n",
    "Q[:,:,:] = shA[:,:,:]"
   ]
  },
  {
   "cell_type": "code",
   "execution_count": null,
   "metadata": {
    "collapsed": true
   },
   "outputs": [],
   "source": [
    "with pymp.Parallel(Nt) as p:\n",
    "    for idx in p.range(0,Nt):\n",
    "        shS[idx] = np.average(Q[idx*chk:(idx+1)*chk,:,:])\n",
    "        \n",
    "avgQ = np.average(shS)\n",
    "        \n",
    "print(\"Average Q = \"+str(avgQ))"
   ]
  },
  {
   "cell_type": "code",
   "execution_count": null,
   "metadata": {
    "collapsed": true
   },
   "outputs": [],
   "source": [
    "R = np.zeros((N,N,N), dtype='float32')\n",
    "\n",
    "with pymp.Parallel(Nt) as p:\n",
    "    for idx in p.range(0,Nt):\n",
    "        shA[idx*chk:(idx+1)*chk,:,:] = A11[idx*chk:(idx+1)*chk,:,:]**3\n",
    "                                     + A22[idx*chk:(idx+1)*chk,:,:]**3\n",
    "                                     + A33[idx*chk:(idx+1)*chk,:,:]**3\n",
    "                                     + 3*A11[idx*chk:(idx+1)*chk,:,:]*(A21[idx*chk:(idx+1)*chk,:,:]*A12[idx*chk:(idx+1)*chk,:,:]+A13[idx*chk:(idx+1)*chk,:,:]*A31[idx*chk:(idx+1)*chk,:,:])\n",
    "                                     + 3*A22[idx*chk:(idx+1)*chk,:,:]*(A12[idx*chk:(idx+1)*chk,:,:]*A21[idx*chk:(idx+1)*chk,:,:]+A23[idx*chk:(idx+1)*chk,:,:]*A32[idx*chk:(idx+1)*chk,:,:])\n",
    "                                     + 3*A33[idx*chk:(idx+1)*chk,:,:]*(A13[idx*chk:(idx+1)*chk,:,:]*A31[idx*chk:(idx+1)*chk,:,:]+A23[idx*chk:(idx+1)*chk,:,:]*A32[idx*chk:(idx+1)*chk,:,:])\n",
    "                                     + 3*A13[idx*chk:(idx+1)*chk,:,:]*A21[idx*chk:(idx+1)*chk,:,:]*A32[idx*chk:(idx+1)*chk,:,:]\n",
    "                                     + 3*A12[idx*chk:(idx+1)*chk,:,:]*A23[idx*chk:(idx+1)*chk,:,:]*A31[idx*chk:(idx+1)*chk,:,:]\n",
    "                    \n",
    "Q[:,:,:] = shA[:,:,:]"
   ]
  },
  {
   "cell_type": "code",
   "execution_count": null,
   "metadata": {
    "collapsed": true
   },
   "outputs": [],
   "source": [
    "with pymp.Parallel(Nt) as p:\n",
    "    for idx in p.range(0,Nt):\n",
    "        shS[idx] = np.average(Q[idx*chk:(idx+1)*chk,:,:]**2)\n",
    "        \n",
    "avgQ2 = np.average(shS)\n",
    "        \n",
    "print(\"<Q^2> = \"+str(avgQ2))"
   ]
  },
  {
   "cell_type": "code",
   "execution_count": null,
   "metadata": {
    "collapsed": true
   },
   "outputs": [],
   "source": [
    "with pymp.Parallel(Nt) as p:\n",
    "    for idx in p.range(0,Nt):\n",
    "        shS[idx] = np.average(R[idx*chk:(idx+1)*chk,:,:])\n",
    "        \n",
    "avgR = np.average(shS)\n",
    "        \n",
    "print(\"<R>/<Q^2>^(3/2) = \"+str(avgR/(avgQ2**1.5)))"
   ]
  },
  {
   "cell_type": "code",
   "execution_count": null,
   "metadata": {
    "collapsed": true
   },
   "outputs": [],
   "source": [
    "del Q,R"
   ]
  },
  {
   "cell_type": "code",
   "execution_count": null,
   "metadata": {
    "collapsed": true
   },
   "outputs": [],
   "source": [
    "Omega = np.zeros((N,N,N), dtype='float32')\n",
    "\n",
    "with pymp.Parallel(Nt) as p:\n",
    "    for idx in p.range(0,Nt):\n",
    "        shA[idx*chk:(idx+1)*chk,:,:] = A12[idx*chk:(idx+1)*chk,:,:]**2\n",
    "                                     + A21[idx*chk:(idx+1)*chk,:,:]**2\n",
    "                                     + A13[idx*chk:(idx+1)*chk,:,:]**2\n",
    "                                     + A31[idx*chk:(idx+1)*chk,:,:]**2\n",
    "                                     + A23[idx*chk:(idx+1)*chk,:,:]**2\n",
    "                                     + A32[idx*chk:(idx+1)*chk,:,:]**2\n",
    "                                     - 2.*A12[idx*chk:(idx+1)*chk,:,:]*A21[idx*chk:(idx+1)*chk,:,:]\n",
    "                                     - 2.*A13[idx*chk:(idx+1)*chk,:,:]*A31[idx*chk:(idx+1)*chk,:,:]\n",
    "                                     - 2.*A23[idx*chk:(idx+1)*chk,:,:]*A32[idx*chk:(idx+1)*chk,:,:]\n",
    "                    \n",
    "Omega[:,:,:] = 0.5*shA[:,:,:]"
   ]
  },
  {
   "cell_type": "code",
   "execution_count": null,
   "metadata": {
    "collapsed": true
   },
   "outputs": [],
   "source": [
    "Epsilon = np.zeros((N,N,N), dtype='float32')\n",
    "\n",
    "with pymp.Parallel(Nt) as p:\n",
    "    for idx in p.range(0,Nt):\n",
    "        shA[idx*chk:(idx+1)*chk,:,:] = A11[idx*chk:(idx+1)*chk,:,:]**2\n",
    "                                     + A22[idx*chk:(idx+1)*chk,:,:]**2\n",
    "                                     + A33[idx*chk:(idx+1)*chk,:,:]**2\n",
    "        shA[idx*chk:(idx+1)*chk,:,:] += 0.5*A12[idx*chk:(idx+1)*chk,:,:]**2\n",
    "                                      + 0.5*A21[idx*chk:(idx+1)*chk,:,:]**2\n",
    "                                      + 0.5*A13[idx*chk:(idx+1)*chk,:,:]**2\n",
    "                                      + 0.5*A31[idx*chk:(idx+1)*chk,:,:]**2\n",
    "                                      + 0.5*A23[idx*chk:(idx+1)*chk,:,:]**2\n",
    "                                      + 0.5*A32[idx*chk:(idx+1)*chk,:,:]**2\n",
    "        shA[idx*chk:(idx+1)*chk,:,:] += A12[idx*chk:(idx+1)*chk,:,:]*A21[idx*chk:(idx+1)*chk,:,:]\n",
    "                                      + A13[idx*chk:(idx+1)*chk,:,:]*A31[idx*chk:(idx+1)*chk,:,:]\n",
    "                                      + A23[idx*chk:(idx+1)*chk,:,:]*A32[idx*chk:(idx+1)*chk,:,:]\n",
    "                    \n",
    "Epsilon[:,:,:] = 0.5*shA[:,:,:]"
   ]
  },
  {
   "cell_type": "code",
   "execution_count": null,
   "metadata": {
    "collapsed": true
   },
   "outputs": [],
   "source": [
    "with pymp.Parallel(Nt) as p:\n",
    "    for idx in p.range(0,Nt):\n",
    "        shS[idx] = np.average(Omega[idx*chk:(idx+1)*chk,:,:])\n",
    "        \n",
    "avgO = np.average(shS)"
   ]
  },
  {
   "cell_type": "code",
   "execution_count": null,
   "metadata": {
    "collapsed": true
   },
   "outputs": [],
   "source": [
    "with pymp.Parallel(Nt) as p:\n",
    "    for idx in p.range(0,Nt):\n",
    "        shS[idx] = np.average(Epsilon[idx*chk:(idx+1)*chk,:,:])\n",
    "        \n",
    "avgE = np.average(shS)"
   ]
  },
  {
   "cell_type": "code",
   "execution_count": null,
   "metadata": {
    "collapsed": true
   },
   "outputs": [],
   "source": [
    "print(\"Average enstrophy: \"+str(avgO))\n",
    "print(\"Average strainrate: \"+str(avgE))\n",
    "print(\"Average strainrate - enstrophy: \"+str(avgE-avgO))\n",
    "print(\"Normalized strainrate - enstrophy: \"+str((avgE-avgO)/avgO))"
   ]
  },
  {
   "cell_type": "code",
   "execution_count": null,
   "metadata": {
    "collapsed": true
   },
   "outputs": [],
   "source": [
    "del Omega,Epsilon"
   ]
  },
  {
   "cell_type": "code",
   "execution_count": null,
   "metadata": {
    "collapsed": true
   },
   "outputs": [],
   "source": [
    "nu = 0.000185\n",
    "eps = 2*nu*avgE"
   ]
  },
  {
   "cell_type": "code",
   "execution_count": null,
   "metadata": {
    "collapsed": true
   },
   "outputs": [],
   "source": [
    "urms = np.sqrt(2.*avgK/3)\n",
    "lamb = np.sqrt(15.*nu/eps)*urms\n",
    "ReTayor = urms*lamb/nu\n",
    "print(\"nu = \"+str(nu))\n",
    "print(\"urms = \"+str(urms)+\", Reference: 0.6820399\")\n",
    "print(\"eps = \"+ str(eps))\n",
    "print(\"kinectic energy = \"+str(avgK))\n",
    "print(\"Taylor micro-scale =\"+str(lamb))\n",
    "print(\"ReLamb = \"+str(ReTayor)+\", Reference: 426.8378\")"
   ]
  },
  {
   "cell_type": "code",
   "execution_count": null,
   "metadata": {
    "collapsed": true
   },
   "outputs": [],
   "source": []
  }
 ],
 "metadata": {
  "kernelspec": {
   "display_name": "Python 2",
   "language": "python",
   "name": "python2"
  },
  "language_info": {
   "codemirror_mode": {
    "name": "ipython",
    "version": 2
   },
   "file_extension": ".py",
   "mimetype": "text/x-python",
   "name": "python",
   "nbconvert_exporter": "python",
   "pygments_lexer": "ipython2",
   "version": "2.7.13"
  }
 },
 "nbformat": 4,
 "nbformat_minor": 1
}
