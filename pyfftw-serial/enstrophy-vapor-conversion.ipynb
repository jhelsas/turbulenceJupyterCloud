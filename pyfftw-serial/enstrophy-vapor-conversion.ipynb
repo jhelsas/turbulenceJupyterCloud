{
 "cells": [
  {
   "cell_type": "code",
   "execution_count": 1,
   "metadata": {
    "collapsed": false
   },
   "outputs": [],
   "source": [
    "import os\n",
    "import sys\n",
    "import time\n",
    "import h5py\n",
    "import struct\n",
    "import numpy as np\n",
    "import pyfftw as ft\n",
    "from array import *\n",
    "import matplotlib.pyplot as plt\n",
    "import numpyVapor as npV"
   ]
  },
  {
   "cell_type": "code",
   "execution_count": 2,
   "metadata": {
    "collapsed": true
   },
   "outputs": [],
   "source": [
    "N = 1024"
   ]
  },
  {
   "cell_type": "code",
   "execution_count": 3,
   "metadata": {
    "collapsed": true
   },
   "outputs": [],
   "source": [
    "w2 = ft.zeros_aligned((N,N,N), dtype='float32')"
   ]
  },
  {
   "cell_type": "code",
   "execution_count": 13,
   "metadata": {
    "collapsed": false
   },
   "outputs": [],
   "source": [
    "folder = '/home/idies/workspace/scratch'\n",
    "\n",
    "nproc = 8\n",
    "nx = N//nproc\n",
    "\n",
    "lw2 = ft.zeros_aligned((N//nproc,N,N), dtype='float32')\n",
    "\n",
    "for k in range(nproc):\n",
    "    filename = 'menger-sponge-'+str(k)+'.npz' #menger-sponge-'+str(k)+'.npz'\n",
    "    file0 = folder+'/'+filename\n",
    "    \n",
    "    content = np.load(file0)\n",
    "    #if(int(content['nproc'])!=nproc):\n",
    "    #    print(\"Unmatched number of processes. Must first pre-process to adequate number of process\")\n",
    "    \n",
    "    lw2[:,:,:] = content['lchi']\n",
    "    \n",
    "    w2[k*nx:(k+1)*nx,:,:] = lw2[:,:,:]"
   ]
  },
  {
   "cell_type": "code",
   "execution_count": 14,
   "metadata": {
    "collapsed": false
   },
   "outputs": [
    {
     "name": "stdout",
     "output_type": "stream",
     "text": [
      "Average enstrophy: 0.112128898501\n"
     ]
    }
   ],
   "source": [
    "avgO = np.average(w2)\n",
    "print(\"Average enstrophy: \"+str(0.5*avgO))"
   ]
  },
  {
   "cell_type": "code",
   "execution_count": 15,
   "metadata": {
    "collapsed": true
   },
   "outputs": [],
   "source": [
    "name = \"enstrophy\"\n",
    "#folder = '/home/jhelsas/scratch'\n",
    "folder = '/home/idies/workspace/scratch'"
   ]
  },
  {
   "cell_type": "code",
   "execution_count": 16,
   "metadata": {
    "collapsed": true
   },
   "outputs": [],
   "source": [
    "N_x = N\n",
    "N_y = N\n",
    "N_z = N\n",
    "\n",
    "x_f = np.linspace(0,2*np.pi,N,endpoint=False)\n",
    "y_f = np.linspace(0,2*np.pi,N,endpoint=False)\n",
    "z_f = np.linspace(0,2*np.pi,N,endpoint=False)\n",
    "\n",
    "L_x = 2*np.pi\n",
    "L_y = 2*np.pi\n",
    "L_z = 2*np.pi"
   ]
  },
  {
   "cell_type": "code",
   "execution_count": 17,
   "metadata": {
    "collapsed": false
   },
   "outputs": [
    {
     "name": "stdout",
     "output_type": "stream",
     "text": [
      "vdfcreate -dimension 1024x1024x1024 -level 0 -extents 0:0:0:1.0:1.0:1.0 -vars3d enstrophy /home/idies/workspace/scratch/enstrophy.vdf\n",
      "raw2vdf -varname enstrophy /home/idies/workspace/scratch/enstrophy.vdf /home/idies/workspace/scratch/enstrophy\n"
     ]
    }
   ],
   "source": [
    "npV.convert_np_scalar_to_vdf(folder,name,name,w2,x_f,y_f,z_f,N_x,N_y,N_z,L_x,L_y,L_z)"
   ]
  },
  {
   "cell_type": "code",
   "execution_count": 10,
   "metadata": {
    "collapsed": true
   },
   "outputs": [],
   "source": [
    "chi = ft.zeros_aligned((N,N,N), dtype='float32')"
   ]
  },
  {
   "cell_type": "code",
   "execution_count": 24,
   "metadata": {
    "collapsed": false
   },
   "outputs": [
    {
     "name": "stdout",
     "output_type": "stream",
     "text": [
      "vdfcreate -dimension 1024x1024x1024 -level 0 -extents 0:0:0:1.0:1.0:1.0 -vars3d 1 /home/jhelsas/scratch/1.vdf\n",
      "raw2vdf -varname 1 /home/jhelsas/scratch/1.vdf /home/jhelsas/scratch/1\n",
      "vdfcreate -dimension 1024x1024x1024 -level 0 -extents 0:0:0:1.0:1.0:1.0 -vars3d 2 /home/jhelsas/scratch/2.vdf\n",
      "raw2vdf -varname 2 /home/jhelsas/scratch/2.vdf /home/jhelsas/scratch/2\n",
      "vdfcreate -dimension 1024x1024x1024 -level 0 -extents 0:0:0:1.0:1.0:1.0 -vars3d 3 /home/jhelsas/scratch/3.vdf\n",
      "raw2vdf -varname 3 /home/jhelsas/scratch/3.vdf /home/jhelsas/scratch/3\n",
      "vdfcreate -dimension 1024x1024x1024 -level 0 -extents 0:0:0:1.0:1.0:1.0 -vars3d 4 /home/jhelsas/scratch/4.vdf\n",
      "raw2vdf -varname 4 /home/jhelsas/scratch/4.vdf /home/jhelsas/scratch/4\n",
      "vdfcreate -dimension 1024x1024x1024 -level 0 -extents 0:0:0:1.0:1.0:1.0 -vars3d 5 /home/jhelsas/scratch/5.vdf\n",
      "raw2vdf -varname 5 /home/jhelsas/scratch/5.vdf /home/jhelsas/scratch/5\n",
      "vdfcreate -dimension 1024x1024x1024 -level 0 -extents 0:0:0:1.0:1.0:1.0 -vars3d 6 /home/jhelsas/scratch/6.vdf\n",
      "raw2vdf -varname 6 /home/jhelsas/scratch/6.vdf /home/jhelsas/scratch/6\n"
     ]
    }
   ],
   "source": [
    "for t in [1,2,3,4,5,6]:\n",
    "    chi[:,:,:] = 0.\n",
    "    chi[w2 > t*avgO] = 1\n",
    "    name = str(t)\n",
    "    npV.convert_np_scalar_to_vdf(folder,name,name,chi,x_f,y_f,z_f,N_x,N_y,N_z,L_x,L_y,L_z)"
   ]
  },
  {
   "cell_type": "code",
   "execution_count": 23,
   "metadata": {
    "collapsed": false
   },
   "outputs": [
    {
     "name": "stdout",
     "output_type": "stream",
     "text": [
      "vdfcreate -dimension 1024x1024x1024 -level 0 -extents 0:0:0:1.0:1.0:1.0 -vars3d excursion_set /home/jhelsas/scratch/excursion_set.vdf\n",
      "raw2vdf -varname excursion_set /home/jhelsas/scratch/excursion_set.vdf /home/jhelsas/scratch/excursion_set\n"
     ]
    }
   ],
   "source": [
    "t=5\n",
    "\n",
    "chi[:,:,:] = 0.\n",
    "chi[w2 > t*avgO] = 1\n",
    "name = 'excursion_set'\n",
    "npV.convert_np_scalar_to_vdf(folder,name,name,chi,x_f,y_f,z_f,N_x,N_y,N_z,L_x,L_y,L_z)"
   ]
  },
  {
   "cell_type": "code",
   "execution_count": 25,
   "metadata": {
    "collapsed": false
   },
   "outputs": [
    {
     "name": "stdout",
     "output_type": "stream",
     "text": [
      "vdfcreate -dimension 1024x1024x1024 -level 0 -extents 0:0:0:1.0:1.0:1.0 -vars3d excursion_set_50 /home/jhelsas/scratch/excursion_set_50.vdf\n",
      "raw2vdf -varname excursion_set_50 /home/jhelsas/scratch/excursion_set_50.vdf /home/jhelsas/scratch/excursion_set_50\n"
     ]
    }
   ],
   "source": [
    "t=50\n",
    "\n",
    "chi[:,:,:] = 0.\n",
    "chi[w2 > t*avgO] = 1\n",
    "name = 'excursion_set_50'\n",
    "npV.convert_np_scalar_to_vdf(folder,name,name,chi,x_f,y_f,z_f,N_x,N_y,N_z,L_x,L_y,L_z)"
   ]
  },
  {
   "cell_type": "code",
   "execution_count": 26,
   "metadata": {
    "collapsed": false
   },
   "outputs": [
    {
     "name": "stdout",
     "output_type": "stream",
     "text": [
      "vdfcreate -dimension 1024x1024x1024 -level 0 -extents 0:0:0:1.0:1.0:1.0 -vars3d excursion_enstrophy /home/jhelsas/scratch/excursion_enstrophy.vdf\n",
      "raw2vdf -varname excursion_enstrophy /home/jhelsas/scratch/excursion_enstrophy.vdf /home/jhelsas/scratch/excursion_enstrophy\n"
     ]
    }
   ],
   "source": [
    "t=10\n",
    "\n",
    "chi[:,:,:] = 0.\n",
    "chi[w2 > t*avgO] = 1\n",
    "name = 'excursion_enstrophy'\n",
    "npV.convert_np_scalar_to_vdf(folder,name,name,chi*w2,x_f,y_f,z_f,N_x,N_y,N_z,L_x,L_y,L_z)"
   ]
  },
  {
   "cell_type": "code",
   "execution_count": 27,
   "metadata": {
    "collapsed": false
   },
   "outputs": [
    {
     "name": "stdout",
     "output_type": "stream",
     "text": [
      "vdfcreate -dimension 1024x1024x1024 -level 0 -extents 0:0:0:1.0:1.0:1.0 -vars3d excursion_enstrophy_25 /home/jhelsas/scratch/excursion_enstrophy_25.vdf\n",
      "raw2vdf -varname excursion_enstrophy_25 /home/jhelsas/scratch/excursion_enstrophy_25.vdf /home/jhelsas/scratch/excursion_enstrophy_25\n"
     ]
    }
   ],
   "source": [
    "t=25\n",
    "\n",
    "chi[:,:,:] = 0.\n",
    "chi[w2 > t*avgO] = 1\n",
    "name = 'excursion_enstrophy_25'\n",
    "npV.convert_np_scalar_to_vdf(folder,name,name,chi*w2,x_f,y_f,z_f,N_x,N_y,N_z,L_x,L_y,L_z)"
   ]
  },
  {
   "cell_type": "code",
   "execution_count": null,
   "metadata": {
    "collapsed": true
   },
   "outputs": [],
   "source": []
  }
 ],
 "metadata": {
  "kernelspec": {
   "display_name": "Python 2",
   "language": "python",
   "name": "python2"
  },
  "language_info": {
   "codemirror_mode": {
    "name": "ipython",
    "version": 2
   },
   "file_extension": ".py",
   "mimetype": "text/x-python",
   "name": "python",
   "nbconvert_exporter": "python",
   "pygments_lexer": "ipython2",
   "version": "2.7.11"
  }
 },
 "nbformat": 4,
 "nbformat_minor": 1
}
