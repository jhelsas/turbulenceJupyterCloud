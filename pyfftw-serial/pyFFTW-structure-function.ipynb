{
 "cells": [
  {
   "cell_type": "code",
   "execution_count": 1,
   "metadata": {
    "collapsed": true
   },
   "outputs": [],
   "source": [
    "import h5py\n",
    "import matplotlib.pyplot as plt\n",
    "import numpy as np\n",
    "import os\n",
    "import pyfftw as ft\n",
    "import time\n",
    "import pyJHTDB\n",
    "from pyJHTDB.dbinfo import isotropic1024coarse\n",
    "from pyJHTDB import libJHTDB"
   ]
  },
  {
   "cell_type": "code",
   "execution_count": null,
   "metadata": {
    "collapsed": true
   },
   "outputs": [],
   "source": [
    "N = 1024"
   ]
  },
  {
   "cell_type": "code",
   "execution_count": null,
   "metadata": {
    "collapsed": true
   },
   "outputs": [],
   "source": [
    "u = ft.zeros_aligned((N,N,N), dtype='float32')\n",
    "v = ft.zeros_aligned((N,N,N), dtype='float32')\n",
    "w = ft.zeros_aligned((N,N,N), dtype='float32')"
   ]
  },
  {
   "cell_type": "code",
   "execution_count": null,
   "metadata": {
    "collapsed": true
   },
   "outputs": [],
   "source": [
    "wiz = (b'(fftw-3.3.4 fftw_wisdom #x41ad5c95 #x159437f1 #x23fdee71 #xc6cf4464\\n)\\n', b'(fftw-3.3.4 fftwf_wisdom #xa84d9475 #xdb220970 #x4aa6f1c4 #xf3163254\\n  (fftwf_rdft2_vrank_geq1_register 0 #x10bdd #x10bdd #x0 #x51dc8415 #xe75b399c #x04081a87 #xb9b03603)\\n  (fftwf_codelet_hc2cf_8 0 #x11bdd #x11bdd #x0 #xa3aa3245 #xfa89ad84 #x6f51d136 #x21269ea8)\\n  (fftwf_codelet_q1_4 0 #x10fdd #x10fdd #x0 #xee87b2d5 #x3e497607 #xfff1907f #xf9579a39)\\n  (fftwf_rdft_vrank_geq1_register 0 #x11bdd #x11bdd #x0 #x2fdf6c57 #xa3a423cb #x3c83b16e #xd62995da)\\n  (fftwf_dft_nop_register 0 #x11bdd #x11bdd #x0 #xb5f6482a #x970cff75 #xad1e3938 #x526a74d7)\\n  (fftwf_rdft_vrank_geq1_register 0 #x10bdd #x10bdd #x0 #x2b2a182d #x1a4f0eb8 #x4051bfc8 #x50ede16d)\\n  (fftwf_codelet_t1_4 0 #x10fdd #x10fdd #x0 #x914f085b #x7945eab1 #xb24b3509 #x41ff886a)\\n  (fftwf_rdft2_buffered_register 0 #x11bdd #x11bdd #x0 #x1a3fc773 #x16826a6d #x4ac1ba9b #x71705541)\\n  (fftwf_rdft2_thr_vrank_geq1_register 0 #x11bdd #x11bdd #x0 #x4febdca9 #xa9f8d1e2 #x4784fdd8 #xe8372b48)\\n  (fftwf_rdft_rank0_register 2 #x11bdd #x11bdd #x0 #x104e8159 #x92ac0177 #x0f50339e #x2c4a57af)\\n  (fftwf_dft_buffered_register 0 #x11bdd #x11bdd #x0 #xf6040783 #x4ecac406 #x61d1e470 #xc372144f)\\n  (fftwf_dft_nop_register 0 #x10bdd #x10bdd #x0 #x4c6eda6a #xd64bb98a #xdeff4d47 #xbd9bc277)\\n  (fftwf_codelet_t1_16 0 #x10bdd #x10bdd #x0 #xbf8f2281 #x53d808d5 #x34ab52eb #x747f8bf4)\\n  (fftwf_rdft2_rank_geq2_register 0 #x11bdd #x11bdd #x0 #xe0177557 #xe9f32997 #xfb2dcb2c #xf8f70860)\\n  (fftwf_rdft2_rank_geq2_register 0 #x10bdd #x10bdd #x0 #xb8bedcad #x45a4525b #xc44e4385 #xa637a3a4)\\n  (fftwf_codelet_r2cbIII_8 2 #x10bdd #x10bdd #x0 #xfb67696a #x19d836b7 #x6b24c329 #xe4fc2e8b)\\n  (fftwf_dft_buffered_register 0 #x10bdd #x10bdd #x0 #x3eeb1978 #x428183dc #x2a84fbfa #xe4361ea0)\\n  (fftwf_rdft2_nop_register 0 #x11bdd #x11bdd #x0 #x3192bc8d #x1ee9ee00 #x8730d991 #x0cca9385)\\n  (fftwf_dft_r2hc_register 0 #x10bdd #x10bdd #x0 #x3c666628 #x01043fe7 #x20ba9e85 #x1f9b67a1)\\n  (fftwf_codelet_r2cf_8 2 #x11bdd #x11bdd #x0 #x675249aa #x037557b8 #x14643a4b #x9ea626ef)\\n  (fftwf_rdft2_thr_vrank_geq1_register 0 #x11bdd #x11bdd #x0 #x245908be #x1b45c309 #xfa989829 #xe3448ecb)\\n  (fftwf_dft_buffered_register 1 #x10bdd #x10bdd #x0 #x7cf6cc98 #x1860681d #x04f92f92 #x64e3787b)\\n  (fftwf_dft_vrank_geq1_register 0 #x10bdd #x10bdd #x0 #x89cb22ca #x6491b1a8 #xf5f7b0be #x3cd19d43)\\n  (fftwf_codelet_t1_16 0 #x10bdd #x10bdd #x0 #xcd08c9cd #xac2dabe6 #x0a6d47c5 #x5b07814f)\\n  (fftwf_dft_vrank_geq1_register 0 #x10fdd #x10fdd #x0 #x68ff47a8 #x21bb9e5b #xa20dc9bd #xd2485c0c)\\n  (fftwf_dft_vrank_geq1_register 0 #x10fdd #x10fdd #x0 #x411f7a68 #x161cf1d6 #xbec2d98e #x7d9fdffa)\\n  (fftwf_dft_vrank_geq1_register 0 #x10bdd #x10bdd #x0 #xf6843763 #xe67a42c5 #x37896514 #x1934a686)\\n  (fftwf_codelet_r2cb_8 2 #x10bdd #x10bdd #x0 #x669a3813 #x9ba2bb21 #x64e8656d #x87c9de00)\\n  (fftwf_dft_buffered_register 1 #x11bdd #x11bdd #x0 #xb6380734 #x8d827d8e #xdc067a28 #x4fc763de)\\n  (fftwf_dft_thr_vrank_geq1_register 0 #x11bdd #x11bdd #x0 #xce1da3b2 #xb156b9ff #x345deb46 #x24967a68)\\n  (fftwf_rdft_rank0_register 3 #x11bdd #x11bdd #x0 #x91607aa1 #xd40dae11 #x01dbbb42 #x733d3911)\\n  (fftwf_dft_r2hc_register 0 #x10bdd #x10bdd #x0 #x33c540f7 #x7207139c #x75ca3a4c #x748bc1b6)\\n  (fftwf_rdft2_thr_vrank_geq1_register 0 #x10bdd #x10bdd #x0 #x0478d9e6 #xffc458b2 #xefeba0c5 #xe8fb2e05)\\n  (fftwf_codelet_r2cfII_8 2 #x11bdd #x11bdd #x0 #xc7a8d0be #x7798b669 #x9437b479 #x2ba791fc)\\n  (fftwf_codelet_n1_64 0 #x10bdd #x10bdd #x0 #x1913d4ac #xf2d50866 #xc504d3dd #x76d5edcd)\\n  (fftwf_dft_r2hc_register 0 #x11bdd #x11bdd #x0 #x129e3b9a #xbe5c8c09 #x84314e36 #x92c09d6d)\\n  (fftwf_rdft_rank0_register 4 #x10bdd #x10bdd #x0 #xf3c0402e #xf303d9aa #xbdc22798 #xd9510af9)\\n  (fftwf_rdft2_vrank_geq1_register 0 #x11bdd #x11bdd #x0 #x32025de0 #x37ce7b0a #x95c084dd #xcd18ab21)\\n  (fftwf_rdft2_thr_vrank_geq1_register 0 #x11bdd #x11bdd #x0 #xecb29e47 #x03b3cd61 #xa27bbdd7 #xf1a239db)\\n  (fftwf_dft_r2hc_register 0 #x11bdd #x11bdd #x0 #x38a08196 #x2a4ca72e #x2d1ba440 #x10600d8c)\\n  (fftwf_dft_r2hc_register 0 #x11bdd #x11bdd #x0 #xdabdf95d #x7d3ac753 #x24c8f7fe #x2690c32c)\\n  (fftwf_rdft_rank0_register 1 #x11bdd #x11bdd #x0 #x9dc32488 #xbecf3be7 #xa959c90a #x27692f2f)\\n  (fftwf_dft_thr_vrank_geq1_register 0 #x10bdd #x10bdd #x0 #x519e2811 #xfd996521 #x222afcf1 #xa289f0a6)\\n  (fftwf_dft_r2hc_register 0 #x10bdd #x10bdd #x0 #x37c7ab24 #x6b6a7433 #xbb43af76 #x9bd7720f)\\n  (fftwf_dft_r2hc_register 0 #x10bdd #x10bdd #x0 #x54bf9035 #xa469d859 #x8c3af79c #xaabf7edf)\\n  (fftwf_codelet_r2cb_128 0 #x10bdd #x10bdd #x0 #x673294cd #xe5b085a3 #xb8a774bf #xfd19dfb2)\\n  (fftwf_dft_vrank_geq1_register 0 #x11bdd #x11bdd #x0 #x1fe15182 #x5f3d421c #xba834eb6 #x2292df94)\\n  (fftwf_codelet_hc2cb_8 0 #x10bdd #x10bdd #x0 #x48259488 #x196c8c29 #x37f91b06 #x556264da)\\n  (fftwf_rdft2_rank_geq2_register 0 #x10bdd #x10bdd #x0 #xb27d35ea #xa96ba975 #x4796bd74 #xae50e653)\\n  (fftwf_dft_vrank_geq1_register 0 #x10fdd #x10fdd #x0 #x09558463 #xdea41841 #xf014e84a #x343a12e5)\\n  (fftwf_dft_vrank_geq1_register 0 #x10fdd #x10fdd #x0 #x8676a7b7 #xe006c70d #x487b0278 #xb2f8f002)\\n  (fftwf_dft_indirect_register 0 #x10bdd #x10bdd #x0 #x938d7e18 #x1343c0de #xbe03a120 #x64e734a9)\\n  (fftwf_codelet_r2cf_128 0 #x11bdd #x11bdd #x0 #x23eb177d #x111d2c06 #xa78f35fb #xd56dcd76)\\n  (fftwf_rdft_rank0_register 3 #x10bdd #x10bdd #x0 #x91607aa1 #xd40dae11 #x01dbbb42 #x733d3911)\\n  (fftwf_dft_vrank_geq1_register 0 #x11bdd #x11bdd #x0 #xca4b9bb9 #x447b7ee5 #xbb98516b #x49ee082c)\\n  (fftwf_codelet_q1_4 0 #x10fdd #x10fdd #x0 #x6e3f6b00 #xc631065b #xc5ce0991 #xc9e5830a)\\n  (fftwf_rdft2_vrank_geq1_register 0 #x10bdd #x10bdd #x0 #x1a3fc773 #x16826a6d #x4ac1ba9b #x71705541)\\n  (fftwf_rdft2_rank_geq2_register 0 #x11bdd #x11bdd #x0 #xbd6b8262 #xabd0b6b7 #xe6ad6d03 #x628df7dc)\\n  (fftwf_codelet_t1_4 0 #x10fdd #x10fdd #x0 #x1e5fa302 #x4dca4b4b #x68854fe7 #x57f745da)\\n  (fftwf_dft_nop_register 0 #x10bdd #x10bdd #x0 #xd84e4956 #xbbda597c #x4dcc8ca2 #x8135f48a)\\n  (fftwf_dft_nop_register 0 #x11bdd #x11bdd #x0 #x2ca97a7c #x1278c07a #x4b274fea #x63afcfcd)\\n  (fftwf_codelet_n1_64 0 #x10bdd #x10bdd #x0 #xbf36f96d #xc5099024 #xab4588dd #x0f71c101)\\n  (fftwf_rdft_rank0_register 2 #x10bdd #x10bdd #x0 #x104e8159 #x92ac0177 #x0f50339e #x2c4a57af)\\n  (fftwf_dft_indirect_register 0 #x10bdd #x10bdd #x0 #x9c0e3f58 #x928ea026 #xd28229a3 #x7246e0ac)\\n  (fftwf_codelet_n1_64 0 #x10fdd #x10fdd #x0 #x2d58151a #x7bf279ac #xd05075c9 #x05025c02)\\n  (fftwf_codelet_n1_64 0 #x10fdd #x10fdd #x0 #xee00c037 #x8d699089 #xad7ad6a0 #x4efaaf7d)\\n)\\n', b'(fftw-3.3.4 fftwl_wisdom #x0821b5c7 #xa4c07d5a #x21b58211 #xebe513ab\\n)\\n')"
   ]
  },
  {
   "cell_type": "code",
   "execution_count": null,
   "metadata": {
    "collapsed": false
   },
   "outputs": [],
   "source": [
    "ft.import_wisdom(wiz)"
   ]
  },
  {
   "cell_type": "code",
   "execution_count": null,
   "metadata": {
    "collapsed": true
   },
   "outputs": [],
   "source": [
    "fo = ft.zeros_aligned((N,N,N), dtype='float32')"
   ]
  },
  {
   "cell_type": "code",
   "execution_count": null,
   "metadata": {
    "collapsed": true
   },
   "outputs": [],
   "source": [
    "bo = ft.zeros_aligned((N,N,N//2+1), dtype='complex64')"
   ]
  },
  {
   "cell_type": "code",
   "execution_count": null,
   "metadata": {
    "collapsed": false
   },
   "outputs": [],
   "source": [
    "start = time.time()\n",
    "\n",
    "fft_object = ft.FFTW(fo,bo,axes=(2,), direction='FFTW_FORWARD', flags=('FFTW_MEASURE', ),threads=8)\n",
    "ifft_object = ft.FFTW(bo,fo,axes=(2,), direction='FFTW_BACKWARD', flags=('FFTW_MEASURE', ),threads=8)\n",
    "\n",
    "end = time.time()\n",
    "print(end-start)"
   ]
  },
  {
   "cell_type": "code",
   "execution_count": null,
   "metadata": {
    "collapsed": true
   },
   "outputs": [],
   "source": [
    "wiz = ft.export_wisdom()"
   ]
  },
  {
   "cell_type": "code",
   "execution_count": null,
   "metadata": {
    "collapsed": true
   },
   "outputs": [],
   "source": [
    "start = time.time()\n",
    "\n",
    "folder = '/home/idies/workspace/scratch'\n",
    "\n",
    "nproc = 8\n",
    "nx = N//nproc\n",
    "\n",
    "vx = ft.zeros_aligned((N//nproc,N,N), dtype='float32')\n",
    "vy = ft.zeros_aligned((N//nproc,N,N), dtype='float32')\n",
    "vz = ft.zeros_aligned((N//nproc,N,N), dtype='float32')\n",
    "\n",
    "folder = '/home/idies/workspace/scratch'\n",
    "\n",
    "for k in range(nproc):\n",
    "    filename = 'ref-isotropic1024coarse-'+str(k)+'-(t=0.0).npz'\n",
    "    file = folder+'/'+filename\n",
    "    \n",
    "    content = np.load(file)\n",
    "    if(int(content['nproc'])!=nproc):\n",
    "        print(\"Unmatched number of processes. Must first pre-process to adequate number of process\")\n",
    "    \n",
    "    vx[:,:,:] = content['vx']\n",
    "    vy[:,:,:] = content['vy']\n",
    "    vz[:,:,:] = content['vz']\n",
    "    \n",
    "    u[k*nx:(k+1)*nx,:,:] = vx[:,:,:]\n",
    "    v[k*nx:(k+1)*nx,:,:] = vy[:,:,:]\n",
    "    w[k*nx:(k+1)*nx,:,:] = vz[:,:,:]\n",
    "\n",
    "end = time.time()\n",
    "print(end-start)"
   ]
  },
  {
   "cell_type": "code",
   "execution_count": null,
   "metadata": {
    "collapsed": true
   },
   "outputs": [],
   "source": [
    "cu = ft.zeros_aligned((N,N,N//2+1), dtype='complex64')\n",
    "cv = ft.zeros_aligned((N,N,N//2+1), dtype='complex64')\n",
    "cw = ft.zeros_aligned((N,N,N//2+1), dtype='complex64')"
   ]
  },
  {
   "cell_type": "code",
   "execution_count": null,
   "metadata": {
    "collapsed": true
   },
   "outputs": [],
   "source": [
    "u2 = u**2\n",
    "v2 = v**2\n",
    "w2 = w**2"
   ]
  },
  {
   "cell_type": "code",
   "execution_count": null,
   "metadata": {
    "collapsed": true
   },
   "outputs": [],
   "source": [
    "cu2 = ft.zeros_aligned((N,N,N//2+1), dtype='complex64')\n",
    "cv2 = ft.zeros_aligned((N,N,N//2+1), dtype='complex64')\n",
    "cw2 = ft.zeros_aligned((N,N,N//2+1), dtype='complex64')"
   ]
  },
  {
   "cell_type": "code",
   "execution_count": null,
   "metadata": {
    "collapsed": false
   },
   "outputs": [],
   "source": [
    "start = time.time()\n",
    "\n",
    "fo[:,:,:] = u[:,:,:]\n",
    "fft_object.update_arrays(fo,bo)\n",
    "fft_object.execute()\n",
    "cu[:,:,:] = bo[:,:,:]\n",
    "\n",
    "fo[:,:,:] = v[:,:,:]\n",
    "fft_object.update_arrays(fo,bo)\n",
    "fft_object.execute()\n",
    "cv[:,:,:] = bo[:,:,:]\n",
    "\n",
    "fo[:,:,:] = w[:,:,:]\n",
    "fft_object.update_arrays(fo,bo)\n",
    "fft_object.execute()\n",
    "cw[:,:,:] = bo[:,:,:]\n",
    "\n",
    "fo[:,:,:] = u2[:,:,:]\n",
    "fft_object.update_arrays(fo,bo)\n",
    "fft_object.execute()\n",
    "cu2[:,:,:] = bo[:,:,:]\n",
    "\n",
    "fo[:,:,:] = v2[:,:,:]\n",
    "fft_object.update_arrays(fo,bo)\n",
    "fft_object.execute()\n",
    "cv2[:,:,:] = bo[:,:,:]\n",
    "\n",
    "fo[:,:,:] = w2[:,:,:]\n",
    "fft_object.update_arrays(fo,bo)\n",
    "fft_object.execute()\n",
    "cw2[:,:,:] = bo[:,:,:]\n",
    "\n",
    "end = time.time()\n",
    "print(end-start)"
   ]
  },
  {
   "cell_type": "code",
   "execution_count": null,
   "metadata": {
    "collapsed": false
   },
   "outputs": [],
   "source": [
    "start = time.time()\n",
    "\n",
    "ucorr = ft.zeros_aligned((N,N,N),dtype='float32')\n",
    "vcorr = ft.zeros_aligned((N,N,N),dtype='float32')\n",
    "wcorr = ft.zeros_aligned((N,N,N),dtype='float32')\n",
    "\n",
    "end = time.time()\n",
    "print(end-start)"
   ]
  },
  {
   "cell_type": "code",
   "execution_count": 18,
   "metadata": {
    "collapsed": false
   },
   "outputs": [
    {
     "name": "stdout",
     "output_type": "stream",
     "text": [
      "84.9867913722992\n"
     ]
    }
   ],
   "source": [
    "start = time.time()\n",
    "\n",
    "tmp = 6*cu2*(cu.conj())\n",
    "bo[:,:,:] = tmp[:,:,:]\n",
    "ifft_object.update_arrays(bo,fo)\n",
    "ifft_object.execute()\n",
    "ucorr[:,:,:] = fo[:,:,:]/(N**3)\n",
    "\n",
    "end = time.time()\n",
    "print(end-start)"
   ]
  },
  {
   "cell_type": "code",
   "execution_count": 25,
   "metadata": {
    "collapsed": false
   },
   "outputs": [],
   "source": [
    "F3 = np.average(ucorr,axis=(1,2))"
   ]
  },
  {
   "cell_type": "code",
   "execution_count": 26,
   "metadata": {
    "collapsed": false
   },
   "outputs": [
    {
     "name": "stdout",
     "output_type": "stream",
     "text": [
      "(1024,)\n"
     ]
    }
   ],
   "source": [
    "print(F3.shape)"
   ]
  },
  {
   "cell_type": "code",
   "execution_count": 28,
   "metadata": {
    "collapsed": false
   },
   "outputs": [],
   "source": [
    "dx = isotropic1024coarse['dx']\n",
    "ner = int(512*np.sqrt(3))\n",
    "rbins = np.linspace(-0.5*dx,2*np.pi*np.sqrt(3)+0.5*dx,ner+1)\n",
    "\n",
    "X  = np.zeros((N//2,N//2,N//2), dtype='float32')\n",
    "Y  = np.zeros((N//2,N//2,N//2), dtype='float32')\n",
    "Z  = np.zeros((N//2,N//2,N//2), dtype='float32')\n",
    "r2 = np.zeros((N//2,N//2,N//2), dtype='float32')\n",
    "\n",
    "iCorr = np.zeros((N//2,N//2,N//2), dtype='float32')"
   ]
  },
  {
   "cell_type": "code",
   "execution_count": 29,
   "metadata": {
    "collapsed": false
   },
   "outputs": [
    {
     "name": "stdout",
     "output_type": "stream",
     "text": [
      "10.087141990661621\n"
     ]
    }
   ],
   "source": [
    "start = time.time()\n",
    "\n",
    "for i in range(N//2):\n",
    "    X[i,:,:] = i*isotropic1024coarse['dx']\n",
    "    \n",
    "for j in range(N//2):\n",
    "    Y[:,j,:] = j*isotropic1024coarse['dy']\n",
    "    \n",
    "for k in range(N//2):\n",
    "    Z[:,:,k] = k*isotropic1024coarse['dz']\n",
    "\n",
    "r2[:,:,:] = X[:,:,:]**2+Y[:,:,:]**2+Z[:,:,:]**2\n",
    "r2rt = np.sqrt(r2)\n",
    "\n",
    "end = time.time()\n",
    "print(end-start)"
   ]
  },
  {
   "cell_type": "code",
   "execution_count": 31,
   "metadata": {
    "collapsed": false
   },
   "outputs": [],
   "source": [
    "iCorr[0:(N//2),0:(N//2),0:(N//2)] = ucorr[0:(N//2),0:(N//2),0:(N//2)] "
   ]
  },
  {
   "cell_type": "code",
   "execution_count": 32,
   "metadata": {
    "collapsed": true
   },
   "outputs": [],
   "source": [
    "minrt = np.min(r2rt)\n",
    "maxrt = np.max(r2rt)\n",
    "rbins = np.linspace(minrt,maxrt,1+ner)"
   ]
  },
  {
   "cell_type": "code",
   "execution_count": 33,
   "metadata": {
    "collapsed": false
   },
   "outputs": [
    {
     "name": "stdout",
     "output_type": "stream",
     "text": [
      "32.81185841560364\n"
     ]
    }
   ],
   "source": [
    "start = time.time()\n",
    "\n",
    "corrLoc,redges = np.histogram(r2rt,range=(minrt,maxrt)\n",
    "                              ,bins = rbins,weights=iCorr)\n",
    "    \n",
    "r2Loc,r2edges = np.histogram(r2rt,range=(minrt,maxrt)\n",
    "                            ,bins = rbins)\n",
    "\n",
    "end = time.time()\n",
    "print(end-start)"
   ]
  },
  {
   "cell_type": "code",
   "execution_count": 34,
   "metadata": {
    "collapsed": true
   },
   "outputs": [],
   "source": [
    "cbins = (rbins[0:ner]+rbins[1:ner+1])/2"
   ]
  },
  {
   "cell_type": "code",
   "execution_count": 37,
   "metadata": {
    "collapsed": true
   },
   "outputs": [],
   "source": [
    "u0 = np.average(u*u)"
   ]
  },
  {
   "cell_type": "code",
   "execution_count": 39,
   "metadata": {
    "collapsed": false
   },
   "outputs": [
    {
     "data": {
      "image/png": "[encoded data removed]",
      "text/plain": [
       "<matplotlib.figure.Figure at 0x7f8e1194a0b8>"
      ]
     },
     "metadata": {},
     "output_type": "display_data"
    }
   ],
   "source": [
    "import matplotlib\n",
    "import matplotlib.pyplot as plt\n",
    "\n",
    "matplotlib.rc('xtick', labelsize=20) \n",
    "matplotlib.rc('ytick', labelsize=20) \n",
    "plt.figure(figsize=(12,12))\n",
    "plt.xlabel(r'$r$', fontsize=20)\n",
    "plt.ylabel(r'$\\frac{C(r)}{C(0)} = \\frac{r^2}{C(0)} \\int_{S^2} \\langle \\chi({\\bf x}) \\chi({\\bf x}+{\\bf r}) \\rangle d\\Omega$', fontsize=20)\n",
    "\n",
    "#plt.xlim(minrt+dx/4,np.pi)\n",
    "\n",
    "pcorr = (corrLoc/r2Loc)/(corrLoc[0]/r2Loc[0])\n",
    "pcorr = u0 - pcorr\n",
    "\n",
    "plt.grid()\n",
    "plt.loglog(cbins,pcorr,'rx')\n",
    "plt.savefig(\"Menger-Sponge-correlation-0.pdf\")"
   ]
  },
  {
   "cell_type": "code",
   "execution_count": null,
   "metadata": {
    "collapsed": true
   },
   "outputs": [],
   "source": []
  }
 ],
 "metadata": {
  "kernelspec": {
   "display_name": "Python 3",
   "language": "python",
   "name": "python3"
  },
  "language_info": {
   "codemirror_mode": {
    "name": "ipython",
    "version": 3
   },
   "file_extension": ".py",
   "mimetype": "text/x-python",
   "name": "python",
   "nbconvert_exporter": "python",
   "pygments_lexer": "ipython3",
   "version": "3.5.2"
  }
 },
 "nbformat": 4,
 "nbformat_minor": 0
}
