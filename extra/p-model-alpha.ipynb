{
 "cells": [
  {
   "cell_type": "code",
   "execution_count": 1,
   "metadata": {
    "collapsed": true
   },
   "outputs": [],
   "source": [
    "import os\n",
    "import sys\n",
    "import math\n",
    "import numpy as np\n",
    "import numpy.fft as fft\n",
    "import matplotlib\n",
    "import matplotlib.pyplot as plt"
   ]
  },
  {
   "cell_type": "code",
   "execution_count": 2,
   "metadata": {
    "collapsed": false
   },
   "outputs": [
    {
     "name": "stdout",
     "output_type": "stream",
     "text": [
      "1048576\n"
     ]
    }
   ],
   "source": [
    "Lv = 20\n",
    "N = 2**Lv\n",
    "print(N)\n",
    "epsilon = np.zeros(N,dtype='float64')\n",
    "epsilon[:] = 1.\n",
    "s = np.random.uniform(0,1,10**6)"
   ]
  },
  {
   "cell_type": "code",
   "execution_count": 3,
   "metadata": {
    "collapsed": false
   },
   "outputs": [
    {
     "name": "stdout",
     "output_type": "stream",
     "text": [
      "0.7\n",
      "0.30000000000000004\n"
     ]
    }
   ],
   "source": [
    "p = 0.7\n",
    "\n",
    "print(p)\n",
    "print(1-p)"
   ]
  },
  {
   "cell_type": "code",
   "execution_count": 4,
   "metadata": {
    "collapsed": true
   },
   "outputs": [],
   "source": [
    "def multiProcess(N,Nv,s,p):\n",
    "    chg = 0\n",
    "    epsilon = np.zeros(N,dtype='float64')\n",
    "    epsilon[:] = 1.\n",
    "    for k in range(Nv):\n",
    "        div = 2**(k+1)\n",
    "        chk = N//div\n",
    "        for i in range(div//2):\n",
    "            rnd = s[chg]\n",
    "            chg += 1\n",
    "            if(rnd >= 0.5):\n",
    "                epsilon[(2*i+0)*chk:(2*i+1)*chk] *= p\n",
    "                epsilon[(2*i+1)*chk:(2*i+2)*chk] *= (1-p)\n",
    "            else:\n",
    "                epsilon[(2*i+0)*chk:(2*i+1)*chk] *= (1-p)\n",
    "                epsilon[(2*i+1)*chk:(2*i+2)*chk] *= p\n",
    "    return epsilon"
   ]
  },
  {
   "cell_type": "code",
   "execution_count": 5,
   "metadata": {
    "collapsed": false
   },
   "outputs": [
    {
     "data": {
      "text/plain": [
       "[<matplotlib.lines.Line2D at 0x7f1db97b1f60>]"
      ]
     },
     "execution_count": 5,
     "metadata": {},
     "output_type": "execute_result"
    },
    {
     "data": {
      "image/png": "[encoded data removed]",
      "text/plain": [
       "<matplotlib.figure.Figure at 0x7f1db985b748>"
      ]
     },
     "metadata": {},
     "output_type": "display_data"
    }
   ],
   "source": [
    "Nv = 1\n",
    "epsilon = multiProcess(N,Nv,s,p)\n",
    "\n",
    "x = np.arange(0,N)\n",
    "x = x/N\n",
    "epsAvg = np.average(epsilon)\n",
    "plt.xlim(-0.1,1.1)\n",
    "plt.ylim(0,5)\n",
    "plt.plot(x,epsilon/epsAvg)"
   ]
  },
  {
   "cell_type": "code",
   "execution_count": 6,
   "metadata": {
    "collapsed": false
   },
   "outputs": [
    {
     "data": {
      "text/plain": [
       "[<matplotlib.lines.Line2D at 0x7f1db9552da0>]"
      ]
     },
     "execution_count": 6,
     "metadata": {},
     "output_type": "execute_result"
    },
    {
     "data": {
      "image/png": "[encoded data removed]",
      "text/plain": [
       "<matplotlib.figure.Figure at 0x7f1db9851e10>"
      ]
     },
     "metadata": {},
     "output_type": "display_data"
    }
   ],
   "source": [
    "Nv = 9\n",
    "epsilon = multiProcess(N,Nv,s,p)\n",
    "\n",
    "x = np.arange(0,N)\n",
    "x = x/N\n",
    "epsAvg = np.average(epsilon)\n",
    "plt.plot(x,epsilon/epsAvg)"
   ]
  },
  {
   "cell_type": "code",
   "execution_count": 44,
   "metadata": {
    "collapsed": false
   },
   "outputs": [
    {
     "data": {
      "text/plain": [
       "[<matplotlib.lines.Line2D at 0x7f1db8555ac8>]"
      ]
     },
     "execution_count": 44,
     "metadata": {},
     "output_type": "execute_result"
    },
    {
     "data": {
      "image/png": "[encoded data removed]",
      "text/plain": [
       "<matplotlib.figure.Figure at 0x7f1db102e208>"
      ]
     },
     "metadata": {},
     "output_type": "display_data"
    }
   ],
   "source": [
    "Nv = 13\n",
    "epsilon = multiProcess(N,Nv,s,p)\n",
    "\n",
    "x = np.arange(0,N)\n",
    "x = x/N\n",
    "epsAvg = np.average(epsilon)\n",
    "plt.plot(x,epsilon/epsAvg)"
   ]
  },
  {
   "cell_type": "code",
   "execution_count": 45,
   "metadata": {
    "collapsed": false
   },
   "outputs": [],
   "source": [
    "L0 = 1.\n",
    "r = (N//4)/N\n",
    "dx = 1./N"
   ]
  },
  {
   "cell_type": "code",
   "execution_count": 46,
   "metadata": {
    "collapsed": false
   },
   "outputs": [
    {
     "name": "stdout",
     "output_type": "stream",
     "text": [
      "0.0001220703125\n"
     ]
    }
   ],
   "source": [
    "E0 = np.sum(epsilon*dx)\n",
    "print(E0)\n",
    "\n",
    "Lvl = 18\n",
    "Nb = 2**Lvl\n",
    "Chk = N//Nb\n",
    "\n",
    "hst = []\n",
    "for k in range(Nb):\n",
    "    Ek = np.sum(epsilon[k*Chk:(k+1)*Chk]*dx)\n",
    "    alpha = math.log(Ek/E0)/math.log(Chk/N)\n",
    "    hst.append(alpha)\n",
    "    #print(alpha)\n",
    "hst = np.array(hst)"
   ]
  },
  {
   "cell_type": "code",
   "execution_count": 47,
   "metadata": {
    "collapsed": false
   },
   "outputs": [
    {
     "data": {
      "text/plain": [
       "[<matplotlib.lines.Line2D at 0x7f1db85a4748>]"
      ]
     },
     "execution_count": 47,
     "metadata": {},
     "output_type": "execute_result"
    },
    {
     "data": {
      "image/png": "[encoded data removed]",
      "text/plain": [
       "<matplotlib.figure.Figure at 0x7f1db1089fd0>"
      ]
     },
     "metadata": {},
     "output_type": "display_data"
    }
   ],
   "source": [
    "apdf, abins = np.histogram(hst, bins=12, range=None,density=True)\n",
    "bins = (abins[0:12]+abins[1:13])/2.\n",
    "lapdf = np.log(apdf)/np.log(N/Chk)\n",
    "plt.xlabel(r'$\\alpha$')\n",
    "plt.ylabel(r'$\\alpha$')\n",
    "plt.plot(bins,lapdf,'b--')"
   ]
  },
  {
   "cell_type": "code",
   "execution_count": 48,
   "metadata": {
    "collapsed": false
   },
   "outputs": [
    {
     "data": {
      "image/png": "[encoded data removed]",
      "text/plain": [
       "<matplotlib.figure.Figure at 0x7f1db8520320>"
      ]
     },
     "metadata": {},
     "output_type": "display_data"
    }
   ],
   "source": [
    "Nv = 16\n",
    "epsilon2 = multiProcess(N,Nv,s,p)\n",
    "\n",
    "x = np.arange(0,N)\n",
    "x = x/N\n",
    "epsAvg = np.average(epsilon2)\n",
    "plt.plot(x,epsilon2/epsAvg)\n",
    "\n",
    "L0 = 1.\n",
    "r = (N//4)/N\n",
    "dx = 1./N\n",
    "E0 = np.sum(epsilon2*dx)\n",
    "\n",
    "Lvl = 18\n",
    "Nb = 2**Lvl\n",
    "Chk = N//Nb\n",
    "\n",
    "hst2 = []\n",
    "for k in range(Nb):\n",
    "    Ek = np.sum(epsilon2[k*Chk:(k+1)*Chk]*dx)\n",
    "    alpha = math.log(Ek/E0)/math.log(Chk/N)\n",
    "    hst2.append(alpha)\n",
    "    #print(alpha)\n",
    "hst2 = np.array(hst2)"
   ]
  },
  {
   "cell_type": "code",
   "execution_count": 49,
   "metadata": {
    "collapsed": false
   },
   "outputs": [],
   "source": [
    "Nbins = 15\n",
    "bpdf, bbins = np.histogram(hst2, bins=Nbins, range=None,density=True)\n",
    "bins2 = (bbins[0:Nbins]+bbins[1:(Nbins+1)])/2.\n",
    "lbpdf = np.log(bpdf)/np.log(N/Chk)"
   ]
  },
  {
   "cell_type": "code",
   "execution_count": 50,
   "metadata": {
    "collapsed": false
   },
   "outputs": [
    {
     "data": {
      "text/plain": [
       "[<matplotlib.lines.Line2D at 0x7f1db0f19e80>]"
      ]
     },
     "execution_count": 50,
     "metadata": {},
     "output_type": "execute_result"
    },
    {
     "data": {
      "image/png": "[encoded data removed]",
      "text/plain": [
       "<matplotlib.figure.Figure at 0x7f1db85724a8>"
      ]
     },
     "metadata": {},
     "output_type": "display_data"
    }
   ],
   "source": [
    "plt.xlabel(r'$\\alpha$')\n",
    "plt.ylabel(r'$\\alpha$')\n",
    "plt.plot(bins,lapdf,'r-')\n",
    "plt.plot(bins2,lbpdf,'b--')"
   ]
  },
  {
   "cell_type": "code",
   "execution_count": null,
   "metadata": {
    "collapsed": false
   },
   "outputs": [
    {
     "name": "stdout",
     "output_type": "stream",
     "text": [
      "[ 2  3  4  5  6  7  8  9 10 11 12 13 14 15 16 17 18 19 20 21 22 23 24 25 26\n",
      " 27 28 29 30 31]\n",
      "-0.491408161552\n",
      "-0.523785643617\n",
      "-0.51782581596\n",
      "-0.508903762926\n",
      "-0.501421096367\n",
      "-0.495657275568\n",
      "-0.49125303394\n",
      "-0.48784175398\n",
      "-0.485147292028\n",
      "-0.482975803432\n",
      "-0.481192926959\n",
      "-0.479704758989\n",
      "-0.47844457557\n",
      "-0.477364034567\n",
      "-0.476427412182\n",
      "-0.475607805914\n",
      "-0.474884599032\n",
      "-0.474241738401\n",
      "-0.473666543221\n",
      "-0.473148865894\n",
      "-0.472680490491\n",
      "-0.472254694391\n",
      "-0.471865923926\n"
     ]
    }
   ],
   "source": [
    "Nv = 13\n",
    "\n",
    "qrange =np.arange(2,32,1)\n",
    "#np.concatenate(qrange,np.arange(-31,1,1))\n",
    "\n",
    "print(qrange)\n",
    "\n",
    "qhst = []\n",
    "for q in qrange:\n",
    "    Eq = []\n",
    "    for k in range(Nb):\n",
    "        Ek = np.sum(epsilon[k*Chk:(k+1)*Chk]*dx)\n",
    "        Eq.append(Ek**q)\n",
    "    Eq = np.array(Eq)\n",
    "    sEq = np.sum(Eq)\n",
    "    Dq = np.log(sEq/(E0**q))/(Nv*(q-1))\n",
    "    print(Dq)"
   ]
  },
  {
   "cell_type": "code",
   "execution_count": null,
   "metadata": {
    "collapsed": true
   },
   "outputs": [],
   "source": []
  }
 ],
 "metadata": {
  "kernelspec": {
   "display_name": "Python 3",
   "language": "python",
   "name": "python3"
  },
  "language_info": {
   "codemirror_mode": {
    "name": "ipython",
    "version": 3
   },
   "file_extension": ".py",
   "mimetype": "text/x-python",
   "name": "python",
   "nbconvert_exporter": "python",
   "pygments_lexer": "ipython3",
   "version": "3.5.2"
  }
 },
 "nbformat": 4,
 "nbformat_minor": 0
}
