{
 "cells": [
  {
   "cell_type": "code",
   "execution_count": 1,
   "metadata": {
    "collapsed": true
   },
   "outputs": [],
   "source": [
    "import os\n",
    "import time\n",
    "import numpy as np"
   ]
  },
  {
   "cell_type": "code",
   "execution_count": 2,
   "metadata": {
    "collapsed": true
   },
   "outputs": [],
   "source": [
    "N = 1024"
   ]
  },
  {
   "cell_type": "code",
   "execution_count": 3,
   "metadata": {},
   "outputs": [
    {
     "name": "stdout",
     "output_type": "stream",
     "text": [
      "8.37637996674\n"
     ]
    }
   ],
   "source": [
    "start = time.time()\n",
    "\n",
    "nproc = 8\n",
    "nx = N//nproc\n",
    "\n",
    "Q = np.zeros((N,N,N),dtype='float32')\n",
    "lQ = np.zeros((N//nproc,N,N), dtype='float32')\n",
    "\n",
    "folder = '/home/jhelsas/scratch'\n",
    "\n",
    "for k in range(nproc):\n",
    "    filename = 'ref-Q-'+str(k)+'.npz'\n",
    "    file = folder+'/'+filename\n",
    "    \n",
    "    content = np.load(file)\n",
    "    lQ[:,:,:] = content['Q']\n",
    "    \n",
    "    Q[k*nx:(k+1)*nx,:,:] = lQ[:,:,:]\n",
    "    \n",
    "del lQ\n",
    "\n",
    "end = time.time()\n",
    "print(end-start)"
   ]
  },
  {
   "cell_type": "code",
   "execution_count": 4,
   "metadata": {},
   "outputs": [
    {
     "name": "stdout",
     "output_type": "stream",
     "text": [
      "8.3291208744\n"
     ]
    }
   ],
   "source": [
    "start = time.time()\n",
    "\n",
    "nproc = 8\n",
    "nx = N//nproc\n",
    "\n",
    "R = np.zeros((N,N,N),dtype='float32')\n",
    "lR = np.zeros((N//nproc,N,N), dtype='float32')\n",
    "\n",
    "folder = '/home/jhelsas/scratch'\n",
    "\n",
    "for k in range(nproc):\n",
    "    filename = 'ref-R-'+str(k)+'.npz'\n",
    "    file = folder+'/'+filename\n",
    "    \n",
    "    content = np.load(file)\n",
    "    lR[:,:,:] = content['R']\n",
    "    \n",
    "    R[k*nx:(k+1)*nx,:,:] = lR[:,:,:]\n",
    "    \n",
    "del lR\n",
    "\n",
    "end = time.time()\n",
    "print(end-start)"
   ]
  },
  {
   "cell_type": "code",
   "execution_count": 5,
   "metadata": {},
   "outputs": [
    {
     "name": "stdout",
     "output_type": "stream",
     "text": [
      "11.2200849056\n"
     ]
    }
   ],
   "source": [
    "start = time.time()\n",
    "\n",
    "nproc = 64\n",
    "nx = N//nproc\n",
    "\n",
    "folder = '/home/jhelsas/scratch/slab64'\n",
    "\n",
    "for k in range(nproc):\n",
    "    filename = 'ref-Q-'+str(k)+'.npz'\n",
    "    sfile = folder+'/'+filename\n",
    "    \n",
    "    np.savez(sfile,Q = Q[k*nx:(k+1)*nx,:,:])\n",
    "    \n",
    "end = time.time()\n",
    "print(end-start)"
   ]
  },
  {
   "cell_type": "code",
   "execution_count": 10,
   "metadata": {},
   "outputs": [
    {
     "name": "stdout",
     "output_type": "stream",
     "text": [
      "(16, 1024, 1024)\n",
      "(16, 1024, 1024)\n",
      "(16, 1024, 1024)\n",
      "(16, 1024, 1024)\n",
      "(16, 1024, 1024)\n",
      "(16, 1024, 1024)\n",
      "(16, 1024, 1024)\n",
      "(16, 1024, 1024)\n",
      "(16, 1024, 1024)\n",
      "(16, 1024, 1024)\n",
      "(16, 1024, 1024)\n",
      "(16, 1024, 1024)\n",
      "(16, 1024, 1024)\n",
      "(16, 1024, 1024)\n",
      "(16, 1024, 1024)\n",
      "(16, 1024, 1024)\n",
      "(16, 1024, 1024)\n",
      "(16, 1024, 1024)\n",
      "(16, 1024, 1024)\n",
      "(16, 1024, 1024)\n",
      "(16, 1024, 1024)\n",
      "(16, 1024, 1024)\n",
      "(16, 1024, 1024)\n",
      "(16, 1024, 1024)\n",
      "(16, 1024, 1024)\n",
      "(16, 1024, 1024)\n",
      "(16, 1024, 1024)\n",
      "(16, 1024, 1024)\n",
      "(16, 1024, 1024)\n",
      "(16, 1024, 1024)\n",
      "(16, 1024, 1024)\n",
      "(16, 1024, 1024)\n",
      "(16, 1024, 1024)\n",
      "(16, 1024, 1024)\n",
      "(16, 1024, 1024)\n",
      "(16, 1024, 1024)\n",
      "(16, 1024, 1024)\n",
      "(16, 1024, 1024)\n",
      "(16, 1024, 1024)\n",
      "(16, 1024, 1024)\n",
      "(16, 1024, 1024)\n",
      "(16, 1024, 1024)\n",
      "(16, 1024, 1024)\n",
      "(16, 1024, 1024)\n",
      "(16, 1024, 1024)\n",
      "(16, 1024, 1024)\n",
      "(16, 1024, 1024)\n",
      "(16, 1024, 1024)\n",
      "(16, 1024, 1024)\n",
      "(16, 1024, 1024)\n",
      "(16, 1024, 1024)\n",
      "(16, 1024, 1024)\n",
      "(16, 1024, 1024)\n",
      "(16, 1024, 1024)\n",
      "(16, 1024, 1024)\n",
      "(16, 1024, 1024)\n",
      "(16, 1024, 1024)\n",
      "(16, 1024, 1024)\n",
      "(16, 1024, 1024)\n",
      "(16, 1024, 1024)\n",
      "(16, 1024, 1024)\n",
      "(16, 1024, 1024)\n",
      "(16, 1024, 1024)\n",
      "(16, 1024, 1024)\n",
      "13.3378660679\n"
     ]
    }
   ],
   "source": [
    "start = time.time()\n",
    "\n",
    "nproc = 64\n",
    "nx = N//nproc\n",
    "\n",
    "folder = '/home/jhelsas/scratch/slab64'\n",
    "\n",
    "for k in range(nproc):\n",
    "    filename = 'ref-R-'+str(k)+'.npz'\n",
    "    sfile = folder+'/'+filename\n",
    "    print(R[k*nx:(k+1)*nx,:,:].shape)\n",
    "    np.savez(sfile,R = R[k*nx:(k+1)*nx,:,:])\n",
    "    \n",
    "end = time.time()\n",
    "print(end-start)"
   ]
  },
  {
   "cell_type": "code",
   "execution_count": 7,
   "metadata": {},
   "outputs": [
    {
     "name": "stdout",
     "output_type": "stream",
     "text": [
      "8.33046412468\n"
     ]
    }
   ],
   "source": [
    "start = time.time()\n",
    "\n",
    "nproc = 8\n",
    "nx = N//nproc\n",
    "\n",
    "S2 = np.zeros((N,N,N),dtype='float32')\n",
    "lS2 = np.zeros((N//nproc,N,N), dtype='float32')\n",
    "\n",
    "folder = '/home/jhelsas/scratch'\n",
    "\n",
    "for k in range(nproc):\n",
    "    filename = 'ref-strainrate-'+str(k)+'.npz'\n",
    "    file = folder+'/'+filename\n",
    "    \n",
    "    content = np.load(file)\n",
    "    lS2[:,:,:] = content['S2']\n",
    "    \n",
    "    S2[k*nx:(k+1)*nx,:,:] = lS2[:,:,:]\n",
    "    \n",
    "del lS2\n",
    "\n",
    "end = time.time()\n",
    "print(end-start)"
   ]
  },
  {
   "cell_type": "code",
   "execution_count": 8,
   "metadata": {},
   "outputs": [
    {
     "name": "stdout",
     "output_type": "stream",
     "text": [
      "11.0661301613\n"
     ]
    }
   ],
   "source": [
    "start = time.time()\n",
    "\n",
    "nproc = 64\n",
    "nx = N//nproc\n",
    "\n",
    "folder = '/home/jhelsas/scratch/slab64'\n",
    "\n",
    "for k in range(nproc):\n",
    "    filename = 'ref-strainrate-'+str(k)+'.npz'\n",
    "    sfile = folder+'/'+filename\n",
    "    \n",
    "    np.savez(sfile,S2 = S2[k*nx:(k+1)*nx,:,:])\n",
    "    \n",
    "end = time.time()\n",
    "print(end-start)"
   ]
  },
  {
   "cell_type": "code",
   "execution_count": null,
   "metadata": {
    "collapsed": true
   },
   "outputs": [],
   "source": []
  }
 ],
 "metadata": {
  "kernelspec": {
   "display_name": "Python 2",
   "language": "python",
   "name": "python2"
  },
  "language_info": {
   "codemirror_mode": {
    "name": "ipython",
    "version": 2
   },
   "file_extension": ".py",
   "mimetype": "text/x-python",
   "name": "python",
   "nbconvert_exporter": "python",
   "pygments_lexer": "ipython2",
   "version": "2.7.13"
  }
 },
 "nbformat": 4,
 "nbformat_minor": 2
}
