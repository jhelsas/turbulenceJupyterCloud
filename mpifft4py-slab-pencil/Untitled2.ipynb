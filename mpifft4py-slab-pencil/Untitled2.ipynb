{
 "cells": [
  {
   "cell_type": "code",
   "execution_count": 1,
   "metadata": {},
   "outputs": [
    {
     "name": "stdout",
     "output_type": "stream",
     "text": [
      "Traceback (most recent call last):\r\n",
      "  File \"/home/jhelsas/.local/bin/ipcluster\", line 7, in <module>\r\n",
      "    from ipyparallel.apps.ipclusterapp import launch_new_instance\r\n",
      "  File \"/home/jhelsas/.local/lib/python2.7/site-packages/ipyparallel/__init__.py\", line 11, in <module>\r\n",
      "    import zmq\r\n",
      "ImportError: No module named zmq\r\n"
     ]
    }
   ],
   "source": [
    "!ipcluster start -n 64 --engines=MPI --profile='mpi64'"
   ]
  },
  {
   "cell_type": "code",
   "execution_count": 2,
   "metadata": {
    "collapsed": true
   },
   "outputs": [],
   "source": [
    "import io"
   ]
  },
  {
   "cell_type": "code",
   "execution_count": null,
   "metadata": {
    "collapsed": true
   },
   "outputs": [],
   "source": []
  }
 ],
 "metadata": {
  "kernelspec": {
   "display_name": "Python 2",
   "language": "python",
   "name": "python2"
  },
  "language_info": {
   "codemirror_mode": {
    "name": "ipython",
    "version": 2
   },
   "file_extension": ".py",
   "mimetype": "text/x-python",
   "name": "python",
   "nbconvert_exporter": "python",
   "pygments_lexer": "ipython2",
   "version": "2.7.13"
  }
 },
 "nbformat": 4,
 "nbformat_minor": 2
}
