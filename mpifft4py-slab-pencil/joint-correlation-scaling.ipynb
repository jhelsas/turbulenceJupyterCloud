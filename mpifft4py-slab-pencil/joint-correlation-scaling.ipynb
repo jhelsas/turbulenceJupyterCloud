{
 "cells": [
  {
   "cell_type": "code",
   "execution_count": null,
   "metadata": {
    "collapsed": true
   },
   "outputs": [],
   "source": [
    "#!ipcluster start -n 8 --engines=MPI --profile='mpi' # for parallel run: start the engines using terminal\n",
    "from ipyparallel import Client\n",
    "rc = Client(profile='mpi')"
   ]
  },
  {
   "cell_type": "code",
   "execution_count": null,
   "metadata": {
    "collapsed": true
   },
   "outputs": [],
   "source": [
    "%%px\n",
    "# Import the libraries\n",
    "\n",
    "import os\n",
    "import sys\n",
    "import math\n",
    "import pyJHTDB\n",
    "import numpy as np\n",
    "import pyfftw as ft \n",
    "from mpi4py import MPI\n",
    "import matplotlib\n",
    "import matplotlib.pyplot as plt\n",
    "from pyJHTDB import libJHTDB\n",
    "from pyJHTDB.dbinfo import isotropic1024coarse\n",
    "\n",
    "from mpiFFT4py.slab import R2C"
   ]
  },
  {
   "cell_type": "code",
   "execution_count": null,
   "metadata": {
    "collapsed": true
   },
   "outputs": [],
   "source": [
    "%%px\n",
    "\n",
    "Nx = isotropic1024coarse['nx']; Ny = isotropic1024coarse['ny']; Nz = isotropic1024coarse['nz']\n",
    "Lx = isotropic1024coarse['lx']; Ly = isotropic1024coarse['ly']; Lz = isotropic1024coarse['lz']\n",
    "\n",
    "comm = MPI.COMM_WORLD\n",
    "rank = comm.Get_rank()\n",
    "nproc = comm.Get_size()\n",
    "if(rank==0):\n",
    "    print(\"n_proc = \"+str(nproc))\n",
    "    print(\"rank = \"+str(rank))\n",
    "\n",
    "# Computational Domain\n",
    "\n",
    "nx=Nx//nproc; ny=Ny; nz=Nz\n",
    "nz_half=nz//2\n",
    "nek=int(math.sqrt(2.0)/3*Nx)\n",
    "time = 0.0\n",
    "\n",
    "chkSz = 32\n",
    "slabs = nx//chkSz"
   ]
  },
  {
   "cell_type": "code",
   "execution_count": null,
   "metadata": {
    "collapsed": true
   },
   "outputs": [],
   "source": [
    "%%px \n",
    "\n",
    "N = np.array([Nx,Ny,Nz],dtype=int)\n",
    "L = np.array([Lx,Ly,Lz],dtype=float)\n",
    "\n",
    "FFT = R2C(N, L, MPI.COMM_WORLD, \"double\", communication='Alltoallw')"
   ]
  },
  {
   "cell_type": "code",
   "execution_count": null,
   "metadata": {
    "collapsed": true
   },
   "outputs": [],
   "source": [
    "%%px\n",
    "\n",
    "dx = isotropic1024coarse['dx']\n",
    "ner = int(1024*np.sqrt(3))\n",
    "rbins = np.linspace(-0.5*dx,2*np.pi*np.sqrt(3)+0.5*dx,ner+1)\n",
    "\n",
    "comm.Barrier(); t1=MPI.Wtime()\n",
    "\n",
    "X = np.zeros(FFT.real_shape(), dtype=FFT.float)\n",
    "Y = np.zeros(FFT.real_shape(), dtype=FFT.float)\n",
    "Z = np.zeros(FFT.real_shape(), dtype=FFT.float)\n",
    "\n",
    "r2 = np.zeros(FFT.real_shape(), dtype=FFT.float)\n",
    "\n",
    "chi = np.zeros(FFT.real_shape(), dtype=FFT.float)\n",
    "cchi = np.zeros(FFT.complex_shape(), dtype=FFT.complex)\n",
    "corr = np.zeros(FFT.real_shape(), dtype=FFT.float)\n",
    "iCorr = np.zeros(FFT.real_shape(), dtype=FFT.float)\n",
    "\n",
    "r2Sum = np.zeros(FFT.real_shape(), dtype=FFT.float)\n",
    "r2F = np.zeros(FFT.real_shape(), dtype=FFT.float)\n",
    "\n",
    "comm.Barrier(); t2=MPI.Wtime()\n",
    "if(rank==0):\n",
    "    sys.stdout.write('Alocating vectors: {0:.2f} seconds\\n'.format(t2-t1))"
   ]
  },
  {
   "cell_type": "code",
   "execution_count": null,
   "metadata": {
    "collapsed": true
   },
   "outputs": [],
   "source": [
    "%%px\n",
    "\n",
    "comm.Barrier(); t1=MPI.Wtime()\n",
    "for i in range(nx):\n",
    "    X[i,:,:] = (i+rank*nx)*isotropic1024coarse['dx']\n",
    "\n",
    "for j in range(ny):\n",
    "    Y[:,j,:] = j*isotropic1024coarse['dy']\n",
    "    \n",
    "for k in range(nz):\n",
    "    Z[:,:,k] = k*isotropic1024coarse['dz']\n",
    "    \n",
    "r2[:,:,:] = X[:,:,:]**2+Y[:,:,:]**2+Z[:,:,:]**2\n",
    "\n",
    "r2rt = np.sqrt(r2)\n",
    "comm.Barrier(); t2=MPI.Wtime()\n",
    "if(rank==0):\n",
    "    sys.stdout.write('Preparing the real domain for radial integration: {0:.2f} seconds\\n'.format(t2-t1))"
   ]
  },
  {
   "cell_type": "code",
   "execution_count": null,
   "metadata": {
    "collapsed": true
   },
   "outputs": [],
   "source": [
    "%%px\n",
    "\n",
    "cacheEnstrophyData = False\n",
    "loadEnstrophyFromCache = True\n",
    "\n",
    "folder = \"/home/admin/scratch/slab64\"\n",
    "filename = \"aws-enstrophy-\"+str(rank)+\".npz\"\n",
    "file = folder + \"/\" + filename\n",
    "\n",
    "if(loadEnstrophyFromCache):\n",
    "    comm.Barrier(); t1=MPI.Wtime()\n",
    "    content = np.load(file)\n",
    "    \n",
    "    w2 = ft.zeros_aligned(FFT.real_shape(), dtype=FFT.float)\n",
    "    \n",
    "    if(int(content['nproc'])!=nproc):\n",
    "        print(\"Unmatched number of processes. Must first pre-process to adequate number of process\")\n",
    "    w2[:,:,:] = content['w2'].astype(FFT.float)\n",
    "    \n",
    "    comm.Barrier(); t2=MPI.Wtime()\n",
    "    if(rank==0):\n",
    "        print(\"Finished loading\")\n",
    "        sys.stdout.write('Load from disk: {0:.2f} seconds\\n'.format(t2-t1))\n",
    "\n",
    "if(cacheEnstrophyData):\n",
    "    \n",
    "    comm.Barrier(); t1=MPI.Wtime()\n",
    "    np.savez(file,w2=w2,nproc=nproc)\n",
    "    comm.Barrier(); t2=MPI.Wtime()\n",
    "    if(rank==0):\n",
    "        sys.stdout.write('Caching the data: {0:.2f} seconds\\n'.format(t2-t1))"
   ]
  },
  {
   "cell_type": "code",
   "execution_count": null,
   "metadata": {
    "collapsed": true
   },
   "outputs": [],
   "source": [
    "%%px\n",
    "\n",
    "cacheStrainrateData = False\n",
    "loadStrainrateFromCache = True\n",
    "\n",
    "folder = \"/home/admin/scratch/slab64\"\n",
    "filename = \"aws-strainrate-\"+str(rank)+\".npz\"\n",
    "file = folder + \"/\" + filename\n",
    "\n",
    "if(loadStrainrateFromCache):\n",
    "    comm.Barrier(); t1=MPI.Wtime()\n",
    "    content = np.load(file)\n",
    "    \n",
    "    S2 = ft.zeros_aligned(FFT.real_shape(), dtype=FFT.float)\n",
    "    \n",
    "    if(int(content['nproc'])!=nproc):\n",
    "        print(\"Unmatched number of processes. Must first pre-process to adequate number of process\")\n",
    "    S2[:,:,:] = content['S2'].astype(FFT.float)\n",
    "    \n",
    "    comm.Barrier(); t2=MPI.Wtime()\n",
    "    if(rank==0):\n",
    "        print(\"Finished loading\")\n",
    "        sys.stdout.write('Load from disk: {0:.2f} seconds\\n'.format(t2-t1))\n",
    "\n",
    "if(cacheEnstrophyData):\n",
    "    \n",
    "    comm.Barrier(); t1=MPI.Wtime()\n",
    "    np.savez(file,S2=S2,nproc=nproc)\n",
    "    comm.Barrier(); t2=MPI.Wtime()\n",
    "    if(rank==0):\n",
    "        sys.stdout.write('Caching the data: {0:.2f} seconds\\n'.format(t2-t1))"
   ]
  },
  {
   "cell_type": "code",
   "execution_count": null,
   "metadata": {
    "collapsed": true
   },
   "outputs": [],
   "source": [
    "%%px\n",
    "\n",
    "w2[:,:,:] = 0.5*w2[:,:,:]"
   ]
  },
  {
   "cell_type": "code",
   "execution_count": null,
   "metadata": {
    "collapsed": true
   },
   "outputs": [],
   "source": [
    "%%px\n",
    "\n",
    "avgO = np.average(w2)\n",
    "avgOGl=np.zeros(1,dtype=FFT.float)\n",
    "\n",
    "comm.Allreduce([avgO,MPI.DOUBLE],[avgOGl,MPI.DOUBLE],op=MPI.SUM)\n",
    "avgO = avgOGl[0]/nproc\n",
    "\n",
    "########\n",
    "\n",
    "avgE = np.average(S2)\n",
    "avgEGl=np.zeros(1,dtype=FFT.float)\n",
    "\n",
    "comm.Allreduce([avgE,MPI.DOUBLE],[avgEGl,MPI.DOUBLE],op=MPI.SUM)\n",
    "avgE = avgEGl[0]/nproc\n",
    "\n",
    "########\n",
    "\n",
    "if rank == 0:\n",
    "    print(avgO,avgE,(avgE-avgO)/avgO)\n",
    "    \n",
    "avg = avgE\n",
    "\n",
    "##########################\n",
    "\n",
    "minw2 = w2.min()\n",
    "maxw2 = w2.max()\n",
    "\n",
    "minwGl=np.zeros(nproc,dtype=FFT.float)\n",
    "maxwGl=np.zeros(nproc,dtype=FFT.float)\n",
    "\n",
    "comm.Allgather([minw2,MPI.DOUBLE],[minwGl,MPI.DOUBLE])\n",
    "comm.Allgather([maxw2,MPI.DOUBLE],[maxwGl,MPI.DOUBLE])\n",
    "\n",
    "minO = minwGl.min()\n",
    "maxO = maxwGl.max()\n",
    "\n",
    "comm.Barrier()\n",
    "\n",
    "##########################\n",
    "\n",
    "minS2 = S2.min()\n",
    "maxS2 = S2.max()\n",
    "\n",
    "minS2Gl=np.zeros(nproc,dtype=FFT.float)\n",
    "maxS2Gl=np.zeros(nproc,dtype=FFT.float)\n",
    "\n",
    "comm.Allgather([minS2,MPI.DOUBLE],[minS2Gl,MPI.DOUBLE])\n",
    "comm.Allgather([maxS2,MPI.DOUBLE],[maxS2Gl,MPI.DOUBLE])\n",
    "\n",
    "minE = minS2Gl.min()\n",
    "maxE = maxS2Gl.max()\n",
    "\n",
    "comm.Barrier()\n",
    "\n",
    "minJ = min(minO,minE)\n",
    "maxJ = max(maxO,maxE)\n",
    "print(\"Separate : \",minO/avg,maxO/avg,minE/avg,maxE/avg)\n",
    "print(\"Joint : \",minJ/avg,maxJ/avg)\n",
    "\n",
    "comm.Barrier()\n",
    "\n",
    "if rank==0:\n",
    "    print(\"<w^2> : \"+str(avgOmega))\n",
    "    print(\"min w2/<w^2> : \"+str(minw2/avgOmega))\n",
    "    print(\"min w2/<w^2> : \"+str(maxw2/avgOmega))\n",
    "    print(\"<w^2> : \"+str(avgOmega))\n",
    "    print(\"min w2/<w^2> : \"+str(minw2/avgOmega))\n",
    "    print(\"min w2/<w^2> : \"+str(maxw2/avgOmega))"
   ]
  },
  {
   "cell_type": "code",
   "execution_count": null,
   "metadata": {
    "collapsed": true
   },
   "outputs": [],
   "source": [
    "%%px\n",
    "\n",
    "print(\"log: \",np.log(minJ/avg),np.log(maxJ/avg))\n",
    "print(\"log_10: \",np.log(minJ/avg)/np.log(10),np.log(maxJ/avg)/np.log(10))"
   ]
  },
  {
   "cell_type": "code",
   "execution_count": null,
   "metadata": {
    "collapsed": true
   },
   "outputs": [],
   "source": [
    "%%px\n",
    "\n",
    "E_bins = 4\n",
    "dt = 0.118441158993\n",
    "tl = np.logspace(np.log(minJ),np.log(maxJ),num=E_bins,endpoint=True,base=np.e) "
   ]
  },
  {
   "cell_type": "code",
   "execution_count": null,
   "metadata": {
    "collapsed": true
   },
   "outputs": [],
   "source": [
    "%%px\n",
    "\n",
    "print(np.log(tl/avg)/np.log(10))"
   ]
  },
  {
   "cell_type": "code",
   "execution_count": null,
   "metadata": {
    "collapsed": true
   },
   "outputs": [],
   "source": [
    "%%px \n",
    "\n",
    "t = 20\n",
    "c = 'r'\n",
    "\n",
    "lcorr = []\n",
    "llogr = []\n",
    "volFr = []\n",
    "\n",
    "comm.Barrier(); t1=MPI.Wtime()\n",
    "\n",
    "######################################\n",
    "\n",
    "for i in range(E_bins-1):\n",
    "    comm.Barrier(); istart=MPI.Wtime()\n",
    "    for j in range(E_bins-1):\n",
    "        comm.Barrier(); jstart=MPI.Wtime()\n",
    "        \n",
    "        tOm = tl[i]\n",
    "        tOM = tl[i]*(1+dt)\n",
    "        \n",
    "        tEm = tl[j]\n",
    "        tEM = tl[j]*(1+dt)\n",
    "        \n",
    "        Index = (w2>tOm*avg)&(w2<tOM*avg)&(S2>tEm*avg)&(S2<tEM*avg)\n",
    "        \n",
    "        chi[:,:,:] = 0\n",
    "        chi[Index] = 1\n",
    "        \n",
    "        vf = np.average(chi)\n",
    "        volFr.append(vf)\n",
    "        if vf<=0.:\n",
    "            corrSum = np.zeros(rbins.shape)\n",
    "            r2Loc = np.ones(rbins.shape)\n",
    "        else:\n",
    "            cchi = FFT.fftn(chi,cchi)\n",
    "            tmp = cchi*(cchi.conj())\n",
    "            corr[:,:,:] = corr[:,:,:]/(Nx*Ny*Nz)\n",
    "            \n",
    "            corrLoc,redges = np.histogram(r2rt,bins = rbins,weights=corr)\n",
    "            r2Loc,r2edges = np.histogram(r2rt,bins = rbins)\n",
    "            \n",
    "            corrSum = np.zeros(corrLoc.shape,dtype=corrLoc.dtype)\n",
    "            comm.Allreduce([corrLoc,MPI.DOUBLE],[corrSum,MPI.DOUBLE],op=MPI.SUM)\n",
    "            r2Sum = np.zeros(r2Loc.shape,dtype=r2Loc.dtype)\n",
    "            comm.Allreduce([r2Loc,MPI.DOUBLE],[r2Sum,MPI.DOUBLE],op=MPI.SUM)\n",
    "            \n",
    "        if rank==0:\n",
    "            volFr.append(vf)\n",
    "            llogr.append(r2Loc)\n",
    "            lcorr.append(corrLoc)\n",
    "        \n",
    "        comm.Barrier(); jend=MPI.Wtime()\n",
    "        print(\"time for iteration: \"+str(jend-jstart))\n",
    "        \n",
    "    comm.Barrier(); iend=MPI.Wtime()    \n",
    "    print(\"time to process line: \"+str(iend-istart))"
   ]
  },
  {
   "cell_type": "code",
   "execution_count": null,
   "metadata": {
    "collapsed": true
   },
   "outputs": [],
   "source": [
    "%%px\n",
    "\n",
    "if rank==0:\n",
    "    eta = 0.00280\n",
    "    \n",
    "    rbins = np.linspace(minrt,maxrt,1+ner)\n",
    "    \n",
    "    bins = (rbins[0:ner]+rbins[1:ner+1])/2\n",
    "    tempRp = bins[(bins/eta>42.5)&(bins/eta<425)]/eta\n",
    "    \n",
    "    fiits = []    \n",
    "    for i in range(E_bins-1):\n",
    "        for j in range(E_bins-1):\n",
    "            tOm = tl[i]\n",
    "            tOM = tl[i]*(1+dt)\n",
    "            \n",
    "            tEm = tl[j]\n",
    "            tEM = tl[j]*(1+dt)\n",
    "            \n",
    "            if(volFr[i*(E_bins-1)+j]>0):\n",
    "                corrF = lcorr[i*(E_bins-1)+j]/llogr[i*(E_bins-1)+j]\n",
    "                \n",
    "                tempCorrF = corrF[(bins/eta>42.5)&(bins/eta<425)]\n",
    "                idx = tempCorrF>0\n",
    "                \n",
    "                if(len(tempCorrF[idx])>0):\n",
    "                    fit = np.polyfit(np.log(tempRp[idx]),np.log(tempCorrF[idx]/corrF[0]),1)\n",
    "                else:\n",
    "                    fit = np.array([-3,0])\n",
    "            else:\n",
    "                fit = np.array([-3,0])\n",
    "                \n",
    "            fiits.append(fit[0])\n",
    "            print('t = ({one:.7f},{two:.7f})*sigma_2: Linear fit [alpha A] = {tree:.3f}'.format(one=np.log(np.sqrt(tOm*tOM)/avg)/np.log(10),two=np.log(np.sqrt(tEm*tEM)/avg)/np.log(10),tree=fit[0]+3))\n",
    "            \n",
    "    fiits = np.array(fiits)"
   ]
  },
  {
   "cell_type": "code",
   "execution_count": null,
   "metadata": {
    "collapsed": true
   },
   "outputs": [],
   "source": [
    "%%px\n",
    "\n",
    "print(fiits.shape)\n",
    "np.savez(\"joint-corr-dims.npz\",fiits=fiits,E_bins=E_bins,tl=tl,dt=dt)"
   ]
  },
  {
   "cell_type": "code",
   "execution_count": null,
   "metadata": {
    "collapsed": true
   },
   "outputs": [],
   "source": [
    "%%px\n",
    "\n",
    "pfiits = np.reshape(fiits,(E_bins-1,E_bins-1))\n",
    "pfiits = pfiits+3"
   ]
  },
  {
   "cell_type": "code",
   "execution_count": null,
   "metadata": {
    "collapsed": true
   },
   "outputs": [],
   "source": [
    "%%px\n",
    "\n",
    "pfiits[pfiits==0.] = np.nan"
   ]
  },
  {
   "cell_type": "code",
   "execution_count": null,
   "metadata": {
    "collapsed": true
   },
   "outputs": [],
   "source": [
    "%%px\n",
    "\n",
    "if rank==0:\n",
    "    fig = plt.figure(figsize=(12,12))\n",
    "    \n",
    "    plt.title(r'$D(\\chi_\\omega,\\chi_\\epsilon)$',size=20)\n",
    "    plt.ylabel(r'$\\log_{10}{( S^2/\\langle S^2\\rangle)}$',size=20)\n",
    "    plt.xlabel(r'$\\log_{10}{( (\\omega^2/2)/\\langle S^2\\rangle)}$',size=20)\n",
    "    \n",
    "    plt.xlim([-7.,3.])\n",
    "    plt.ylim([-7.,3.])\n",
    "    \n",
    "    ticks = [-7,-6,-5,-4,-3,-2,-1,0,1,2,3]\n",
    "    plt.xticks(ticks)\n",
    "    plt.yticks(ticks)\n",
    "    \n",
    "    plt.grid()\n",
    "    \n",
    "    bmin = np.log(np.sqrt(tl[0]*tl[1])/avg)/np.log(10)\n",
    "    bmax = np.log(np.sqrt(tl[E_bins-2]*tl[E_bins-1])/avg)/np.log(10) \n",
    "    cax = plt.imshow(pfiits,interpolation='None',extent=(bmin,bmax,bmin,bmax),origin='top',aspect='equal',vmin=0.,vmax=3.)\n",
    "    \n",
    "    cbar = fig.colorbar(cax,fraction=0.046, pad=0.04)\n",
    "    plt.savefig('joint-dimension-computation.pdf', format='pdf')"
   ]
  },
  {
   "cell_type": "code",
   "execution_count": null,
   "metadata": {
    "collapsed": true
   },
   "outputs": [],
   "source": []
  }
 ],
 "metadata": {
  "kernelspec": {
   "display_name": "Python 2",
   "language": "python",
   "name": "python2"
  },
  "language_info": {
   "codemirror_mode": {
    "name": "ipython",
    "version": 2
   },
   "file_extension": ".py",
   "mimetype": "text/x-python",
   "name": "python",
   "nbconvert_exporter": "python",
   "pygments_lexer": "ipython2",
   "version": "2.7.13"
  }
 },
 "nbformat": 4,
 "nbformat_minor": 2
}
