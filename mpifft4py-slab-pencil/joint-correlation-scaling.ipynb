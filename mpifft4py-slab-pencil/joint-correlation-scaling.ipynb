{
 "cells": [
  {
   "cell_type": "code",
   "execution_count": 1,
   "metadata": {
    "collapsed": true
   },
   "outputs": [],
   "source": [
    "#!ipcluster start -n 8 --engines=MPI --profile='mpi' # for parallel run: start the engines using terminal\n",
    "from ipyparallel import Client\n",
    "rc = Client(profile='mpi64')"
   ]
  },
  {
   "cell_type": "code",
   "execution_count": 2,
   "metadata": {
    "collapsed": true
   },
   "outputs": [],
   "source": [
    "%%px\n",
    "# Import the libraries\n",
    "\n",
    "import os\n",
    "import sys\n",
    "import math\n",
    "import pyJHTDB\n",
    "import numpy as np\n",
    "import pyfftw as ft \n",
    "from mpi4py import MPI\n",
    "import matplotlib\n",
    "import matplotlib.pyplot as plt\n",
    "from pyJHTDB import libJHTDB\n",
    "from pyJHTDB.dbinfo import isotropic1024coarse\n",
    "\n",
    "from mpiFFT4py.slab import R2C"
   ]
  },
  {
   "cell_type": "code",
   "execution_count": 3,
   "metadata": {},
   "outputs": [
    {
     "name": "stdout",
     "output_type": "stream",
     "text": [
      "[stdout:20] \n",
      "n_proc = 64\n",
      "rank = 0\n"
     ]
    }
   ],
   "source": [
    "%%px\n",
    "\n",
    "Nx = isotropic1024coarse['nx']; Ny = isotropic1024coarse['ny']; Nz = isotropic1024coarse['nz']\n",
    "Lx = isotropic1024coarse['lx']; Ly = isotropic1024coarse['ly']; Lz = isotropic1024coarse['lz']\n",
    "\n",
    "comm = MPI.COMM_WORLD\n",
    "rank = comm.Get_rank()\n",
    "nproc = comm.Get_size()\n",
    "if(rank==0):\n",
    "    print(\"n_proc = \"+str(nproc))\n",
    "    print(\"rank = \"+str(rank))\n",
    "\n",
    "# Computational Domain\n",
    "\n",
    "nx=Nx//nproc; ny=Ny; nz=Nz\n",
    "nz_half=nz//2\n",
    "nek=int(math.sqrt(2.0)/3*Nx)\n",
    "time = 0.0\n",
    "\n",
    "chkSz = 32\n",
    "slabs = nx//chkSz"
   ]
  },
  {
   "cell_type": "code",
   "execution_count": 4,
   "metadata": {
    "collapsed": true
   },
   "outputs": [],
   "source": [
    "%%px \n",
    "\n",
    "N = np.array([Nx,Ny,Nz],dtype=int)\n",
    "L = np.array([Lx,Ly,Lz],dtype=float)\n",
    "\n",
    "FFT = R2C(N, L, MPI.COMM_WORLD, \"double\", communication='Alltoallw')"
   ]
  },
  {
   "cell_type": "code",
   "execution_count": 5,
   "metadata": {},
   "outputs": [
    {
     "name": "stdout",
     "output_type": "stream",
     "text": [
      "[stdout:20] Alocating vectors: 0.03 seconds\n"
     ]
    }
   ],
   "source": [
    "%%px\n",
    "\n",
    "dx = isotropic1024coarse['dx']\n",
    "ner = int(1024*np.sqrt(3))\n",
    "\n",
    "comm.Barrier(); t1=MPI.Wtime()\n",
    "\n",
    "X = np.zeros(FFT.real_shape(), dtype=FFT.float)\n",
    "Y = np.zeros(FFT.real_shape(), dtype=FFT.float)\n",
    "Z = np.zeros(FFT.real_shape(), dtype=FFT.float)\n",
    "\n",
    "r2 = np.zeros(FFT.real_shape(), dtype=FFT.float)\n",
    "\n",
    "chi = np.zeros(FFT.real_shape(), dtype=FFT.float)\n",
    "cchi = np.zeros(FFT.complex_shape(), dtype=FFT.complex)\n",
    "corr = np.zeros(FFT.real_shape(), dtype=FFT.float)\n",
    "iCorr = np.zeros(FFT.real_shape(), dtype=FFT.float)\n",
    "\n",
    "r2Sum = np.zeros(FFT.real_shape(), dtype=FFT.float)\n",
    "r2F = np.zeros(FFT.real_shape(), dtype=FFT.float)\n",
    "\n",
    "comm.Barrier(); t2=MPI.Wtime()\n",
    "if(rank==0):\n",
    "    sys.stdout.write('Alocating vectors: {0:.2f} seconds\\n'.format(t2-t1))"
   ]
  },
  {
   "cell_type": "code",
   "execution_count": 6,
   "metadata": {},
   "outputs": [
    {
     "name": "stdout",
     "output_type": "stream",
     "text": [
      "[stdout:20] Preparing the real domain for radial integration: 4.59 seconds\n"
     ]
    }
   ],
   "source": [
    "%%px\n",
    "\n",
    "comm.Barrier(); t1=MPI.Wtime()\n",
    "for i in range(nx):\n",
    "    X[i,:,:] = (i+rank*nx)*isotropic1024coarse['dx']\n",
    "\n",
    "for j in range(ny):\n",
    "    Y[:,j,:] = j*isotropic1024coarse['dy']\n",
    "    \n",
    "for k in range(nz):\n",
    "    Z[:,:,k] = k*isotropic1024coarse['dz']\n",
    "    \n",
    "r2[:,:,:] = X[:,:,:]**2+Y[:,:,:]**2+Z[:,:,:]**2\n",
    "\n",
    "r2rt = np.sqrt(r2)\n",
    "\n",
    "minrt = r2rt.min()\n",
    "maxrt = r2rt.max()\n",
    "\n",
    "minr2Gl=np.zeros(nproc,dtype=FFT.float)\n",
    "maxr2Gl=np.zeros(nproc,dtype=FFT.float)\n",
    "\n",
    "comm.Allgather([minrt,MPI.DOUBLE],[minr2Gl,MPI.DOUBLE])\n",
    "comm.Allgather([maxrt,MPI.DOUBLE],[maxr2Gl,MPI.DOUBLE])\n",
    "\n",
    "minrt = minr2Gl.min()\n",
    "maxrt = maxr2Gl.max()\n",
    "\n",
    "comm.Barrier(); t2=MPI.Wtime()\n",
    "if(rank==0):\n",
    "    sys.stdout.write('Preparing the real domain for radial integration: {0:.2f} seconds\\n'.format(t2-t1))"
   ]
  },
  {
   "cell_type": "code",
   "execution_count": 7,
   "metadata": {
    "collapsed": true
   },
   "outputs": [],
   "source": [
    "%%px\n",
    "\n",
    "ner = int((maxrt-minrt)/isotropic1024coarse['dx'])\n",
    "\n",
    "rbins = np.linspace(minrt,maxrt,ner+1)"
   ]
  },
  {
   "cell_type": "code",
   "execution_count": 8,
   "metadata": {},
   "outputs": [
    {
     "name": "stdout",
     "output_type": "stream",
     "text": [
      "[stdout:20] \n",
      "Finished loading\n",
      "Load from disk: 1.01 seconds\n"
     ]
    }
   ],
   "source": [
    "%%px\n",
    "\n",
    "cacheEnstrophyData = False\n",
    "loadEnstrophyFromCache = True\n",
    "\n",
    "folder = \"/home/admin/scratch/slab64\"\n",
    "filename = \"aws-enstrophy-\"+str(rank)+\".npz\"\n",
    "file = folder + \"/\" + filename\n",
    "\n",
    "if(loadEnstrophyFromCache):\n",
    "    comm.Barrier(); t1=MPI.Wtime()\n",
    "    content = np.load(file)\n",
    "    \n",
    "    w2 = ft.zeros_aligned(FFT.real_shape(), dtype=FFT.float)\n",
    "    \n",
    "    #if(int(content['nproc'])!=nproc):\n",
    "    #    print(\"Unmatched number of processes. Must first pre-process to adequate number of process\")\n",
    "    w2[:,:,:] = content['w2'].astype(FFT.float)\n",
    "    \n",
    "    comm.Barrier(); t2=MPI.Wtime()\n",
    "    if(rank==0):\n",
    "        print(\"Finished loading\")\n",
    "        sys.stdout.write('Load from disk: {0:.2f} seconds\\n'.format(t2-t1))\n",
    "\n",
    "if(cacheEnstrophyData):\n",
    "    \n",
    "    comm.Barrier(); t1=MPI.Wtime()\n",
    "    np.savez(file,w2=w2,nproc=nproc)\n",
    "    comm.Barrier(); t2=MPI.Wtime()\n",
    "    if(rank==0):\n",
    "        sys.stdout.write('Caching the data: {0:.2f} seconds\\n'.format(t2-t1))"
   ]
  },
  {
   "cell_type": "code",
   "execution_count": 9,
   "metadata": {},
   "outputs": [
    {
     "name": "stdout",
     "output_type": "stream",
     "text": [
      "[stdout:20] \n",
      "Finished loading\n",
      "Load from disk: 1.06 seconds\n"
     ]
    }
   ],
   "source": [
    "%%px\n",
    "\n",
    "cacheStrainrateData = False\n",
    "loadStrainrateFromCache = True\n",
    "\n",
    "folder = \"/home/admin/scratch/slab64\"\n",
    "filename = \"aws-strainrate-\"+str(rank)+\".npz\"\n",
    "file = folder + \"/\" + filename\n",
    "\n",
    "if(loadStrainrateFromCache):\n",
    "    comm.Barrier(); t1=MPI.Wtime()\n",
    "    content = np.load(file)\n",
    "    \n",
    "    S2 = ft.zeros_aligned(FFT.real_shape(), dtype=FFT.float)\n",
    "    \n",
    "    #if(int(content['nproc'])!=nproc):\n",
    "    #    print(\"Unmatched number of processes. Must first pre-process to adequate number of process\")\n",
    "    S2[:,:,:] = content['S2'].astype(FFT.float)\n",
    "    \n",
    "    comm.Barrier(); t2=MPI.Wtime()\n",
    "    if(rank==0):\n",
    "        print(\"Finished loading\")\n",
    "        sys.stdout.write('Load from disk: {0:.2f} seconds\\n'.format(t2-t1))\n",
    "\n",
    "if(cacheEnstrophyData):\n",
    "    \n",
    "    comm.Barrier(); t1=MPI.Wtime()\n",
    "    np.savez(file,S2=S2,nproc=nproc)\n",
    "    comm.Barrier(); t2=MPI.Wtime()\n",
    "    if(rank==0):\n",
    "        sys.stdout.write('Caching the data: {0:.2f} seconds\\n'.format(t2-t1))"
   ]
  },
  {
   "cell_type": "code",
   "execution_count": 10,
   "metadata": {
    "collapsed": true
   },
   "outputs": [],
   "source": [
    "%%px\n",
    "\n",
    "w2[:,:,:] = 0.5*w2[:,:,:]"
   ]
  },
  {
   "cell_type": "code",
   "execution_count": 11,
   "metadata": {},
   "outputs": [
    {
     "name": "stdout",
     "output_type": "stream",
     "text": [
      "[stdout:20] \n",
      "(249.21766810086746, 249.21767300807878, 1.9690463189687832e-08)\n",
      "('Separate : ', 1.4399786502124356e-07, 675.17019045653899, 3.9848990133269396e-05, 225.01040811291978)\n",
      "('Joint : ', 1.4399786502124356e-07, 675.17019045653899)\n",
      "<w^2> : 249.217668101\n",
      "min w2/<w^2> : 3.40520121204e-06\n",
      "min w2/<w^2> : 327.080128201\n",
      "<w^2> : 249.217673008\n",
      "min w2/<w^2> : 3.40520121204e-06\n",
      "min w2/<w^2> : 327.080128201\n"
     ]
    }
   ],
   "source": [
    "%%px\n",
    "\n",
    "avgO = np.average(w2)\n",
    "avgOGl=np.zeros(1,dtype=FFT.float)\n",
    "\n",
    "comm.Allreduce([avgO,MPI.DOUBLE],[avgOGl,MPI.DOUBLE],op=MPI.SUM)\n",
    "avgO = avgOGl[0]/nproc\n",
    "\n",
    "########\n",
    "\n",
    "avgE = np.average(S2)\n",
    "avgEGl=np.zeros(1,dtype=FFT.float)\n",
    "\n",
    "comm.Allreduce([avgE,MPI.DOUBLE],[avgEGl,MPI.DOUBLE],op=MPI.SUM)\n",
    "avgE = avgEGl[0]/nproc\n",
    "\n",
    "########\n",
    "\n",
    "if rank == 0:\n",
    "    print(avgO,avgE,(avgE-avgO)/avgO)\n",
    "    \n",
    "avg = avgE\n",
    "\n",
    "##########################\n",
    "\n",
    "minw2 = w2.min()\n",
    "maxw2 = w2.max()\n",
    "\n",
    "minwGl=np.zeros(nproc,dtype=FFT.float)\n",
    "maxwGl=np.zeros(nproc,dtype=FFT.float)\n",
    "\n",
    "comm.Allgather([minw2,MPI.DOUBLE],[minwGl,MPI.DOUBLE])\n",
    "comm.Allgather([maxw2,MPI.DOUBLE],[maxwGl,MPI.DOUBLE])\n",
    "\n",
    "minO = minwGl.min()\n",
    "maxO = maxwGl.max()\n",
    "\n",
    "comm.Barrier()\n",
    "\n",
    "##########################\n",
    "\n",
    "minS2 = S2.min()\n",
    "maxS2 = S2.max()\n",
    "\n",
    "minS2Gl=np.zeros(nproc,dtype=FFT.float)\n",
    "maxS2Gl=np.zeros(nproc,dtype=FFT.float)\n",
    "\n",
    "comm.Allgather([minS2,MPI.DOUBLE],[minS2Gl,MPI.DOUBLE])\n",
    "comm.Allgather([maxS2,MPI.DOUBLE],[maxS2Gl,MPI.DOUBLE])\n",
    "\n",
    "minE = minS2Gl.min()\n",
    "maxE = maxS2Gl.max()\n",
    "\n",
    "comm.Barrier()\n",
    "\n",
    "minJ = min(minO,minE)\n",
    "maxJ = max(maxO,maxE)\n",
    "\n",
    "if rank == 0:\n",
    "    print(\"Separate : \",minO/avg,maxO/avg,minE/avg,maxE/avg)\n",
    "    print(\"Joint : \",minJ/avg,maxJ/avg)\n",
    "\n",
    "comm.Barrier()\n",
    "\n",
    "if rank==0:\n",
    "    print(\"<w^2> : \"+str(avgO))\n",
    "    print(\"min w2/<w^2> : \"+str(minw2/avg))\n",
    "    print(\"min w2/<w^2> : \"+str(maxw2/avg))\n",
    "    print(\"<w^2> : \"+str(avgE))\n",
    "    print(\"min w2/<w^2> : \"+str(minw2/avg))\n",
    "    print(\"min w2/<w^2> : \"+str(maxw2/avg))"
   ]
  },
  {
   "cell_type": "code",
   "execution_count": 12,
   "metadata": {},
   "outputs": [
    {
     "name": "stdout",
     "output_type": "stream",
     "text": [
      "[stdout:20] \n",
      "('log: ', -15.753467363721684, 6.5149647931017798)\n",
      "('log_10: ', -6.8416439469072943, 2.8294132594380632)\n"
     ]
    }
   ],
   "source": [
    "%%px\n",
    "\n",
    "if rank==0:\n",
    "    print(\"log: \",np.log(minJ/avg),np.log(maxJ/avg))\n",
    "    print(\"log_10: \",np.log(minJ/avg)/np.log(10),np.log(maxJ/avg)/np.log(10))"
   ]
  },
  {
   "cell_type": "code",
   "execution_count": 14,
   "metadata": {},
   "outputs": [
    {
     "name": "stdout",
     "output_type": "stream",
     "text": [
      "[stdout:20] ('Single iteration timing: ', 16.792712926864624)\n"
     ]
    }
   ],
   "source": [
    "%%px \n",
    "\n",
    "lcorr = []\n",
    "llogr = []\n",
    "volFr = []\n",
    "\n",
    "comm.Barrier(); t1=MPI.Wtime()\n",
    "\n",
    "######################################\n",
    "\n",
    "t = avg\n",
    "        \n",
    "tOm = t\n",
    "tOM = t*(1+dt)\n",
    "        \n",
    "tEm = t\n",
    "tEM = t*(1+dt)\n",
    "        \n",
    "Index = (w2>tOm)&(w2<tOM)&(S2>tEm)&(S2<tEM)\n",
    "        \n",
    "chi[:,:,:] = 0\n",
    "chi[Index] = 1\n",
    "\n",
    "vf = np.average(chi)\n",
    "vgl = np.zeros(1,dtype=FFT.float)\n",
    "comm.Allreduce([vf,MPI.DOUBLE],[vgl,MPI.DOUBLE],op=MPI.SUM)\n",
    "vf = vgl \n",
    "\n",
    "volFr.append(vf)\n",
    "if vf<=0.:\n",
    "    corrSum = np.zeros(rbins.shape)\n",
    "    r2Loc = np.ones(rbins.shape)\n",
    "else:\n",
    "    cchi = FFT.fftn(chi,cchi)\n",
    "    tmp = cchi*(cchi.conj())\n",
    "    corr[:,:,:] = corr[:,:,:]/(Nx*Ny*Nz)\n",
    "            \n",
    "    corrLoc,redges = np.histogram(r2rt,bins = rbins,weights=corr)\n",
    "    r2Loc,r2edges = np.histogram(r2rt,bins = rbins)\n",
    "            \n",
    "    corrSum = np.zeros(corrLoc.shape,dtype=corrLoc.dtype)\n",
    "    comm.Allreduce([corrLoc,MPI.DOUBLE],[corrSum,MPI.DOUBLE],op=MPI.SUM)\n",
    "    r2Sum = np.zeros(r2Loc.shape,dtype=r2Loc.dtype)\n",
    "    comm.Allreduce([r2Loc,MPI.DOUBLE],[r2Sum,MPI.DOUBLE],op=MPI.SUM)\n",
    "\n",
    "if rank==0:\n",
    "    volFr.append(vf)\n",
    "    llogr.append(r2Loc)\n",
    "    lcorr.append(corrLoc)\n",
    "            \n",
    "comm.Barrier(); t2=MPI.Wtime()\n",
    "\n",
    "if rank==0:\n",
    "    print(\"Single iteration timing: \",t2-t1)"
   ]
  },
  {
   "cell_type": "code",
   "execution_count": 33,
   "metadata": {
    "collapsed": true
   },
   "outputs": [],
   "source": [
    "%%px\n",
    "\n",
    "E_bins = 115\n",
    "dt = 0.118441158993\n",
    "tl = np.logspace(np.log(minJ),np.log(maxJ),num=E_bins,endpoint=True,base=np.e) "
   ]
  },
  {
   "cell_type": "code",
   "execution_count": 34,
   "metadata": {},
   "outputs": [
    {
     "name": "stdout",
     "output_type": "stream",
     "text": [
      "[stdout:20] \n",
      "[-6.84164395 -6.75681011 -6.67197628 -6.58714244 -6.50230861 -6.41747477\n",
      " -6.33264094 -6.2478071  -6.16297327 -6.07813943 -5.9933056  -5.90847176\n",
      " -5.82363793 -5.73880409 -5.65397025 -5.56913642 -5.48430258 -5.39946875\n",
      " -5.31463491 -5.22980108 -5.14496724 -5.06013341 -4.97529957 -4.89046574\n",
      " -4.8056319  -4.72079807 -4.63596423 -4.5511304  -4.46629656 -4.38146273\n",
      " -4.29662889 -4.21179506 -4.12696122 -4.04212739 -3.95729355 -3.87245972\n",
      " -3.78762588 -3.70279205 -3.61795821 -3.53312438 -3.44829054 -3.36345671\n",
      " -3.27862287 -3.19378904 -3.1089552  -3.02412137 -2.93928753 -2.8544537\n",
      " -2.76961986 -2.68478602 -2.59995219 -2.51511835 -2.43028452 -2.34545068\n",
      " -2.26061685 -2.17578301 -2.09094918 -2.00611534 -1.92128151 -1.83644767\n",
      " -1.75161384 -1.66678    -1.58194617 -1.49711233 -1.4122785  -1.32744466\n",
      " -1.24261083 -1.15777699 -1.07294316 -0.98810932 -0.90327549 -0.81844165\n",
      " -0.73360782 -0.64877398 -0.56394015 -0.47910631 -0.39427248 -0.30943864\n",
      " -0.22460481 -0.13977097 -0.05493714  0.0298967   0.11473053  0.19956437\n",
      "  0.28439821  0.36923204  0.45406588  0.53889971  0.62373355  0.70856738\n",
      "  0.79340122  0.87823505  0.96306889  1.04790272  1.13273656  1.21757039\n",
      "  1.30240423  1.38723806  1.4720719   1.55690573  1.64173957  1.7265734\n",
      "  1.81140724  1.89624107  1.98107491  2.06590874  2.15074258  2.23557641\n",
      "  2.32041025  2.40524408  2.49007792  2.57491175  2.65974559  2.74457942\n",
      "  2.82941326]\n"
     ]
    }
   ],
   "source": [
    "%%px\n",
    "\n",
    "if rank==0:\n",
    "    print(np.log(tl/avg)/np.log(10))"
   ]
  },
  {
   "cell_type": "code",
   "execution_count": null,
   "metadata": {},
   "outputs": [],
   "source": [
    "%%px \n",
    "\n",
    "lcorr = []\n",
    "llogr = []\n",
    "volFr = []\n",
    "\n",
    "comm.Barrier(); t1=MPI.Wtime()\n",
    "\n",
    "######################################\n",
    "\n",
    "for i in range(E_bins-1):\n",
    "    comm.Barrier(); istart=MPI.Wtime()\n",
    "    for j in range(E_bins-1):\n",
    "        comm.Barrier(); jstart=MPI.Wtime()\n",
    "        \n",
    "        tOm = tl[i]\n",
    "        tOM = tl[i+1]\n",
    "        \n",
    "        tEm = tl[j]\n",
    "        tEM = tl[j+1]\n",
    "        \n",
    "        Index = (w2>tOm)&(w2<tOM)&(S2>tEm)&(S2<tEM)\n",
    "        \n",
    "        chi[:,:,:] = 0\n",
    "        chi[Index] = 1\n",
    "        \n",
    "        vf = np.average(chi)\n",
    "        vgl = np.zeros(1,dtype=FFT.float)\n",
    "        comm.Allreduce([vf,MPI.DOUBLE],[vgl,MPI.DOUBLE],op=MPI.SUM)\n",
    "        vf = vgl/nproc\n",
    "                    \n",
    "        if vf<=0.:\n",
    "            corrSum = np.zeros(rbins.shape)\n",
    "            r2Loc = np.ones(rbins.shape)\n",
    "        else:\n",
    "            cchi = FFT.fftn(chi,cchi)\n",
    "            tmp = cchi*(cchi.conj())\n",
    "            corr = FFT.ifftn(tmp,corr)\n",
    "            corr[:,:,:] = corr[:,:,:]/(Nx*Ny*Nz)\n",
    "                        \n",
    "            corrLoc,redges = np.histogram(r2rt,bins = rbins,weights=corr)\n",
    "            r2Loc,r2edges = np.histogram(r2rt,bins = rbins)\n",
    "            \n",
    "            corrSum = np.zeros(corrLoc.shape,dtype=corrLoc.dtype)\n",
    "            comm.Allreduce([corrLoc,MPI.DOUBLE],[corrSum,MPI.DOUBLE],op=MPI.SUM)\n",
    "            r2Sum = np.zeros(r2Loc.shape,dtype=r2Loc.dtype)\n",
    "            comm.Allreduce([r2Loc,MPI.DOUBLE],[r2Sum,MPI.DOUBLE],op=MPI.SUM)\n",
    "                        \n",
    "        if rank==0:\n",
    "            volFr.append(vf)\n",
    "            llogr.append(r2Sum)\n",
    "            lcorr.append(corrSum)\n",
    "        \n",
    "        comm.Barrier(); jend=MPI.Wtime()\n",
    "        if rank==0:\n",
    "            print(\"time for iteration: \"+str(jend-jstart))\n",
    "        \n",
    "    comm.Barrier(); iend=MPI.Wtime()    \n",
    "    if rank==0:\n",
    "        print(\"time to process line: \"+str(iend-istart))\n",
    "\n",
    "comm.Barrier(); t2=MPI.Wtime()\n",
    "\n",
    "if rank==0:\n",
    "    print(\"Total computing time: \"+str(t2-t1))"
   ]
  },
  {
   "cell_type": "code",
   "execution_count": null,
   "metadata": {},
   "outputs": [],
   "source": [
    "%%px\n",
    "\n",
    "if rank==0:\n",
    "    for i in range(E_bins-1):\n",
    "        for j in range(E_bins-1):\n",
    "            print(volFr[i*(E_bins-1)+j].shape)\n",
    "            print(lcorr[i*(E_bins-1)+j].shape)\n",
    "            print(llogr[i*(E_bins-1)+j].shape)"
   ]
  },
  {
   "cell_type": "code",
   "execution_count": null,
   "metadata": {},
   "outputs": [],
   "source": [
    "%%px\n",
    "\n",
    "if rank==0:\n",
    "    eta = 0.00280\n",
    "    \n",
    "    rbins = np.linspace(minrt,maxrt,1+ner)    \n",
    "    bins = (rbins[0:ner]+rbins[1:ner+1])/2\n",
    "    tempRp = bins[(bins/eta>42.5)&(bins/eta<425)]/eta\n",
    "    \n",
    "    fiits = []    \n",
    "    for i in range(E_bins-1):\n",
    "        for j in range(E_bins-1):\n",
    "            tOm = tl[i]\n",
    "            tOM = tl[i+1]\n",
    "            \n",
    "            tEm = tl[j]\n",
    "            tEM = tl[j+1]\n",
    "            \n",
    "            if(volFr[i*(E_bins-1)+j]>0):\n",
    "                tcorr = lcorr[i*(E_bins-1)+j][llogr[i*(E_bins-1)+j]>0]\n",
    "                tlogr = llogr[i*(E_bins-1)+j][llogr[i*(E_bins-1)+j]>0]\n",
    "                tbins = bins[llogr[i*(E_bins-1)+j]>0]\n",
    "                \n",
    "                corrF = tcorr/tlogr\n",
    "                tempCorrF = corrF[(tbins/eta>42.5)&(tbins/eta<425)]\n",
    "                idx = (tempCorrF>0)                \n",
    "                \n",
    "                if(len(tempCorrF[idx])>0):\n",
    "                    fit = np.polyfit(np.log(tempRp[idx]),np.log(tempCorrF[idx]/corrF[0]),1)\n",
    "                else:\n",
    "                    fit = np.array([-3,0])\n",
    "            else:\n",
    "                fit = np.array([-3,0])\n",
    "                \n",
    "            fiits.append(fit[0])\n",
    "            print('t = ({one:.7f},{two:.7f})*sigma_2: Linear fit [alpha A] = {tree:.3f}'.format(one=np.log(np.sqrt(tOm*tOM)/avg)/np.log(10),two=np.log(np.sqrt(tEm*tEM)/avg)/np.log(10),tree=fit[0]+3))\n",
    "            \n",
    "    fiits = np.array(fiits)"
   ]
  },
  {
   "cell_type": "code",
   "execution_count": null,
   "metadata": {},
   "outputs": [],
   "source": [
    "%%px\n",
    "\n",
    "if rank==0:\n",
    "    print(fiits.shape)\n",
    "    np.savez(\"joint-corr-dims.npz\",fiits=fiits,E_bins=E_bins,tl=tl,dt=dt)"
   ]
  },
  {
   "cell_type": "code",
   "execution_count": null,
   "metadata": {},
   "outputs": [],
   "source": [
    "%%px\n",
    "%matplotlib inline\n",
    "\n",
    "if rank==0: \n",
    "    pfiits = np.reshape(fiits,(E_bins-1,E_bins-1))\n",
    "    pfiits = pfiits+3\n",
    "    pfiits[pfiits==0.] = np.nan\n",
    "    \n",
    "    fig = plt.figure(figsize=(12,12))\n",
    "    \n",
    "    plt.title(r'$D(\\chi_\\omega,\\chi_\\epsilon)$',size=20)\n",
    "    plt.ylabel(r'$\\log_{10}{( S^2/\\langle S^2\\rangle)}$',size=20)\n",
    "    plt.xlabel(r'$\\log_{10}{( (\\omega^2/2)/\\langle S^2\\rangle)}$',size=20)\n",
    "    \n",
    "    plt.xlim([-7.,3.])\n",
    "    plt.ylim([-7.,3.])\n",
    "    \n",
    "    plt.grid()\n",
    "    \n",
    "    bmin = np.log(np.sqrt(tl[0]*tl[1])/avg)/np.log(10)\n",
    "    bmax = np.log(np.sqrt(tl[E_bins-2]*tl[E_bins-1])/avg)/np.log(10)\n",
    "    print(bmin,bmax)\n",
    "    cax = plt.imshow(pfiits.T,interpolation='None',extent=(bmin,bmax,bmin,bmax),origin='top',aspect='equal',vmin=0.,vmax=3.)\n",
    "    \n",
    "    cbar = fig.colorbar(cax,fraction=0.046, pad=0.04)\n",
    "    plt.savefig('joint-dimension-computation.pdf', format='pdf')"
   ]
  },
  {
   "cell_type": "code",
   "execution_count": null,
   "metadata": {
    "collapsed": true
   },
   "outputs": [],
   "source": []
  }
 ],
 "metadata": {
  "kernelspec": {
   "display_name": "Python 2",
   "language": "python",
   "name": "python2"
  },
  "language_info": {
   "codemirror_mode": {
    "name": "ipython",
    "version": 2
   },
   "file_extension": ".py",
   "mimetype": "text/x-python",
   "name": "python",
   "nbconvert_exporter": "python",
   "pygments_lexer": "ipython2",
   "version": "2.7.13"
  }
 },
 "nbformat": 4,
 "nbformat_minor": 2
}
