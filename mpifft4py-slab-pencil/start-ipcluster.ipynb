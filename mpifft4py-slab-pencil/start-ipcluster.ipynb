{
 "cells": [
  {
   "cell_type": "code",
   "execution_count": null,
   "metadata": {
    "collapsed": true
   },
   "outputs": [],
   "source": [
    "!ipcluster start -n 8 --engines=MPI --profile='mpi'"
   ]
  },
  {
   "cell_type": "code",
   "execution_count": null,
   "metadata": {},
   "outputs": [
    {
     "name": "stdout",
     "output_type": "stream",
     "text": [
      "2017-04-25 20:59:00.068 [IPClusterStart] Removing pid file: /home/admin/.ipython/profile_mpi64/pid/ipcluster.pid\n",
      "2017-04-25 20:59:00.068 [IPClusterStart] Starting ipcluster with [daemon=False]\n",
      "2017-04-25 20:59:00.069 [IPClusterStart] Creating pid file: /home/admin/.ipython/profile_mpi64/pid/ipcluster.pid\n",
      "2017-04-25 20:59:00.069 [IPClusterStart] Starting Controller with LocalControllerLauncher\n",
      "2017-04-25 20:59:01.074 [IPClusterStart] Starting 64 Engines with MPI\n",
      "2017-04-25 20:59:31.080 [IPClusterStart] Engines appear to have started successfully\n"
     ]
    }
   ],
   "source": [
    "!ipcluster start -n 64 --engines=MPI --profile='mpi64'"
   ]
  },
  {
   "cell_type": "code",
   "execution_count": null,
   "metadata": {
    "collapsed": true
   },
   "outputs": [],
   "source": []
  }
 ],
 "metadata": {
  "kernelspec": {
   "display_name": "Python 2",
   "language": "python",
   "name": "python2"
  },
  "language_info": {
   "codemirror_mode": {
    "name": "ipython",
    "version": 2
   },
   "file_extension": ".py",
   "mimetype": "text/x-python",
   "name": "python",
   "nbconvert_exporter": "python",
   "pygments_lexer": "ipython2",
   "version": "2.7.13"
  }
 },
 "nbformat": 4,
 "nbformat_minor": 2
}
