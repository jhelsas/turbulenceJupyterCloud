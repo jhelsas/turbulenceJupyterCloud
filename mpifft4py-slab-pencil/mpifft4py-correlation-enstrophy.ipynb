{
 "cells": [
  {
   "cell_type": "code",
   "execution_count": 1,
   "metadata": {
    "collapsed": true
   },
   "outputs": [],
   "source": [
    "#!ipcluster start -n 8 --engines=MPI --profile='mpi' # for parallel run: start the engines using terminal\n",
    "from ipyparallel import Client\n",
    "rc = Client(profile='mpi')"
   ]
  },
  {
   "cell_type": "code",
   "execution_count": 2,
   "metadata": {
    "collapsed": true
   },
   "outputs": [],
   "source": [
    "%%px\n",
    "# Import the libraries\n",
    "\n",
    "import os\n",
    "import sys\n",
    "import math\n",
    "import pyJHTDB\n",
    "import numpy as np\n",
    "import pyfftw as ft \n",
    "from mpi4py import MPI\n",
    "import matplotlib\n",
    "import matplotlib.pyplot as plt\n",
    "from pyJHTDB import libJHTDB\n",
    "from pyJHTDB.dbinfo import isotropic1024coarse\n",
    "\n",
    "from mpiFFT4py.slab import R2C"
   ]
  },
  {
   "cell_type": "code",
   "execution_count": 3,
   "metadata": {},
   "outputs": [
    {
     "name": "stdout",
     "output_type": "stream",
     "text": [
      "[stdout:5] \n",
      "n_proc = 8\n",
      "rank = 0\n"
     ]
    }
   ],
   "source": [
    "%%px\n",
    "\n",
    "Nx = isotropic1024coarse['nx']; Ny = isotropic1024coarse['ny']; Nz = isotropic1024coarse['nz']\n",
    "Lx = isotropic1024coarse['lx']; Ly = isotropic1024coarse['ly']; Lz = isotropic1024coarse['lz']\n",
    "\n",
    "comm = MPI.COMM_WORLD\n",
    "rank = comm.Get_rank()\n",
    "nproc = comm.Get_size()\n",
    "if(rank==0):\n",
    "    print(\"n_proc = \"+str(nproc))\n",
    "    print(\"rank = \"+str(rank))\n",
    "\n",
    "# Computational Domain\n",
    "\n",
    "nx=Nx//nproc; ny=Ny; nz=Nz\n",
    "nz_half=nz//2\n",
    "nek=int(math.sqrt(2.0)/3*Nx)\n",
    "time = 0.0\n",
    "\n",
    "chkSz = 32\n",
    "slabs = nx//chkSz"
   ]
  },
  {
   "cell_type": "code",
   "execution_count": 4,
   "metadata": {
    "collapsed": true
   },
   "outputs": [],
   "source": [
    "%%px \n",
    "\n",
    "N = np.array([Nx,Ny,Nz],dtype=int)\n",
    "L = np.array([Lx,Ly,Lz],dtype=float)\n",
    "\n",
    "FFT = R2C(N, L, MPI.COMM_WORLD, \"double\", communication='Alltoallw')"
   ]
  },
  {
   "cell_type": "code",
   "execution_count": 5,
   "metadata": {},
   "outputs": [
    {
     "name": "stdout",
     "output_type": "stream",
     "text": [
      "[stdout:5] Alocating vectors: 0.00 seconds\n"
     ]
    }
   ],
   "source": [
    "%%px\n",
    "\n",
    "dx = isotropic1024coarse['dx']\n",
    "ner = int(1024*np.sqrt(3))\n",
    "rbins = np.linspace(-0.5*dx,2*np.pi*np.sqrt(3)+0.5*dx,ner+1)\n",
    "\n",
    "comm.Barrier(); t1=MPI.Wtime()\n",
    "\n",
    "X = np.zeros(FFT.real_shape(), dtype=FFT.float)\n",
    "Y = np.zeros(FFT.real_shape(), dtype=FFT.float)\n",
    "Z = np.zeros(FFT.real_shape(), dtype=FFT.float)\n",
    "\n",
    "r2 = np.zeros(FFT.real_shape(), dtype=FFT.float)\n",
    "\n",
    "chi = np.zeros(FFT.real_shape(), dtype=FFT.float)\n",
    "cchi = np.zeros(FFT.complex_shape(), dtype=FFT.complex)\n",
    "corr = np.zeros(FFT.real_shape(), dtype=FFT.float)\n",
    "iCorr = np.zeros(FFT.real_shape(), dtype=FFT.float)\n",
    "\n",
    "r2Sum = np.zeros(FFT.real_shape(), dtype=FFT.float)\n",
    "r2F = np.zeros(FFT.real_shape(), dtype=FFT.float)\n",
    "\n",
    "comm.Barrier(); t2=MPI.Wtime()\n",
    "if(rank==0):\n",
    "    sys.stdout.write('Alocating vectors: {0:.2f} seconds\\n'.format(t2-t1))"
   ]
  },
  {
   "cell_type": "code",
   "execution_count": 6,
   "metadata": {},
   "outputs": [
    {
     "name": "stdout",
     "output_type": "stream",
     "text": [
      "[stdout:5] Preparing the real domain for radial integration: 602.46 seconds\n"
     ]
    }
   ],
   "source": [
    "%%px\n",
    "\n",
    "comm.Barrier(); t1=MPI.Wtime()\n",
    "for i in range(nx):\n",
    "    X[i,:,:] = (i+rank*nx)*isotropic1024coarse['dx']\n",
    "\n",
    "for j in range(ny):\n",
    "    Y[:,j,:] = j*isotropic1024coarse['dy']\n",
    "    \n",
    "for k in range(nz):\n",
    "    Z[:,:,k] = k*isotropic1024coarse['dz']\n",
    "    \n",
    "r2[:,:,:] = X[:,:,:]**2+Y[:,:,:]**2+Z[:,:,:]**2\n",
    "\n",
    "r2rt = np.sqrt(r2)\n",
    "comm.Barrier(); t2=MPI.Wtime()\n",
    "if(rank==0):\n",
    "    sys.stdout.write('Preparing the real domain for radial integration: {0:.2f} seconds\\n'.format(t2-t1))"
   ]
  },
  {
   "cell_type": "code",
   "execution_count": 7,
   "metadata": {},
   "outputs": [
    {
     "name": "stdout",
     "output_type": "stream",
     "text": [
      "[stdout:5] \n",
      "Finished loading\n",
      "Load from disk: 174.57 seconds\n"
     ]
    }
   ],
   "source": [
    "%%px\n",
    "\n",
    "cacheEnstrophyData = False\n",
    "loadEnstrophyFromCache = True\n",
    "\n",
    "folder = \"/home/idies/workspace/scratch\"\n",
    "filename = \"ref-enstrophy-\"+str(rank)+\".npz\"\n",
    "file = folder + \"/\" + filename\n",
    "\n",
    "if(loadEnstrophyFromCache):\n",
    "    comm.Barrier(); t1=MPI.Wtime()\n",
    "    content = np.load(file)\n",
    "    \n",
    "    w2 = ft.zeros_aligned(FFT.real_shape(), dtype=FFT.float)\n",
    "    \n",
    "    if(int(content['nproc'])!=nproc):\n",
    "        print(\"Unmatched number of processes. Must first pre-process to adequate number of process\")\n",
    "    w2[:,:,:] = content['w2'].astype(FFT.float)\n",
    "    \n",
    "    comm.Barrier(); t2=MPI.Wtime()\n",
    "    if(rank==0):\n",
    "        print(\"Finished loading\")\n",
    "        sys.stdout.write('Load from disk: {0:.2f} seconds\\n'.format(t2-t1))\n",
    "\n",
    "if(cacheEnstrophyData):\n",
    "    \n",
    "    comm.Barrier(); t1=MPI.Wtime()\n",
    "    np.savez(file,w2=w2,nproc=nproc)\n",
    "    comm.Barrier(); t2=MPI.Wtime()\n",
    "    if(rank==0):\n",
    "        sys.stdout.write('Caching the data: {0:.2f} seconds\\n'.format(t2-t1))"
   ]
  },
  {
   "cell_type": "code",
   "execution_count": 8,
   "metadata": {
    "collapsed": true
   },
   "outputs": [],
   "source": [
    "%%px\n",
    "\n",
    "w2[:,:,:] = 0.5*w2[:,:,:]"
   ]
  },
  {
   "cell_type": "code",
   "execution_count": 9,
   "metadata": {},
   "outputs": [
    {
     "name": "stdout",
     "output_type": "stream",
     "text": [
      "[stdout:5] \n",
      "<w^2> : 249.217671246\n",
      "min w2/<w^2> : 1.43020513214e-07\n",
      "min w2/<w^2> : 675.170320624\n"
     ]
    }
   ],
   "source": [
    "%%px\n",
    "\n",
    "avgOmega = np.average(w2)\n",
    "avgOmegaGl=np.zeros(1,dtype=FFT.float)\n",
    "\n",
    "comm.Reduce([avgOmega,MPI.DOUBLE],[avgOmegaGl,MPI.DOUBLE],op=MPI.SUM)\n",
    "avgOmega = avgOmegaGl[0]/nproc\n",
    "avgOmega = comm.bcast(avgOmega, root=0)\n",
    "\n",
    "##########################\n",
    "\n",
    "minw2 = w2.min()\n",
    "maxw2 = w2.max()\n",
    "\n",
    "minwGl=np.zeros(nproc,dtype=FFT.float)\n",
    "maxwGl=np.zeros(nproc,dtype=FFT.float)\n",
    "\n",
    "comm.Allgather([minw2,MPI.DOUBLE],[minwGl,MPI.DOUBLE])\n",
    "comm.Allgather([maxw2,MPI.DOUBLE],[maxwGl,MPI.DOUBLE])\n",
    "\n",
    "minw2 = minwGl.min()\n",
    "maxw2 = maxwGl.max()\n",
    "\n",
    "comm.Barrier()\n",
    "\n",
    "if rank==0:\n",
    "    print(\"<w^2> : \"+str(avgOmega))\n",
    "    print(\"min w2/<w^2> : \"+str(minw2/avgOmega))\n",
    "    print(\"min w2/<w^2> : \"+str(maxw2/avgOmega))"
   ]
  },
  {
   "cell_type": "code",
   "execution_count": 10,
   "metadata": {},
   "outputs": [
    {
     "name": "stdout",
     "output_type": "stream",
     "text": [
      "[stdout:5] Creating the excursion set: 3.68 seconds\n"
     ]
    }
   ],
   "source": [
    "%%px \n",
    "\n",
    "t = 20\n",
    "c = 'r'\n",
    "\n",
    "hist = []\n",
    "r2st = []\n",
    "\n",
    "comm.Barrier(); t1=MPI.Wtime()\n",
    "\n",
    "chi[:,:,:] = 0\n",
    "chi[w2 > t*avgOmega] = 1\n",
    "\n",
    "comm.Barrier(); t2=MPI.Wtime()\n",
    "\n",
    "if rank==0:\n",
    "    sys.stdout.write('Creating the excursion set: {0:.2f} seconds\\n'.format(t2-t1))"
   ]
  },
  {
   "cell_type": "markdown",
   "metadata": {
    "collapsed": true
   },
   "source": []
  },
  {
   "cell_type": "code",
   "execution_count": 11,
   "metadata": {},
   "outputs": [
    {
     "name": "stdout",
     "output_type": "stream",
     "text": [
      "[stdout:5] Foward FFT: 324.19 seconds\n"
     ]
    }
   ],
   "source": [
    "%%px\n",
    "\n",
    "t1=MPI.Wtime()\n",
    "cchi = FFT.fftn(chi,cchi)\n",
    "t2=MPI.Wtime()\n",
    "\n",
    "if rank==0:\n",
    "    sys.stdout.write('Foward FFT: {0:.2f} seconds\\n'.format(t2-t1))"
   ]
  },
  {
   "cell_type": "code",
   "execution_count": 12,
   "metadata": {},
   "outputs": [
    {
     "name": "stdout",
     "output_type": "stream",
     "text": [
      "[stdout:5] Multiplication for correlation: 73.61 seconds\n"
     ]
    }
   ],
   "source": [
    "%%px\n",
    "\n",
    "t1=MPI.Wtime()\n",
    "tmp = cchi*(cchi.conj())\n",
    "t2=MPI.Wtime()\n",
    "\n",
    "if rank==0:\n",
    "    sys.stdout.write('Multiplication for correlation: {0:.2f} seconds\\n'.format(t2-t1))"
   ]
  },
  {
   "cell_type": "code",
   "execution_count": 13,
   "metadata": {},
   "outputs": [
    {
     "name": "stdout",
     "output_type": "stream",
     "text": [
      "[stdout:5] Backward FFT: 378.57 seconds\n"
     ]
    }
   ],
   "source": [
    "%%px\n",
    "\n",
    "t1=MPI.Wtime()\n",
    "corr = FFT.ifftn(tmp,corr)\n",
    "corr[:,:,:] = corr[:,:,:]/(Nx*Ny*Nz)\n",
    "t2=MPI.Wtime()\n",
    "\n",
    "if rank==0:\n",
    "    sys.stdout.write('Backward FFT: {0:.2f} seconds\\n'.format(t2-t1))"
   ]
  },
  {
   "cell_type": "code",
   "execution_count": 14,
   "metadata": {},
   "outputs": [
    {
     "name": "stdout",
     "output_type": "stream",
     "text": [
      "[stdout:5] \n",
      "Radial integration: 68.06 seconds\n",
      "\n"
     ]
    }
   ],
   "source": [
    "%%px\n",
    "\n",
    "t1=MPI.Wtime()\n",
    "\n",
    "corrLoc,redges = np.histogram(r2rt,range=(0.5*dx,(ner+0.5)*dx),bins = rbins,weights=corr)\n",
    "\n",
    "r2Loc,r2edges = np.histogram(r2rt,range=(0.5*dx,(ner+0.5)*dx),bins = rbins)\n",
    "t2=MPI.Wtime()\n",
    "\n",
    "if rank==0:\n",
    "    sys.stdout.write('Radial integration: {0:.2f} seconds\\n'.format(t2-t1))\n",
    "    sys.stdout.write('\\n')"
   ]
  },
  {
   "cell_type": "code",
   "execution_count": 15,
   "metadata": {},
   "outputs": [
    {
     "name": "stdout",
     "output_type": "stream",
     "text": [
      "[stdout:5] \n",
      "Global reduction: 0.00 seconds\n",
      "\n"
     ]
    }
   ],
   "source": [
    "%%px\n",
    "\n",
    "comm.Barrier(); t1=MPI.Wtime()\n",
    "\n",
    "corrSum = np.zeros(corrLoc.shape,dtype=corrLoc.dtype)\n",
    "comm.Reduce([corrLoc,MPI.DOUBLE],[corrSum,MPI.DOUBLE],op=MPI.SUM)\n",
    "comm.Barrier(); t2=MPI.Wtime()    \n",
    "\n",
    "if rank==0:\n",
    "    sys.stdout.write('Global reduction: {0:.2f} seconds\\n'.format(t2-t1))\n",
    "    sys.stdout.write('\\n')"
   ]
  },
  {
   "cell_type": "code",
   "execution_count": 16,
   "metadata": {},
   "outputs": [
    {
     "name": "stdout",
     "output_type": "stream",
     "text": [
      "[stdout:5] \n",
      "Global reduction: 0.00 seconds\n",
      "\n"
     ]
    }
   ],
   "source": [
    "%%px\n",
    "\n",
    "comm.Barrier(); t1=MPI.Wtime()\n",
    "\n",
    "r2Sum = np.zeros(r2Loc.shape,dtype=r2Loc.dtype)\n",
    "comm.Reduce([r2Loc,MPI.DOUBLE],[r2Sum,MPI.DOUBLE],op=MPI.SUM)\n",
    "\n",
    "comm.Barrier(); t2=MPI.Wtime()    \n",
    "\n",
    "if rank==0:\n",
    "    sys.stdout.write('Global reduction: {0:.2f} seconds\\n'.format(t2-t1))\n",
    "    sys.stdout.write('\\n')"
   ]
  },
  {
   "cell_type": "code",
   "execution_count": 17,
   "metadata": {
    "collapsed": true
   },
   "outputs": [],
   "source": [
    "%%px\n",
    "\n",
    "if rank==0:\n",
    "    hist.append(corrSum[:])\n",
    "    r2st.append(r2Sum[:])"
   ]
  },
  {
   "cell_type": "code",
   "execution_count": 18,
   "metadata": {},
   "outputs": [
    {
     "name": "stdout",
     "output_type": "stream",
     "text": [
      "[stdout:5] \n",
      "[[[  2.50329915e-03   1.34179648e-03   6.68347813e-04 ...,   3.64864245e-04\n",
      "     6.68347813e-04   1.34179648e-03]\n",
      "  [  1.35288388e-03   1.00647379e-03   5.75548969e-04 ...,   3.35492194e-04\n",
      "     5.76004386e-04   1.00735016e-03]\n",
      "  [  6.82373531e-04   5.82866371e-04   4.05372120e-04 ...,   2.72988342e-04\n",
      "     4.07841057e-04   5.84639609e-04]\n",
      "  ..., \n",
      "  [  3.77235934e-04   3.46109271e-04   2.78452411e-04 ...,   2.10078433e-04\n",
      "     2.74377875e-04   3.43715772e-04]\n",
      "  [  6.82373531e-04   5.84639609e-04   4.07841057e-04 ...,   2.71116383e-04\n",
      "     4.05372120e-04   5.82866371e-04]\n",
      "  [  1.35288388e-03   1.00735016e-03   5.76004386e-04 ...,   3.34807672e-04\n",
      "     5.75548969e-04   1.00647379e-03]]\n",
      "\n",
      " [[  1.34112500e-03   9.98523086e-04   5.70957549e-04 ...,   3.36088240e-04\n",
      "     5.75547107e-04   1.00373104e-03]\n",
      "  [  1.00634433e-03   8.03547911e-04   5.01298346e-04 ...,   3.12615186e-04\n",
      "     5.05774282e-04   8.07323493e-04]\n",
      "  [  5.84070571e-04   5.08516096e-04   3.67738307e-04 ...,   2.58610584e-04\n",
      "     3.71708535e-04   5.11810184e-04]\n",
      "  ..., \n",
      "  [  3.43480147e-04   3.18441540e-04   2.62639485e-04 ...,   2.02109106e-04\n",
      "     2.58734450e-04   3.17101367e-04]\n",
      "  [  5.81880100e-04   5.10297716e-04   3.70450318e-04 ...,   2.56760046e-04\n",
      "     3.70097347e-04   5.09224832e-04]\n",
      "  [  1.00607984e-03   8.05740245e-04   5.02155162e-04 ...,   3.11335549e-04\n",
      "     5.05574979e-04   8.07584263e-04]]\n",
      "\n",
      " [[  6.68020919e-04   5.70560805e-04   3.97567637e-04 ...,   2.73152255e-04\n",
      "     4.05190513e-04   5.76062128e-04]\n",
      "  [  5.76248392e-04   5.01888804e-04   3.63784842e-04 ...,   2.58642249e-04\n",
      "     3.69647518e-04   5.06308861e-04]\n",
      "  [  4.07804735e-04   3.67620960e-04   2.89196149e-04 ...,   2.22747214e-04\n",
      "     2.94849277e-04   3.73045914e-04]\n",
      "  ..., \n",
      "  [  2.73549929e-04   2.59007327e-04   2.23392621e-04 ...,   1.81009993e-04\n",
      "     2.21631490e-04   2.58039683e-04]\n",
      "  [  4.04045917e-04   3.68596055e-04   2.90913507e-04 ...,   2.20431946e-04\n",
      "     2.92657875e-04   3.69187444e-04]\n",
      "  [  5.74287958e-04   5.01099974e-04   3.63158993e-04 ...,   2.56957486e-04\n",
      "     3.69319692e-04   5.05790114e-04]]\n",
      "\n",
      " ..., \n",
      " [[  8.31857324e-06   8.25244933e-06   8.23754817e-06 ...,   8.11275095e-06\n",
      "     8.17421824e-06   8.25524330e-06]\n",
      "  [  8.32974911e-06   8.21705908e-06   8.16956162e-06 ...,   8.13510269e-06\n",
      "     8.25803727e-06   8.26548785e-06]\n",
      "  [  8.32043588e-06   8.32416117e-06   8.20122659e-06 ...,   8.06711614e-06\n",
      "     8.16956162e-06   8.27480108e-06]\n",
      "  ..., \n",
      "  [  8.00658017e-06   8.08201730e-06   8.16676766e-06 ...,   7.89202750e-06\n",
      "     7.78120011e-06   7.85384327e-06]\n",
      "  [  8.10530037e-06   8.25244933e-06   8.26921314e-06 ...,   7.81007111e-06\n",
      "     7.74487853e-06   7.89109617e-06]\n",
      "  [  8.19936395e-06   8.25617462e-06   8.31577927e-06 ...,   7.97118992e-06\n",
      "     7.99540430e-06   8.07177275e-06]]\n",
      "\n",
      " [[  8.34744424e-06   8.35768878e-06   8.24965537e-06 ...,   8.26548785e-06\n",
      "     8.34465027e-06   8.29994678e-06]\n",
      "  [  8.35396349e-06   8.40891153e-06   8.17514956e-06 ...,   8.31391662e-06\n",
      "     8.48062336e-06   8.39307904e-06]\n",
      "  [  8.32695514e-06   8.37538391e-06   8.11927021e-06 ...,   8.25431198e-06\n",
      "     8.36141407e-06   8.33813101e-06]\n",
      "  ..., \n",
      "  [  7.90040940e-06   8.06059688e-06   8.21705908e-06 ...,   7.87153840e-06\n",
      "     7.71507621e-06   7.81752169e-06]\n",
      "  [  8.06525350e-06   8.23475420e-06   8.35582614e-06 ...,   7.96373934e-06\n",
      "     7.76257366e-06   7.89947808e-06]\n",
      "  [  8.19936395e-06   8.36234540e-06   8.36979598e-06 ...,   8.15000385e-06\n",
      "     8.08387995e-06   8.12113285e-06]]\n",
      "\n",
      " [[  8.36700201e-06   8.30180943e-06   8.15745443e-06 ...,   8.25803727e-06\n",
      "     8.33626837e-06   8.32974911e-06]\n",
      "  [  8.38842243e-06   8.35210085e-06   8.11833888e-06 ...,   8.34185630e-06\n",
      "     8.40704888e-06   8.40611756e-06]\n",
      "  [  8.45640898e-06   8.38842243e-06   8.10995698e-06 ...,   8.24686140e-06\n",
      "     8.35862011e-06   8.46292824e-06]\n",
      "  ..., \n",
      "  [  7.86501914e-06   8.00844282e-06   8.11647624e-06 ...,   7.81938434e-06\n",
      "     7.68806785e-06   7.75232911e-06]\n",
      "  [  8.04755837e-06   8.14720988e-06   8.21799040e-06 ...,   7.95349479e-06\n",
      "     7.81007111e-06   7.88364559e-06]\n",
      "  [  8.22357833e-06   8.24593008e-06   8.23196024e-06 ...,   8.16863030e-06\n",
      "     8.04290175e-06   8.13510269e-06]]]\n"
     ]
    }
   ],
   "source": [
    "%%px\n",
    "\n",
    "if rank==0:\n",
    "    print(corr)"
   ]
  },
  {
   "cell_type": "code",
   "execution_count": 19,
   "metadata": {},
   "outputs": [
    {
     "name": "stdout",
     "output_type": "stream",
     "text": [
      "[stdout:5] t = 20*sigma_2: Linear fit [alpha A] = [-0.79971642 -5.8549116 ]\n"
     ]
    },
    {
     "data": {
      "text/plain": [
       "[output:5]"
      ]
     },
     "metadata": {},
     "output_type": "display_data"
    },
    {
     "data": {
      "image/png": "[encoded data removed]",
      "text/plain": [
       "<matplotlib.figure.Figure at 0x7f01882da128>"
      ]
     },
     "metadata": {
      "engine": 5
     },
     "output_type": "display_data"
    }
   ],
   "source": [
    "%%px\n",
    "%matplotlib inline\n",
    "\n",
    "t = 20\n",
    "\n",
    "if(rank==0):\n",
    "    matplotlib.rc('xtick', labelsize=20) \n",
    "    matplotlib.rc('ytick', labelsize=20) \n",
    "    \n",
    "    idx = r2st[0]>0\n",
    "    \n",
    "    rp=np.linspace(1*dx,ner*dx,ner)\n",
    "    \n",
    "    lrp = rp[idx]\n",
    "    \n",
    "    tempRp = lrp[(lrp>0.1)&(lrp<1.0)]\n",
    "    plt.figure(figsize=(12,12))\n",
    "    plt.xlabel(r'$r$', fontsize=20)\n",
    "    plt.ylabel(r'$\\frac{C(r)}{C(0)} = \\frac{1}{C(0)} \\int_{S^2} \\langle \\Theta_\\chi({\\bf x}) \\Theta_\\chi({\\bf x}+{\\bf r}) \\rangle d\\Omega$', fontsize=20)\n",
    "    plt.xlim([7*10**(-3),np.pi])\n",
    "    plt.ylim([10**(-3),10**0])\n",
    "    #plt.grid()\n",
    "    \n",
    "    #for i in range(1):       \n",
    "    \n",
    "    corrF1 = hist[0][idx]/r2st[0][idx]\n",
    "    \n",
    "    tempCorrF = corrF1[(lrp>0.1)&(lrp<1.0)]\n",
    "    ctmp = (corrF1[300])/(corrF1[0])\n",
    "    \n",
    "    fit = np.polyfit(np.log(tempRp),np.log(tempCorrF/corrF1[0]),1)\n",
    "    print(\"t = \"+str(t)+\"*sigma_2: Linear fit [alpha A] = \"+str(fit))\n",
    "    \n",
    "    plt.loglog(lrp,(corrF1)/(corrF1[0]),c,label=r'$\\omega^2 > '+str(t)\n",
    "                                                                  +r'\\langle \\omega^2\\rangle$ : $3+\\Gamma =' \n",
    "                                                                  +str(3+fit[0])+r'$')\n",
    "    \n",
    "    corrF1 = hist[0][idx]\n",
    "    \n",
    "    plt.loglog(lrp,np.exp(fit[1])*(lrp**(fit[0])),'k--')\n",
    "    \n",
    "    plt.legend(loc='lower left',prop={'size':16})\n",
    "    plt.savefig('mpifft4py-twopoint-enstrophy-0.pdf')"
   ]
  },
  {
   "cell_type": "code",
   "execution_count": null,
   "metadata": {
    "collapsed": true
   },
   "outputs": [],
   "source": []
  }
 ],
 "metadata": {
  "kernelspec": {
   "display_name": "Python 2",
   "language": "python",
   "name": "python2"
  },
  "language_info": {
   "codemirror_mode": {
    "name": "ipython",
    "version": 2
   },
   "file_extension": ".py",
   "mimetype": "text/x-python",
   "name": "python",
   "nbconvert_exporter": "python",
   "pygments_lexer": "ipython2",
   "version": "2.7.13"
  }
 },
 "nbformat": 4,
 "nbformat_minor": 1
}
