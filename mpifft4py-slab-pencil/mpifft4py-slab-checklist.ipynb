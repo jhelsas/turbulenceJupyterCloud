{
 "cells": [
  {
   "cell_type": "code",
   "execution_count": 1,
   "metadata": {
    "collapsed": true
   },
   "outputs": [],
   "source": [
    "#!ipcluster start -n 8 --engines=MPI --profile='mpi' # for parallel run: start the engines using terminal\n",
    "from ipyparallel import Client\n",
    "rc = Client(profile='mpi')"
   ]
  },
  {
   "cell_type": "code",
   "execution_count": 2,
   "metadata": {
    "collapsed": true
   },
   "outputs": [],
   "source": [
    "%%px\n",
    "# Import the libraries\n",
    "\n",
    "import os\n",
    "import sys\n",
    "import math\n",
    "import pyJHTDB\n",
    "import numpy as np\n",
    "import pyfftw as ft \n",
    "from mpi4py import MPI\n",
    "from pyJHTDB import libJHTDB\n",
    "from pyJHTDB.dbinfo import isotropic1024coarse\n",
    "\n",
    "from mpiFFT4py.slab import R2C"
   ]
  },
  {
   "cell_type": "code",
   "execution_count": 3,
   "metadata": {},
   "outputs": [
    {
     "name": "stdout",
     "output_type": "stream",
     "text": [
      "[stdout:6] \n",
      "n_proc = 8\n",
      "rank = 0\n"
     ]
    }
   ],
   "source": [
    "%%px\n",
    "\n",
    "Nx = isotropic1024coarse['nx']; Ny = isotropic1024coarse['ny']; Nz = isotropic1024coarse['nz']\n",
    "Lx = isotropic1024coarse['lx']; Ly = isotropic1024coarse['ly']; Lz = isotropic1024coarse['lz']\n",
    "nu = isotropic1024coarse['nu']\n",
    "\n",
    "comm = MPI.COMM_WORLD; rank = comm.Get_rank(); nproc = comm.Get_size()\n",
    "if(rank==0):\n",
    "    print(\"n_proc = \"+str(nproc))\n",
    "    print(\"rank = \"+str(rank))\n",
    "\n",
    "nx=Nx//nproc; ny=Ny; nz=Nz; nz_half=nz//2\n",
    "nek=int(math.sqrt(2.0)/3*Nx); time = 0.0 \n",
    "\n",
    "chkSz = 32; slabs = nx//chkSz"
   ]
  },
  {
   "cell_type": "code",
   "execution_count": 4,
   "metadata": {
    "collapsed": true
   },
   "outputs": [],
   "source": [
    "%%px \n",
    "\n",
    "N = np.array([Nx,Ny,Nz],dtype=int)\n",
    "L = np.array([Lx,Ly,Lz],dtype=float)\n",
    "\n",
    "FFT = R2C(N, L, MPI.COMM_WORLD, \"double\", communication='Alltoallw')"
   ]
  },
  {
   "cell_type": "code",
   "execution_count": 5,
   "metadata": {},
   "outputs": [
    {
     "name": "stdout",
     "output_type": "stream",
     "text": [
      "[stdout:6] \n",
      "(128, 1024, 1024)\n",
      "(1024, 128, 513)\n"
     ]
    }
   ],
   "source": [
    "%%px\n",
    "\n",
    "if(rank==0):\n",
    "    print(FFT.real_shape())\n",
    "    print(FFT.complex_shape())"
   ]
  },
  {
   "cell_type": "code",
   "execution_count": 6,
   "metadata": {
    "scrolled": false
   },
   "outputs": [
    {
     "name": "stdout",
     "output_type": "stream",
     "text": [
      "[stdout:6] \n",
      "Starting the loading process\n",
      "Finished loading\n",
      "Load from disk: 6.53 seconds\n",
      "vx shape = (128, 1024, 1024)\n"
     ]
    }
   ],
   "source": [
    "%%px\n",
    "\n",
    "from DataDownload import DataDownload\n",
    "\n",
    "# Populate velocity field from the Database\n",
    "\n",
    "if(rank==0):\n",
    "    print(\"Starting the loading process\")\n",
    "\n",
    "##########################################\n",
    "load_from_file = True\n",
    "store_on_file = False\n",
    "auth_token = \"com.gmail.jhelsas-b854269a\"\n",
    "\n",
    "folder = \"/home/admin/scratch\"\n",
    "filename = \"ref-isotropic1024coarse-\"+str(rank)+\"-(t=\"+str(time)+\")\"+\".npz\"\n",
    "file = folder + \"/\" + filename\n",
    "\n",
    "vx = np.zeros(FFT.real_shape(), dtype=FFT.float)\n",
    "vy = np.zeros(FFT.real_shape(), dtype=FFT.float)\n",
    "vz = np.zeros(FFT.real_shape(), dtype=FFT.float)\n",
    "    \n",
    "if(load_from_file):\n",
    "    comm.Barrier(); t1=MPI.Wtime()\n",
    "    content = np.load(file)\n",
    "    if(int(content['nproc'])!=nproc):\n",
    "        print(\"Unmatched number of processes. Must first pre-process to adequate number of process\")\n",
    "        \n",
    "    vx[:,:,:] = content['vx'].astype(FFT.float)\n",
    "    vy[:,:,:] = content['vy'].astype(FFT.float)\n",
    "    vz[:,:,:] = content['vz'].astype(FFT.float)\n",
    "    comm.Barrier(); t2=MPI.Wtime()\n",
    "    if(rank==0):\n",
    "        print(\"Finished loading\")\n",
    "        sys.stdout.write('Load from disk: {0:.2f} seconds\\n'.format(t2-t1))\n",
    "else:\n",
    "    comm.Barrier(); t1=MPI.Wtime()\n",
    "    \n",
    "    ddwnld = DataDownload()\n",
    "    vxd,vyd,vzd = ddwnld.DownldData_pyJHTDB('isotropic1024coarse',time,nx,ny,nz,nproc,rank,auth_token)\n",
    "    \n",
    "    vx[:,:,:] = vxd.astype(FFT.float)\n",
    "    vy[:,:,:] = vyd.astype(FFT.float)\n",
    "    vz[:,:,:] = vzd.astype(FFT.float)\n",
    "    \n",
    "    del vxd,vyd,vzd\n",
    "    \n",
    "    comm.Barrier(); t2=MPI.Wtime()\n",
    "    if(rank==0):\n",
    "        print(\"Finished loading\")\n",
    "        sys.stdout.write('Load field from database: {0:.2f} seconds\\n'.format(t2-t1))\n",
    "    \n",
    "    comm.Barrier(); t1=MPI.Wtime()\n",
    "    \n",
    "    np.savez(file,vx=vx,vy=vy,vz=vz,nproc=nproc)\n",
    "    comm.Barrier(); t2=MPI.Wtime()\n",
    "    if(rank==0):\n",
    "        sys.stdout.write('Caching the data: {0:.2f} seconds\\n'.format(t2-t1))\n",
    "\n",
    "\n",
    "if(rank==0):\n",
    "    print(\"vx shape = \"+str(vx.shape))       "
   ]
  },
  {
   "cell_type": "code",
   "execution_count": 7,
   "metadata": {},
   "outputs": [
    {
     "name": "stdout",
     "output_type": "stream",
     "text": [
      "[stdout:6] \n",
      "kinectic energy = 0.682719227202\n",
      "('Computing kinectic energy: ', 3.983412027359009, 's')\n"
     ]
    }
   ],
   "source": [
    "%%px\n",
    "comm.Barrier(); t1=MPI.Wtime()\n",
    "\n",
    "K = 0.5*(vx**2+vy**2+vz**2)\n",
    "\n",
    "slabK = np.sum(K)\n",
    "\n",
    "avgK=np.zeros(1,dtype=FFT.float)\n",
    "\n",
    "comm.Reduce([slabK,MPI.DOUBLE],[avgK,MPI.DOUBLE],op=MPI.SUM)\n",
    "avgK = avgK[0]*(1024**(-3))\n",
    "avgK = comm.bcast(avgK, root=0)\n",
    "\n",
    "comm.Barrier(); t2=MPI.Wtime()\n",
    "if rank==0:\n",
    "    print(\"kinectic energy = \"+str(avgK))\n",
    "    print(\"Computing kinectic energy: \", t2-t1,\"s\")"
   ]
  },
  {
   "cell_type": "code",
   "execution_count": 8,
   "metadata": {},
   "outputs": [
    {
     "name": "stdout",
     "output_type": "stream",
     "text": [
      "[stdout:6] ('Computing wavenumbers:', 1.7044200897216797)\n"
     ]
    }
   ],
   "source": [
    "%%px\n",
    "comm.Barrier(); t1=MPI.Wtime()\n",
    "\n",
    "kx,ky,kz = FFT.get_local_wavenumbermesh()\n",
    "k2 = kx**2 + ky**2 + kz**2\n",
    "\n",
    "comm.Barrier(); t2=MPI.Wtime()\n",
    "if(rank==0):\n",
    "    print(\"Computing wavenumbers:\",t2-t1)"
   ]
  },
  {
   "cell_type": "code",
   "execution_count": 9,
   "metadata": {},
   "outputs": [
    {
     "name": "stdout",
     "output_type": "stream",
     "text": [
      "[stdout:6] Preparing FFT: 0.00 seconds\n"
     ]
    }
   ],
   "source": [
    "%%px \n",
    "comm.Barrier(); t1=MPI.Wtime()\n",
    "\n",
    "cvx = np.zeros(FFT.complex_shape(), dtype=FFT.complex)\n",
    "cvy = np.zeros(FFT.complex_shape(), dtype=FFT.complex)\n",
    "cvz = np.zeros(FFT.complex_shape(), dtype=FFT.complex)\n",
    "\n",
    "comm.Barrier(); t2=MPI.Wtime()\n",
    "if(rank==0):\n",
    "    sys.stdout.write('Preparing FFT: {0:.2f} seconds\\n'.format(t2-t1))"
   ]
  },
  {
   "cell_type": "code",
   "execution_count": 10,
   "metadata": {},
   "outputs": [
    {
     "name": "stdout",
     "output_type": "stream",
     "text": [
      "[stdout:6] Calculate 3D spatial FFT: 45.67 seconds\n"
     ]
    }
   ],
   "source": [
    "%%px\n",
    "comm.Barrier(); t1=MPI.Wtime()\n",
    "\n",
    "cvx = FFT.fftn(vx,cvx)\n",
    "cvy = FFT.fftn(vy,cvy)\n",
    "cvz = FFT.fftn(vz,cvz)\n",
    "\n",
    "comm.Barrier(); t2=MPI.Wtime()\n",
    "if(rank==0):\n",
    "    sys.stdout.write('Calculate 3D spatial FFT: {0:.2f} seconds\\n'.format(t2-t1))"
   ]
  },
  {
   "cell_type": "code",
   "execution_count": 11,
   "metadata": {},
   "outputs": [
    {
     "name": "stdout",
     "output_type": "stream",
     "text": [
      "[stdout:6] alocating fourier space derivatives: 0.00 seconds\n"
     ]
    }
   ],
   "source": [
    "%%px\n",
    "comm.Barrier(); t1=MPI.Wtime()\n",
    "\n",
    "cA = np.zeros(FFT.complex_shape(), dtype=FFT.complex)\n",
    "\n",
    "comm.Barrier(); t2=MPI.Wtime()\n",
    "if(rank==0):\n",
    "    sys.stdout.write('alocating fourier space derivatives: {0:.2f} seconds\\n'.format(t2-t1))"
   ]
  },
  {
   "cell_type": "code",
   "execution_count": 12,
   "metadata": {},
   "outputs": [
    {
     "name": "stdout",
     "output_type": "stream",
     "text": [
      "[stdout:6] Alocate real space gradients: 0.00 seconds\n"
     ]
    }
   ],
   "source": [
    "%%px\n",
    "comm.Barrier(); t1=MPI.Wtime()\n",
    "\n",
    "A11 = np.zeros(FFT.real_shape(), dtype=FFT.float)\n",
    "A12 = np.zeros(FFT.real_shape(), dtype=FFT.float)\n",
    "A13 = np.zeros(FFT.real_shape(), dtype=FFT.float)\n",
    "A21 = np.zeros(FFT.real_shape(), dtype=FFT.float)\n",
    "A22 = np.zeros(FFT.real_shape(), dtype=FFT.float)\n",
    "A23 = np.zeros(FFT.real_shape(), dtype=FFT.float)\n",
    "A31 = np.zeros(FFT.real_shape(), dtype=FFT.float)\n",
    "A32 = np.zeros(FFT.real_shape(), dtype=FFT.float)\n",
    "A33 = np.zeros(FFT.real_shape(), dtype=FFT.float)\n",
    "\n",
    "comm.Barrier(); t2=MPI.Wtime()\n",
    "if(rank==0):\n",
    "    sys.stdout.write('Alocate real space gradients: {0:.2f} seconds\\n'.format(t2-t1))"
   ]
  },
  {
   "cell_type": "code",
   "execution_count": 13,
   "metadata": {},
   "outputs": [
    {
     "name": "stdout",
     "output_type": "stream",
     "text": [
      "[stdout:6] Calculate velocity gradient in wavenumber space, and FFT back: 59.18 seconds\n"
     ]
    }
   ],
   "source": [
    "%%px\n",
    "comm.Barrier(); t1=MPI.Wtime()\n",
    " \n",
    "cA[:,:,:] = np.complex64(0.0+1.0j)*kx[:,:,:]*cvx[:,:,:]\n",
    "A11 = FFT.ifftn(cA,A11)\n",
    "A11[:,:,:] = A11[:,:,:]\n",
    "\n",
    "cA[:,:,:] = np.complex64(0.0+1.0j)*kx[:,:,:]*cvy[:,:,:]\n",
    "A12 = FFT.ifftn(cA,A12)\n",
    "A12[:,:,:] = A12[:,:,:]\n",
    "\n",
    "cA[:,:,:] = np.complex64(0.0+1.0j)*kx[:,:,:]*cvz[:,:,:]\n",
    "A13 = FFT.ifftn(cA,A13)\n",
    "A13[:,:,:] = A13[:,:,:]\n",
    "\n",
    "comm.Barrier(); t2=MPI.Wtime()\n",
    "if(rank==0):\n",
    "    sys.stdout.write('Calculate velocity gradient in wavenumber space, and FFT back: {0:.2f} seconds\\n'.format(t2-t1))"
   ]
  },
  {
   "cell_type": "code",
   "execution_count": 14,
   "metadata": {},
   "outputs": [
    {
     "name": "stdout",
     "output_type": "stream",
     "text": [
      "[stdout:6] Calculate velocity gradient in wavenumber space: 46.01 seconds\n"
     ]
    }
   ],
   "source": [
    "%%px\n",
    "comm.Barrier(); t1=MPI.Wtime()\n",
    " \n",
    "cA[:,:,:] = np.complex64(0.0+1.0j)*ky[:,:,:]*cvx[:,:,:]\n",
    "A21 = FFT.ifftn(cA,A21)\n",
    "A21[:,:,:] = A21[:,:,:]\n",
    "\n",
    "cA[:,:,:] = np.complex64(0.0+1.0j)*ky[:,:,:]*cvy[:,:,:]\n",
    "A22 = FFT.ifftn(cA,A22)\n",
    "A22[:,:,:] = A22[:,:,:]\n",
    "\n",
    "cA[:,:,:] = np.complex64(0.0+1.0j)*ky[:,:,:]*cvz[:,:,:]\n",
    "A23 = FFT.ifftn(cA,A23)\n",
    "A23[:,:,:] = A23[:,:,:]\n",
    "\n",
    "comm.Barrier(); t2=MPI.Wtime()\n",
    "if(rank==0):\n",
    "    sys.stdout.write('Calculate velocity gradient in wavenumber space: {0:.2f} seconds\\n'.format(t2-t1))"
   ]
  },
  {
   "cell_type": "code",
   "execution_count": 15,
   "metadata": {},
   "outputs": [
    {
     "name": "stdout",
     "output_type": "stream",
     "text": [
      "[stdout:6] Calculate velocity gradient in wavenumber space: 46.41 seconds\n"
     ]
    }
   ],
   "source": [
    "%%px\n",
    "comm.Barrier(); t1=MPI.Wtime()\n",
    " \n",
    "cA[:,:,:] = np.complex64(0.0+1.0j)*kz[:,:,:]*cvx[:,:,:]\n",
    "A31 = FFT.ifftn(cA,A31)\n",
    "A31[:,:,:] = A31[:,:,:]\n",
    "\n",
    "cA[:,:,:] = np.complex64(0.0+1.0j)*kz[:,:,:]*cvy[:,:,:]\n",
    "A32 = FFT.ifftn(cA,A32)\n",
    "A32[:,:,:] = A32[:,:,:]\n",
    "\n",
    "cA[:,:,:] = np.complex64(0.0+1.0j)*kz[:,:,:]*cvz[:,:,:]\n",
    "A33 = FFT.ifftn(cA,A33)\n",
    "A33[:,:,:] = A33[:,:,:]\n",
    "\n",
    "comm.Barrier(); t2=MPI.Wtime()\n",
    "if(rank==0):\n",
    "    sys.stdout.write('Calculate velocity gradient in wavenumber space: {0:.2f} seconds\\n'.format(t2-t1))"
   ]
  },
  {
   "cell_type": "code",
   "execution_count": 16,
   "metadata": {
    "collapsed": true
   },
   "outputs": [],
   "source": [
    "%%px\n",
    "\n",
    "del cA"
   ]
  },
  {
   "cell_type": "code",
   "execution_count": 17,
   "metadata": {
    "collapsed": true
   },
   "outputs": [],
   "source": [
    "%%px\n",
    "\n",
    "del cvx,cvy,cvz"
   ]
  },
  {
   "cell_type": "code",
   "execution_count": 18,
   "metadata": {},
   "outputs": [
    {
     "name": "stdout",
     "output_type": "stream",
     "text": [
      "[stdout:6] \n",
      "<A11> = -1.30098966742e-19\n",
      "<A12> = 5.55111512313e-17\n",
      "<A13> = 1.38777878078e-17\n",
      "<A21> = -1.01686305318e-18\n",
      "<A22> = -1.80841534239e-19\n",
      "<A23> = 3.52471585176e-19\n",
      "<A31> = -9.69798957866e-20\n",
      "<A32> = -1.0412797705e-19\n",
      "<A33> = -2.38926984033e-20\n"
     ]
    }
   ],
   "source": [
    "%%px \n",
    "\n",
    "A  = [A11,A12,A13,A21,A22,A23,A31,A32,A33]\n",
    "la = ['A11','A12','A13','A21','A22','A23','A31','A32','A33']\n",
    "\n",
    "for i in range(9):\n",
    "    Aav = np.average(A[i])\n",
    "    slabAavg = np.sum(Aav)\n",
    "    \n",
    "    avgA =np.zeros(1,dtype=FFT.float)\n",
    "    \n",
    "    comm.Reduce([slabAavg,MPI.DOUBLE],[avgA,MPI.DOUBLE],op=MPI.SUM)\n",
    "    avgA = avgA[0]/nproc #avgK[0]*(1024**(-3))\n",
    "    avgA = comm.bcast(avgA, root=0)\n",
    "    \n",
    "    if rank==0:\n",
    "        print(\"<\"+la[i]+\"> = \"+str(avgA))"
   ]
  },
  {
   "cell_type": "code",
   "execution_count": 19,
   "metadata": {
    "scrolled": true
   },
   "outputs": [
    {
     "name": "stdout",
     "output_type": "stream",
     "text": [
      "[stdout:6] \n",
      "<A11^2> = 33.2611325939\n",
      "<A12^2> = 66.9627075507\n",
      "<A13^2> = 67.0288607655\n",
      "<A21^2> = 65.7716675104\n",
      "<A22^2> = 33.0683197566\n",
      "<A23^2> = 65.7397872063\n",
      "<A31^2> = 66.6281516672\n",
      "<A32^2> = 66.7571668279\n",
      "<A33^2> = 33.2177134126\n"
     ]
    }
   ],
   "source": [
    "%%px \n",
    "\n",
    "A  = [A11,A12,A13,A21,A22,A23,A31,A32,A33]\n",
    "la = ['A11','A12','A13','A21','A22','A23','A31','A32','A33']\n",
    "\n",
    "for i in range(9):\n",
    "    A2av = np.average(A[i]**2)\n",
    "    \n",
    "    avgA2 =np.zeros(1,dtype=FFT.float)\n",
    "    \n",
    "    comm.Reduce([A2av,MPI.DOUBLE],[avgA2,MPI.DOUBLE],op=MPI.SUM)\n",
    "    avgA2 = avgA2[0]/nproc #avgK[0]*(1024**(-3))\n",
    "    avgA2 = comm.bcast(avgA2, root=0)\n",
    "    \n",
    "    if rank==0:\n",
    "        print(\"<\"+la[i]+\"^2> = \"+str(avgA2))"
   ]
  },
  {
   "cell_type": "code",
   "execution_count": 20,
   "metadata": {},
   "outputs": [
    {
     "name": "stdout",
     "output_type": "stream",
     "text": [
      "[stdout:6] \n",
      "<A11^2> = 33.2611325939\n",
      "skewness = <A11^3>/<A11^2>^(3/2) = -0.590255397263\n",
      "\n",
      "\n",
      "<A12^2> = 66.9627075507\n",
      "skewness = <A12^3>/<A12^2>^(3/2) = -0.0262069345797\n",
      "\n",
      "\n",
      "<A13^2> = 67.0288607655\n",
      "skewness = <A13^3>/<A13^2>^(3/2) = -0.044600022822\n",
      "\n",
      "\n",
      "<A21^2> = 65.7716675104\n",
      "skewness = <A21^3>/<A21^2>^(3/2) = -0.00580459082167\n",
      "\n",
      "\n",
      "<A22^2> = 33.0683197566\n",
      "skewness = <A22^3>/<A22^2>^(3/2) = -0.553907679429\n",
      "\n",
      "\n",
      "<A23^2> = 65.7397872063\n",
      "skewness = <A23^3>/<A23^2>^(3/2) = -0.0494113131351\n",
      "\n",
      "\n",
      "<A31^2> = 66.6281516672\n",
      "skewness = <A31^3>/<A31^2>^(3/2) = 0.00386564467191\n",
      "\n",
      "\n",
      "<A32^2> = 66.7571668279\n",
      "skewness = <A32^3>/<A32^2>^(3/2) = 0.00726917637397\n",
      "\n",
      "\n",
      "<A33^2> = 33.2177134126\n",
      "skewness = <A33^3>/<A33^2>^(3/2) = -0.576321276815\n",
      "\n",
      "\n"
     ]
    }
   ],
   "source": [
    "%%px \n",
    "\n",
    "A  = [A11,A12,A13,A21,A22,A23,A31,A32,A33]\n",
    "la = ['A11','A12','A13','A21','A22','A23','A31','A32','A33']\n",
    "\n",
    "for i in range(9):  \n",
    "    A2 = A[i]**2\n",
    "    A2av = np.sum(A2, dtype=FFT.float)\n",
    "    avgA2 =np.zeros(1,dtype=FFT.float)\n",
    "    comm.Reduce([A2av,MPI.DOUBLE],[avgA2,MPI.DOUBLE],op=MPI.SUM)\n",
    "    avgA2 = avgA2[0]/(Nx*Ny*Nz) \n",
    "    avgA2 = comm.bcast(avgA2, root=0)\n",
    "    \n",
    "    if rank==0:\n",
    "        print(\"<\"+la[i]+\"^2> = \"+str(avgA2))\n",
    "        \n",
    "    A3 = A[i]/np.sqrt(avgA2)\n",
    "    A3 = A3**3\n",
    "    A3av = np.sum(A3, dtype=FFT.float)    \n",
    "    avgA3 = np.zeros(1,dtype=FFT.float)    \n",
    "    comm.Reduce([A3av,MPI.DOUBLE],[avgA3,MPI.DOUBLE],op=MPI.SUM)    \n",
    "    avgA3 = avgA3[0]/(Nx*Ny*Nz) \n",
    "    avgA3 = comm.bcast(avgA3, root=0)\n",
    "    \n",
    "    skewness = avgA3#/(avgA2**(3/2))\n",
    "    \n",
    "    if rank==0:\n",
    "        print(\"skewness = <\"+la[i]+\"^3>/\"+\"<\"+la[i]+\"^2>^(3/2) \"+\"= \"+str(skewness) )\n",
    "        print(\"\\n\")"
   ]
  },
  {
   "cell_type": "code",
   "execution_count": 21,
   "metadata": {},
   "outputs": [
    {
     "name": "stdout",
     "output_type": "stream",
     "text": [
      "[stdout:6] <(div v)^2> = 3.28650680121e-09\n"
     ]
    }
   ],
   "source": [
    "%%px \n",
    "\n",
    "div = A11+A22+A33 \n",
    "\n",
    "div2av = np.average(div**2)\n",
    "    \n",
    "avgdiv2 =np.zeros(1,dtype=FFT.float)\n",
    "   \n",
    "comm.Reduce([div2av,MPI.DOUBLE],[avgdiv2,MPI.DOUBLE],op=MPI.SUM)\n",
    "avgdiv2 = avgdiv2[0]/nproc \n",
    "avgdiv2 = comm.bcast(avgdiv2, root=0)\n",
    "\n",
    "if rank==0:\n",
    "    print(\"<(div v)^2> = \"+str(avgdiv2))"
   ]
  },
  {
   "cell_type": "code",
   "execution_count": 22,
   "metadata": {},
   "outputs": [
    {
     "name": "stdout",
     "output_type": "stream",
     "text": [
      "[stdout:6] \n",
      "(1024,)\n",
      "(1024,)\n",
      "(1024,)\n"
     ]
    }
   ],
   "source": [
    "%%px\n",
    "\n",
    "vx_xlp = vx[:,0,0]\n",
    "\n",
    "vx_xl = comm.gather(vx_xlp,root=0)\n",
    "if rank==0:\n",
    "    l = tuple(vx_xl)\n",
    "    vx_xl = np.concatenate(l)\n",
    "\n",
    "vx_yl = vx[0,:,0]\n",
    "vx_zl = vx[0,0,:]\n",
    "\n",
    "##########################\n",
    "\n",
    "vy_xlp = vy[:,0,0]\n",
    "\n",
    "vy_xl = comm.gather(vy_xlp,root=0)\n",
    "if rank==0:\n",
    "    l = tuple(vy_xl)\n",
    "    vy_xl = np.concatenate(l)\n",
    "\n",
    "vy_yl = vy[0,:,0]\n",
    "vy_zl = vy[0,0,:]\n",
    "\n",
    "##########################\n",
    "\n",
    "vz_xlp = vz[:,0,0]\n",
    "\n",
    "vz_xl = comm.gather(vz_xlp,root=0)\n",
    "if rank==0:\n",
    "    l = tuple(vz_xl)\n",
    "    vz_xl = np.concatenate(l)\n",
    "\n",
    "vz_yl = vz[0,:,0]\n",
    "vz_zl = vz[0,0,:]\n",
    "\n",
    "if rank==0:\n",
    "    print(vx_xl.shape)\n",
    "    print(vx_yl.shape)\n",
    "    print(vx_zl.shape)"
   ]
  },
  {
   "cell_type": "code",
   "execution_count": 23,
   "metadata": {
    "collapsed": true
   },
   "outputs": [],
   "source": [
    "%%px\n",
    "\n",
    "vx_xlpdx = A11[:,0,0]\n",
    "\n",
    "vx_xldx = comm.gather(vx_xlpdx,root=0)\n",
    "if rank==0:\n",
    "    ldx = tuple(vx_xldx)\n",
    "    vx_xldx = np.concatenate(ldx)\n",
    "\n",
    "vx_yldx = A21[0,:,0]\n",
    "vx_zldx = A31[0,0,:]\n",
    "\n",
    "########################\n",
    "\n",
    "vy_xlpdx = A12[:,0,0]\n",
    "\n",
    "vy_xldx = comm.gather(vy_xlpdx,root=0)\n",
    "if rank==0:\n",
    "    ldy = tuple(vy_xldx)\n",
    "    vy_xldx = np.concatenate(ldy)\n",
    "\n",
    "vy_yldx = A22[0,:,0]\n",
    "vy_zldx = A32[0,0,:]\n",
    "\n",
    "########################\n",
    "\n",
    "\n",
    "vz_xlpdx = A13[:,0,0]\n",
    "\n",
    "vz_xldx = comm.gather(vz_xlpdx,root=0)\n",
    "if rank==0:\n",
    "    ldz = tuple(vz_xldx)\n",
    "    vz_xldx = np.concatenate(ldz)\n",
    "\n",
    "vz_yldx = A23[0,:,0]\n",
    "vz_zldx = A33[0,0,:]"
   ]
  },
  {
   "cell_type": "code",
   "execution_count": 24,
   "metadata": {},
   "outputs": [
    {
     "name": "stdout",
     "output_type": "stream",
     "text": [
      "[stdout:0] (1024,)\n",
      "[stdout:1] (1024,)\n",
      "[stdout:2] (1024,)\n",
      "[stdout:3] (1024,)\n",
      "[stdout:4] (1024,)\n",
      "[stdout:5] (1024,)\n",
      "[stdout:6] (1024,)\n",
      "[stdout:7] (1024,)\n"
     ]
    },
    {
     "data": {
      "text/plain": [
       "[output:6]"
      ]
     },
     "metadata": {},
     "output_type": "display_data"
    },
    {
     "data": {
      "image/png": "[encoded data removed]",
      "text/plain": [
       "<matplotlib.figure.Figure at 0x7f24b9424310>"
      ]
     },
     "metadata": {
      "engine": 6
     },
     "output_type": "display_data"
    }
   ],
   "source": [
    "%%px\n",
    "%matplotlib inline\n",
    "\n",
    "import matplotlib\n",
    "import matplotlib.pyplot as plt\n",
    "\n",
    "Y = np.linspace(0,2.*np.pi,Ny)\n",
    "print(Y.shape)\n",
    "\n",
    "if rank==0:\n",
    "    plt.plot(Y,vx_xl,'r-')\n",
    "    plt.plot(Y,vx_xldx/100,'b-')\n",
    "    plt.grid()\n",
    "    \n",
    "    plt.xlim((0,2))\n",
    "    \n",
    "    plt.show()"
   ]
  },
  {
   "cell_type": "code",
   "execution_count": 25,
   "metadata": {},
   "outputs": [
    {
     "data": {
      "text/plain": [
       "[output:6]"
      ]
     },
     "metadata": {},
     "output_type": "display_data"
    },
    {
     "data": {
      "image/png": "[encoded data removed]",
      "text/plain": [
       "<matplotlib.figure.Figure at 0x7f23b5ebe8d0>"
      ]
     },
     "metadata": {
      "engine": 6
     },
     "output_type": "display_data"
    }
   ],
   "source": [
    "%%px \n",
    "\n",
    "if rank==0:\n",
    "    pos = vx_xldx > 0\n",
    "    neg = vx_xldx < 0\n",
    "    scale = 30\n",
    "    \n",
    "    dx = 2.*np.pi/1024\n",
    "    vlgrx = np.gradient(vx_xl)/dx\n",
    "    \n",
    "    plt.plot(Y[pos],vx_xl[pos],'r.')\n",
    "    plt.plot(Y[pos],vx_xldx[pos]/scale,'b.')\n",
    "    \n",
    "    plt.plot(Y[neg],vx_xl[neg],'m.')\n",
    "    plt.plot(Y[neg],vx_xldx[neg]/scale,'k.')\n",
    "    \n",
    "    plt.plot(Y,vlgrx/scale,'g')\n",
    "    plt.grid()\n",
    "    \n",
    "    plt.xlim((1,2))\n",
    "    \n",
    "    plt.show()"
   ]
  },
  {
   "cell_type": "code",
   "execution_count": 26,
   "metadata": {},
   "outputs": [
    {
     "data": {
      "text/plain": [
       "[output:6]"
      ]
     },
     "metadata": {},
     "output_type": "display_data"
    },
    {
     "data": {
      "image/png": "[encoded data removed]",
      "text/plain": [
       "<matplotlib.figure.Figure at 0x7f24e62d8850>"
      ]
     },
     "metadata": {
      "engine": 6
     },
     "output_type": "display_data"
    },
    {
     "data": {
      "image/png": "[encoded data removed]",
      "text/plain": [
       "<matplotlib.figure.Figure at 0x7f23b5cc7dd0>"
      ]
     },
     "metadata": {
      "engine": 6
     },
     "output_type": "display_data"
    },
    {
     "data": {
      "image/png": "[encoded data removed]",
      "text/plain": [
       "<matplotlib.figure.Figure at 0x7f23b5b89b50>"
      ]
     },
     "metadata": {
      "engine": 6
     },
     "output_type": "display_data"
    }
   ],
   "source": [
    "%%px \n",
    "\n",
    "if rank==0:\n",
    "    pos = vx_xldx > 0\n",
    "    neg = vx_xldx < 0\n",
    "    scale = 30\n",
    "    \n",
    "    dx = 2.*np.pi/1024\n",
    "    vxlgrx = np.gradient(vx_xl)/dx\n",
    "    vylgrx = np.gradient(vy_xl)/dx\n",
    "    vzlgrx = np.gradient(vz_xl)/dx\n",
    "            \n",
    "    plt.xlim((1,2))\n",
    "    plt.grid()\n",
    "    plt.plot(Y,vx_xldx,'r.')\n",
    "    plt.plot(Y,vxlgrx,'c-')\n",
    "    \n",
    "    plt.show()\n",
    "    \n",
    "    plt.xlim((1,2))\n",
    "    plt.grid()\n",
    "    plt.plot(Y,vy_xldx,'g.')\n",
    "    plt.plot(Y,vylgrx,'k-')\n",
    "    \n",
    "    plt.show()\n",
    "    \n",
    "    plt.xlim((1,2))\n",
    "    plt.grid()\n",
    "    plt.plot(Y,vz_xldx,'b.')\n",
    "    plt.plot(Y,vzlgrx,'m-')\n",
    "    \n",
    "    plt.show()"
   ]
  },
  {
   "cell_type": "code",
   "execution_count": 27,
   "metadata": {},
   "outputs": [
    {
     "data": {
      "text/plain": [
       "[output:6]"
      ]
     },
     "metadata": {},
     "output_type": "display_data"
    },
    {
     "data": {
      "image/png": "[encoded data removed]",
      "text/plain": [
       "<matplotlib.figure.Figure at 0x7f23b5c3aa90>"
      ]
     },
     "metadata": {
      "engine": 6
     },
     "output_type": "display_data"
    },
    {
     "data": {
      "image/png": "[encoded data removed]",
      "text/plain": [
       "<matplotlib.figure.Figure at 0x7f23b5beb7d0>"
      ]
     },
     "metadata": {
      "engine": 6
     },
     "output_type": "display_data"
    },
    {
     "data": {
      "image/png": "[encoded data removed]",
      "text/plain": [
       "<matplotlib.figure.Figure at 0x7f23b5f30050>"
      ]
     },
     "metadata": {
      "engine": 6
     },
     "output_type": "display_data"
    }
   ],
   "source": [
    "%%px \n",
    "\n",
    "if rank==0:\n",
    "    pos = vx_xldx > 0\n",
    "    neg = vx_xldx < 0\n",
    "    scale = 30\n",
    "    \n",
    "    dx = 2.*np.pi/1024\n",
    "    vxlgrx = np.gradient(vx_xl)/dx\n",
    "    vxlgry = np.gradient(vx_yl)/dx\n",
    "    vxlgrz = np.gradient(vx_zl)/dx\n",
    "            \n",
    "    plt.xlim((1,2))\n",
    "    plt.grid()\n",
    "    plt.plot(Y,vx_xldx,'r.')\n",
    "    plt.plot(Y,vxlgrx,'c-')\n",
    "    \n",
    "    plt.show()\n",
    "    \n",
    "    plt.xlim((1,2))\n",
    "    plt.grid()\n",
    "    plt.plot(Y,vx_yldx,'g.')\n",
    "    plt.plot(Y,vxlgry,'k-')\n",
    "    \n",
    "    plt.show()\n",
    "    \n",
    "    plt.xlim((1,2))\n",
    "    plt.grid()\n",
    "    plt.plot(Y,vx_yldx,'b.')\n",
    "    plt.plot(Y,vxlgry,'m-')\n",
    "    \n",
    "    plt.show()"
   ]
  },
  {
   "cell_type": "code",
   "execution_count": 28,
   "metadata": {},
   "outputs": [
    {
     "data": {
      "text/plain": [
       "[output:6]"
      ]
     },
     "metadata": {},
     "output_type": "display_data"
    },
    {
     "data": {
      "image/png": "[encoded data removed]",
      "text/plain": [
       "<matplotlib.figure.Figure at 0x7f23b5e51990>"
      ]
     },
     "metadata": {
      "engine": 6
     },
     "output_type": "display_data"
    },
    {
     "data": {
      "image/png": "[encoded data removed]",
      "text/plain": [
       "<matplotlib.figure.Figure at 0x7f23b5b19d90>"
      ]
     },
     "metadata": {
      "engine": 6
     },
     "output_type": "display_data"
    },
    {
     "data": {
      "image/png": "[encoded data removed]",
      "text/plain": [
       "<matplotlib.figure.Figure at 0x7f23b5f3b710>"
      ]
     },
     "metadata": {
      "engine": 6
     },
     "output_type": "display_data"
    }
   ],
   "source": [
    "%%px \n",
    "\n",
    "if rank==0:\n",
    "    pos = vx_xldx > 0\n",
    "    neg = vx_xldx < 0\n",
    "    scale = 30\n",
    "    \n",
    "    dx = 2.*np.pi/1024\n",
    "    vylgrx = np.gradient(vy_xl)/dx\n",
    "    vylgry = np.gradient(vy_yl)/dx\n",
    "    vylgrz = np.gradient(vy_zl)/dx\n",
    "            \n",
    "    plt.xlim((1,2))\n",
    "    plt.grid()\n",
    "    plt.plot(Y,vy_xldx,'r.')\n",
    "    plt.plot(Y,vylgrx,'c-')\n",
    "    \n",
    "    plt.show()\n",
    "    \n",
    "    plt.xlim((1,2))\n",
    "    plt.grid()\n",
    "    plt.plot(Y,vy_yldx,'g.')\n",
    "    plt.plot(Y,vylgry,'k-')\n",
    "    \n",
    "    plt.show()\n",
    "    \n",
    "    plt.xlim((1,2))\n",
    "    plt.grid()\n",
    "    plt.plot(Y,vy_zldx,'b.')\n",
    "    plt.plot(Y,vylgrz,'m-')\n",
    "    \n",
    "    plt.show()"
   ]
  },
  {
   "cell_type": "code",
   "execution_count": 29,
   "metadata": {
    "collapsed": true
   },
   "outputs": [],
   "source": [
    "%%px \n",
    "\n",
    "Q = 0.5*( (A12*A21+A23*A32+A13*A31) - (A22*A33+A11*A33+A11*A22) )"
   ]
  },
  {
   "cell_type": "code",
   "execution_count": 30,
   "metadata": {},
   "outputs": [
    {
     "name": "stdout",
     "output_type": "stream",
     "text": [
      "[stdout:6] Average Q = 6.50521303491e-18\n"
     ]
    }
   ],
   "source": [
    "%%px\n",
    "\n",
    "slabQ = np.average(Q)\n",
    "\n",
    "avgQ=np.zeros(1,dtype=FFT.float)\n",
    "\n",
    "comm.Reduce([slabQ,MPI.DOUBLE],[avgQ,MPI.DOUBLE],op=MPI.SUM)\n",
    "avgQ = avgQ[0]/nproc\n",
    "avgQ = comm.bcast(avgQ, root=0)\n",
    "\n",
    "if rank==0:\n",
    "    print(\"Average Q = \"+str(avgQ))"
   ]
  },
  {
   "cell_type": "code",
   "execution_count": 31,
   "metadata": {
    "collapsed": true
   },
   "outputs": [],
   "source": [
    "%%px\n",
    "\n",
    "R = A11**3 + A22**3 + A33**3 + 3*( A11*(A21*A12+A13*A31) + A22*(A12*A21+A23*A32) + A33*(A13*A31+A23*A32) + A13*A21*A32 + A12*A23*A31 )"
   ]
  },
  {
   "cell_type": "code",
   "execution_count": 32,
   "metadata": {},
   "outputs": [
    {
     "name": "stdout",
     "output_type": "stream",
     "text": [
      "[stdout:6] Average R = -0.00386905374975\n"
     ]
    }
   ],
   "source": [
    "%%px\n",
    "\n",
    "slabR = np.average(R)\n",
    "\n",
    "avgR=np.zeros(1,dtype=FFT.float)\n",
    "\n",
    "comm.Reduce([slabR,MPI.DOUBLE],[avgR,MPI.DOUBLE],op=MPI.SUM)\n",
    "avgR = avgR[0]/nproc\n",
    "avgR = comm.bcast(avgR, root=0)\n",
    "\n",
    "if rank==0:\n",
    "    print(\"Average R = \"+str(avgR))"
   ]
  },
  {
   "cell_type": "code",
   "execution_count": 33,
   "metadata": {},
   "outputs": [
    {
     "name": "stdout",
     "output_type": "stream",
     "text": [
      "[stdout:6] Average Q^2 = 17679.1773945\n"
     ]
    }
   ],
   "source": [
    "%%px\n",
    "\n",
    "slabQ2 = np.average(Q**2)\n",
    "\n",
    "avgQ2=np.zeros(1,dtype=FFT.float)\n",
    "\n",
    "comm.Reduce([slabQ2,MPI.DOUBLE],[avgQ2,MPI.DOUBLE],op=MPI.SUM)\n",
    "avgQ2 = avgQ2[0]/nproc\n",
    "avgQ2 = comm.bcast(avgQ2, root=0)\n",
    "\n",
    "if rank==0:\n",
    "    print(\"Average Q^2 = \"+str(avgQ2))"
   ]
  },
  {
   "cell_type": "code",
   "execution_count": 34,
   "metadata": {},
   "outputs": [
    {
     "name": "stdout",
     "output_type": "stream",
     "text": [
      "[stdout:6] <R>/(<Q^2>^3/2) = -1.64593121884e-09\n"
     ]
    }
   ],
   "source": [
    "%%px\n",
    "\n",
    "slabR = np.average(R)\n",
    "\n",
    "avgR=np.zeros(1,dtype=FFT.float)\n",
    "\n",
    "comm.Reduce([slabR,MPI.DOUBLE],[avgR,MPI.DOUBLE],op=MPI.SUM)\n",
    "avgR = avgR[0]/nproc\n",
    "avgR = comm.bcast(avgR, root=0)\n",
    "\n",
    "if rank==0:\n",
    "    print(\"<R>/(<Q^2>^3/2) = \"+str(avgR/(avgQ2**1.5)))"
   ]
  },
  {
   "cell_type": "code",
   "execution_count": 35,
   "metadata": {
    "collapsed": true
   },
   "outputs": [],
   "source": [
    "%%px \n",
    "\n",
    "del Q,R"
   ]
  },
  {
   "cell_type": "code",
   "execution_count": 36,
   "metadata": {
    "collapsed": true
   },
   "outputs": [],
   "source": [
    "%%px\n",
    "\n",
    "Omega = 0.5*( A12**2 + A21**2 + A13**2 + A31**2 + A23**2 + A32**2 - 2.*(A12*A21+A13*A31+A23*A32) )"
   ]
  },
  {
   "cell_type": "code",
   "execution_count": 37,
   "metadata": {},
   "outputs": [
    {
     "name": "stdout",
     "output_type": "stream",
     "text": [
      "[stdout:6] Average enstrophy = 249.217753644\n"
     ]
    }
   ],
   "source": [
    "%%px\n",
    "\n",
    "slabO = np.average(Omega)\n",
    "\n",
    "avgO=np.zeros(1,dtype=FFT.float)\n",
    "\n",
    "comm.Reduce([slabO,MPI.DOUBLE],[avgO,MPI.DOUBLE],op=MPI.SUM)\n",
    "avgO = avgO[0]/nproc\n",
    "avgO = comm.bcast(avgO, root=0)\n",
    "\n",
    "if rank==0:\n",
    "    print(\"Average enstrophy = \"+str(avgO))"
   ]
  },
  {
   "cell_type": "code",
   "execution_count": 38,
   "metadata": {
    "collapsed": true
   },
   "outputs": [],
   "source": [
    "%%px\n",
    "\n",
    "Epsilon  = A11**2 + A22**2 + A33**2 \n",
    "Epsilon += 0.5*( A12**2 + A21**2 + A23**2 + A32**2 + A13**2 + A31**2 )\n",
    "Epsilon += A12*A21 + A13*A31 + A23*A32"
   ]
  },
  {
   "cell_type": "code",
   "execution_count": 39,
   "metadata": {},
   "outputs": [
    {
     "name": "stdout",
     "output_type": "stream",
     "text": [
      "[stdout:6] Average strainrate = 249.217753647\n"
     ]
    }
   ],
   "source": [
    "%%px\n",
    "\n",
    "slabE = np.average(Epsilon)\n",
    "\n",
    "avgE=np.zeros(1,dtype=FFT.float)\n",
    "\n",
    "comm.Reduce([slabE,MPI.DOUBLE],[avgE,MPI.DOUBLE],op=MPI.SUM)\n",
    "avgE = avgE[0]/nproc\n",
    "avgE = comm.bcast(avgE, root=0)\n",
    "\n",
    "if rank==0:\n",
    "    print(\"Average strainrate = \"+str(avgE))"
   ]
  },
  {
   "cell_type": "code",
   "execution_count": 40,
   "metadata": {},
   "outputs": [
    {
     "name": "stdout",
     "output_type": "stream",
     "text": [
      "[stdout:6] \n",
      "Average strainrate - enstrophy: 3.28691385221e-09\n",
      "Normalized strainrate - enstrophy: 1.31889233578e-11\n"
     ]
    }
   ],
   "source": [
    "%%px\n",
    "\n",
    "if rank==0:\n",
    "    print(\"Average strainrate - enstrophy: \"+str(avgE-avgO))\n",
    "    print(\"Normalized strainrate - enstrophy: \"+str((avgE-avgO)/avgO))"
   ]
  },
  {
   "cell_type": "code",
   "execution_count": 41,
   "metadata": {
    "collapsed": true
   },
   "outputs": [],
   "source": [
    "%%px\n",
    "\n",
    "del Omega, Epsilon"
   ]
  },
  {
   "cell_type": "code",
   "execution_count": 42,
   "metadata": {
    "collapsed": true
   },
   "outputs": [],
   "source": [
    "%%px\n",
    "\n",
    "eps = 2*nu*avgE"
   ]
  },
  {
   "cell_type": "code",
   "execution_count": 43,
   "metadata": {},
   "outputs": [
    {
     "name": "stdout",
     "output_type": "stream",
     "text": [
      "[stdout:6] \n",
      "nu = 0.000185\n",
      "urms = 0.674645204139, Reference: 0.6820399\n",
      "eps = 0.0922105688495\n",
      "kinectic energy = 0.682719227202\n",
      "Taylor micro-scale =0.11703522127\n",
      "ReLamb = 426.795949972, Reference: 426.8378\n"
     ]
    }
   ],
   "source": [
    "%%px\n",
    "\n",
    "urms = np.sqrt(2.*avgK/3)\n",
    "lamb = np.sqrt(15.*nu/eps)*urms\n",
    "ReTayor = urms*lamb/nu\n",
    "if rank==0:\n",
    "    print(\"nu = \"+str(nu))\n",
    "    print(\"urms = \"+str(urms)+\", Reference: 0.6820399\")\n",
    "    print(\"eps = \"+ str(eps))\n",
    "    print(\"kinectic energy = \"+str(avgK))\n",
    "    print(\"Taylor micro-scale =\"+str(lamb))\n",
    "    print(\"ReLamb = \"+str(ReTayor)+\", Reference: 426.8378\")"
   ]
  },
  {
   "cell_type": "code",
   "execution_count": null,
   "metadata": {
    "collapsed": true
   },
   "outputs": [],
   "source": []
  }
 ],
 "metadata": {
  "kernelspec": {
   "display_name": "Python 2",
   "language": "python",
   "name": "python2"
  },
  "language_info": {
   "codemirror_mode": {
    "name": "ipython",
    "version": 2
   },
   "file_extension": ".py",
   "mimetype": "text/x-python",
   "name": "python",
   "nbconvert_exporter": "python",
   "pygments_lexer": "ipython2",
   "version": "2.7.13"
  }
 },
 "nbformat": 4,
 "nbformat_minor": 1
}
