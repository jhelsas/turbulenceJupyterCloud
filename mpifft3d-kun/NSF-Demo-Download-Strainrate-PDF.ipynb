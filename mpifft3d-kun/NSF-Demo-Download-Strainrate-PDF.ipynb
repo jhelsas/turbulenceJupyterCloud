{
 "cells": [
  {
   "cell_type": "code",
   "execution_count": 1,
   "metadata": {
    "collapsed": true
   },
   "outputs": [],
   "source": [
    "#!ipcluster start -n 8 --engines=MPI --profile='mpi' # for parallel run: start the engines using terminal\n",
    "from ipyparallel import Client\n",
    "rc = Client(profile='mpi')"
   ]
  },
  {
   "cell_type": "code",
   "execution_count": 2,
   "metadata": {},
   "outputs": [],
   "source": [
    "%%px\n",
    "# Import the libraries\n",
    "\n",
    "import os\n",
    "import sys\n",
    "import math\n",
    "import numpy as np\n",
    "import pyfftw as ft \n",
    "from mpi4py import MPI\n",
    "import matplotlib\n",
    "import matplotlib.pyplot as plt\n",
    "import pyJHTDB\n",
    "from pyJHTDB.dbinfo import isotropic1024coarse\n",
    "from pyJHTDB import libJHTDB\n",
    "\n",
    "from fft3d import FFT3Dfield_new\n",
    "from EnergySpectrum import EnergySpectrum"
   ]
  },
  {
   "cell_type": "code",
   "execution_count": 3,
   "metadata": {},
   "outputs": [
    {
     "name": "stdout",
     "output_type": "stream",
     "text": [
      "[stdout:6] \n",
      "n_proc = 8\n",
      "rank = 0\n"
     ]
    }
   ],
   "source": [
    "%%px\n",
    "\n",
    "Nx = isotropic1024coarse['nx']\n",
    "Ny = isotropic1024coarse['ny']\n",
    "Nz = isotropic1024coarse['nz']\n",
    "Lx = isotropic1024coarse['lx']\n",
    "Ly = isotropic1024coarse['ly']\n",
    "Lz = isotropic1024coarse['lz']\n",
    "\n",
    "comm = MPI.COMM_WORLD\n",
    "rank = comm.Get_rank()\n",
    "nproc = comm.Get_size()\n",
    "if(rank==0):\n",
    "    print(\"n_proc = \"+str(nproc))\n",
    "    print(\"rank = \"+str(rank))\n",
    "    \n",
    "# Computational Domain\n",
    "\n",
    "nx=Nx//nproc\n",
    "ny=Ny\n",
    "nz=Nz\n",
    "nz_half=nz//2\n",
    "nek=int(math.sqrt(2.0)/3*Nx)\n",
    "time = 0.0\n",
    "\n",
    "chkSz = 32\n",
    "slabs = nx//chkSz"
   ]
  },
  {
   "cell_type": "code",
   "execution_count": 6,
   "metadata": {},
   "outputs": [
    {
     "ename": "CompositeError",
     "evalue": "one or more exceptions from call to method: execute\n[Engine Exception]EngineError: Engine 0 died while running task u'491628d1-b1a5dd2ec4925849db6479a6'\n[Engine Exception]EngineError: Engine 1 died while running task u'32b1db24-8fd7ca8a0cb174444cefc50b'\n[Engine Exception]EngineError: Engine 2 died while running task u'337f437c-04620fd00c60a3187a3072b4'\n[Engine Exception]EngineError: Engine 3 died while running task u'1647dfae-35cfaae8059160de3b708d0d'\n.... 4 more exceptions ...",
     "output_type": "error",
     "traceback": [
      "[Engine Exception]",
      "Traceback (most recent call last):",
      "  File \"/opt/anaconda2/lib/python2.7/site-packages/ipyparallel/client/client.py\", line 721, in _handle_stranded_msgs",
      "    raise error.EngineError(\"Engine %r died while running task %r\"%(eid, msg_id))",
      "EngineError: Engine 0 died while running task u'491628d1-b1a5dd2ec4925849db6479a6'",
      "",
      "[Engine Exception]",
      "Traceback (most recent call last):",
      "  File \"/opt/anaconda2/lib/python2.7/site-packages/ipyparallel/client/client.py\", line 721, in _handle_stranded_msgs",
      "    raise error.EngineError(\"Engine %r died while running task %r\"%(eid, msg_id))",
      "EngineError: Engine 1 died while running task u'32b1db24-8fd7ca8a0cb174444cefc50b'",
      "",
      "[Engine Exception]",
      "Traceback (most recent call last):",
      "  File \"/opt/anaconda2/lib/python2.7/site-packages/ipyparallel/client/client.py\", line 721, in _handle_stranded_msgs",
      "    raise error.EngineError(\"Engine %r died while running task %r\"%(eid, msg_id))",
      "EngineError: Engine 2 died while running task u'337f437c-04620fd00c60a3187a3072b4'",
      "",
      "[Engine Exception]",
      "Traceback (most recent call last):",
      "  File \"/opt/anaconda2/lib/python2.7/site-packages/ipyparallel/client/client.py\", line 721, in _handle_stranded_msgs",
      "    raise error.EngineError(\"Engine %r died while running task %r\"%(eid, msg_id))",
      "EngineError: Engine 3 died while running task u'1647dfae-35cfaae8059160de3b708d0d'",
      "",
      "... 4 more exceptions ..."
     ]
    }
   ],
   "source": [
    "%%px\n",
    "\n",
    "from DataDownload import DataDownload\n",
    "\n",
    "# Populate velocity field from the Database\n",
    "\n",
    "if(rank==0):\n",
    "    print(\"Starting the loading process\")\n",
    "\n",
    "##########################################\n",
    "load_from_file = False\n",
    "store_on_file = True\n",
    "auth_token = \"com.gmail.jhelsas-b854269a\"\n",
    "\n",
    "folder = \"/home/admin/scratch\"\n",
    "filename = \"aws-isotropic1024coarse-\"+str(rank)+\"-(t=\"+str(time)+\")\"+\".npz\"\n",
    "file = folder + \"/\" + filename\n",
    "\n",
    "if(load_from_file):\n",
    "    vx = ft.zeros_aligned((nx,ny,nz), dtype='float32')\n",
    "    vy = ft.zeros_aligned((nx,ny,nz), dtype='float32')\n",
    "    vz = ft.zeros_aligned((nx,ny,nz), dtype='float32')\n",
    "\n",
    "    comm.Barrier(); t1=MPI.Wtime()\n",
    "    content = np.load(file)\n",
    "    if(int(content['nproc'])!=nproc):\n",
    "        print(\"Unmatched number of processes. Must first pre-process to adequate number of process\")\n",
    "    vx = content['vx']\n",
    "    vy = content['vy']\n",
    "    vz = content['vz']\n",
    "    comm.Barrier(); t2=MPI.Wtime()\n",
    "    if(rank==0):\n",
    "        print(\"Finished loading\")\n",
    "        sys.stdout.write('Load from disk: {0:.2f} seconds\\n'.format(t2-t1))\n",
    "else:\n",
    "    comm.Barrier(); t1=MPI.Wtime()\n",
    "    \n",
    "    ddwnld = DataDownload()\n",
    "    vx,vy,vz = ddwnld.DownldData_pyJHTDB('isotropic1024coarse',time,nx,ny,nz,nproc,rank,auth_token)\n",
    "    \n",
    "    comm.Barrier(); t2=MPI.Wtime()\n",
    "    if(rank==0):\n",
    "        print(\"Finished loading\")\n",
    "        sys.stdout.write('Load field from database: {0:.2f} seconds\\n'.format(t2-t1))\n",
    "    \n",
    "    comm.Barrier(); t1=MPI.Wtime()\n",
    "    \n",
    "    np.savez(file,vx=vx,vy=vy,vz=vz,nproc=nproc)\n",
    "    comm.Barrier(); t2=MPI.Wtime()\n",
    "    if(rank==0):\n",
    "        sys.stdout.write('Caching the data: {0:.2f} seconds\\n'.format(t2-t1))\n",
    "\n",
    "\n",
    "if(rank==0):\n",
    "    print(\"vx shape = \"+str(vx.shape))       "
   ]
  },
  {
   "cell_type": "code",
   "execution_count": 6,
   "metadata": {},
   "outputs": [
    {
     "name": "stdout",
     "output_type": "stream",
     "text": [
      "[stdout:2] Calculate all wavenumbers: 36.39 seconds\n"
     ]
    }
   ],
   "source": [
    "%%px\n",
    "comm.Barrier(); t1=MPI.Wtime()\n",
    "# Get wavenumber:\n",
    "myEnergySpc=EnergySpectrum()\n",
    "k2,kx,ky,kz=myEnergySpc.GetWavenumbers(nx,ny,nz,rank)\n",
    "\n",
    "comm.Barrier(); t2=MPI.Wtime()\n",
    "if(rank==0):\n",
    "    sys.stdout.write('Calculate all wavenumbers: {0:.2f} seconds\\n'.format(t2-t1))"
   ]
  },
  {
   "cell_type": "code",
   "execution_count": 7,
   "metadata": {},
   "outputs": [
    {
     "name": "stdout",
     "output_type": "stream",
     "text": [
      "[stdout:2] Calculate 3D spatial FFT: 52.01 seconds\n"
     ]
    }
   ],
   "source": [
    "%%px \n",
    "comm.Barrier(); t1=MPI.Wtime()\n",
    "\n",
    "fft = FFT3Dfield_new(nx,ny,nz,nproc,rank)\n",
    "\n",
    "cvx = ft.zeros_aligned((nx,ny,1+(nz//2)), dtype='complex64')\n",
    "cvy = ft.zeros_aligned((nx,ny,1+(nz//2)), dtype='complex64')\n",
    "cvz = ft.zeros_aligned((nx,ny,1+(nz//2)), dtype='complex64')\n",
    "\n",
    "comm.Barrier(); t2=MPI.Wtime()\n",
    "if(rank==0):\n",
    "    sys.stdout.write('Calculate 3D spatial FFT: {0:.2f} seconds\\n'.format(t2-t1))"
   ]
  },
  {
   "cell_type": "code",
   "execution_count": 8,
   "metadata": {},
   "outputs": [
    {
     "name": "stdout",
     "output_type": "stream",
     "text": [
      "[stdout:2] Calculate 3D spatial FFT: 92.55 seconds\n"
     ]
    }
   ],
   "source": [
    "%%px\n",
    "comm.Barrier(); t1=MPI.Wtime()\n",
    "\n",
    "cvx[:,:,:] = fft.forward3Dfft(vx,nx,ny,nz,nproc,rank)\n",
    "cvy[:,:,:] = fft.forward3Dfft(vy,nx,ny,nz,nproc,rank)\n",
    "cvz[:,:,:] = fft.forward3Dfft(vz,nx,ny,nz,nproc,rank)\n",
    "\n",
    "comm.Barrier(); t2=MPI.Wtime()\n",
    "if(rank==0):\n",
    "    sys.stdout.write('Calculate 3D spatial FFT: {0:.2f} seconds\\n'.format(t2-t1))"
   ]
  },
  {
   "cell_type": "code",
   "execution_count": 9,
   "metadata": {
    "scrolled": true
   },
   "outputs": [
    {
     "name": "stdout",
     "output_type": "stream",
     "text": [
      "[stdout:2] Calculate vorticity in k space: 126.53 seconds\n"
     ]
    }
   ],
   "source": [
    "%%px\n",
    "comm.Barrier(); t1=MPI.Wtime()\n",
    "\n",
    "cSxx=np.complex64(0.0+1.0j)*kx*cvx\n",
    "cSyy=np.complex64(0.0+1.0j)*ky*cvy\n",
    "cSzz=np.complex64(0.0+1.0j)*kz*cvz\n",
    "\n",
    "cSxy=np.complex64(0.0+0.5j)*(kx*cvy+ky*cvx)\n",
    "cSxz=np.complex64(0.0+0.5j)*(kx*cvz+kz*cvx)\n",
    "cSyz=np.complex64(0.0+0.5j)*(ky*cvz+kz*cvy)\n",
    "\n",
    "comm.Barrier(); t2=MPI.Wtime()\n",
    "if(rank==0):\n",
    "    sys.stdout.write('Calculate strainrate in k space: {0:.2f} seconds\\n'.format(t2-t1))"
   ]
  },
  {
   "cell_type": "code",
   "execution_count": 10,
   "metadata": {},
   "outputs": [
    {
     "name": "stdout",
     "output_type": "stream",
     "text": [
      "[stdout:2] Alocate real space arrays: 20.60 seconds\n"
     ]
    }
   ],
   "source": [
    "%%px\n",
    "comm.Barrier(); t1=MPI.Wtime()\n",
    "\n",
    "Sxx = ft.zeros_aligned((nx,ny,nz), dtype='float32')\n",
    "Syy = ft.zeros_aligned((nx,ny,nz), dtype='float32')\n",
    "Szz = ft.zeros_aligned((nx,ny,nz), dtype='float32')\n",
    "\n",
    "Sxy = ft.zeros_aligned((nx,ny,nz), dtype='float32')\n",
    "Sxz = ft.zeros_aligned((nx,ny,nz), dtype='float32')\n",
    "Syz = ft.zeros_aligned((nx,ny,nz), dtype='float32')\n",
    "\n",
    "comm.Barrier(); t2=MPI.Wtime()\n",
    "if(rank==0):\n",
    "    sys.stdout.write('Alocate real space arrays: {0:.2f} seconds\\n'.format(t2-t1))"
   ]
  },
  {
   "cell_type": "code",
   "execution_count": 11,
   "metadata": {},
   "outputs": [
    {
     "name": "stdout",
     "output_type": "stream",
     "text": [
      "[stdout:2] Zeroing odd-ball wavenumber: 28.64 seconds\n"
     ]
    }
   ],
   "source": [
    "%%px \n",
    "comm.Barrier(); t1=MPI.Wtime()\n",
    "\n",
    "cSxx[kz==(Nz//2)] = 0.\n",
    "cSyy[kz==(Nz//2)] = 0.\n",
    "cSzz[kz==(Nz//2)] = 0.\n",
    "\n",
    "cSxy[kz==(Nz//2)] = 0.\n",
    "cSxz[kz==(Nz//2)] = 0.\n",
    "cSyz[kz==(Nz//2)] = 0.\n",
    "\n",
    "comm.Barrier(); t2=MPI.Wtime()\n",
    "if(rank==0):\n",
    "    sys.stdout.write('Zeroing odd-ball wavenumber: {0:.2f} seconds\\n'.format(t2-t1))"
   ]
  },
  {
   "cell_type": "code",
   "execution_count": 12,
   "metadata": {},
   "outputs": [
    {
     "name": "stdout",
     "output_type": "stream",
     "text": [
      "[stdout:2] Calculate 3D spatial inverse FFT: 179.89 seconds\n"
     ]
    }
   ],
   "source": [
    "%%px\n",
    "comm.Barrier(); t1=MPI.Wtime()\n",
    "# Get velocity field in Fourier space:\n",
    "\n",
    "Sxx[:,:,:]=fft.backward3Dfft(cSxx,nx,ny,nz,nproc,rank)\n",
    "Syy[:,:,:]=fft.backward3Dfft(cSyy,nx,ny,nz,nproc,rank)\n",
    "Szz[:,:,:]=fft.backward3Dfft(cSzz,nx,ny,nz,nproc,rank)\n",
    "\n",
    "Sxy[:,:,:]=fft.backward3Dfft(cSxy,nx,ny,nz,nproc,rank)\n",
    "Syz[:,:,:]=fft.backward3Dfft(cSyz,nx,ny,nz,nproc,rank)\n",
    "Sxz[:,:,:]=fft.backward3Dfft(cSxz,nx,ny,nz,nproc,rank)\n",
    "\n",
    "comm.Barrier(); t2=MPI.Wtime()\n",
    "if(rank==0):\n",
    "    sys.stdout.write('Calculate 3D spatial inverse FFT: {0:.2f} seconds\\n'.format(t2-t1))"
   ]
  },
  {
   "cell_type": "code",
   "execution_count": 13,
   "metadata": {
    "collapsed": true
   },
   "outputs": [],
   "source": [
    "%%px\n",
    "#Fixing: forgot the factor of 2 on the second half\n",
    "S2 = Sxx**2+Syy**2+Szz**2 + 2.0*(Sxy**2+Syz**2+Sxz**2)"
   ]
  },
  {
   "cell_type": "code",
   "execution_count": 14,
   "metadata": {},
   "outputs": [
    {
     "name": "stdout",
     "output_type": "stream",
     "text": [
      "[stdout:0] Caching the data: 33.06 seconds\n"
     ]
    }
   ],
   "source": [
    "%%px\n",
    "\n",
    "cacheStrainrateData = True\n",
    "loadStrainrateFromCache = False\n",
    "\n",
    "folder = \"/home/idies/workspace/scratch\"\n",
    "filename = \"ref-strainrate-\"+str(rank)+\".npz\"\n",
    "file = folder + \"/\" + filename\n",
    "\n",
    "if(loadStrainrateFromCache):\n",
    "    comm.Barrier(); t1=MPI.Wtime()\n",
    "    content = np.load(file)\n",
    "    \n",
    "    S2 = ft.zeros_aligned((nx,ny,nz), dtype='float32')\n",
    "    \n",
    "    S2[:,:,:] = content['S2']\n",
    "    \n",
    "    comm.Barrier(); t2=MPI.Wtime()\n",
    "    if(rank==0):\n",
    "        print(\"Finished loading\")\n",
    "        sys.stdout.write('Load from disk: {0:.2f} seconds\\n'.format(t2-t1))\n",
    "\n",
    "if(cacheStrainrateData):\n",
    "    \n",
    "    comm.Barrier(); t1=MPI.Wtime()\n",
    "    np.savez(file,S2=S2,nproc=nproc)\n",
    "    comm.Barrier(); t2=MPI.Wtime()\n",
    "    if(rank==0):\n",
    "        sys.stdout.write('Caching the data: {0:.2f} seconds\\n'.format(t2-t1))"
   ]
  },
  {
   "cell_type": "code",
   "execution_count": 14,
   "metadata": {},
   "outputs": [
    {
     "name": "stdout",
     "output_type": "stream",
     "text": [
      "[stdout:2] \n",
      "<S^2> : 249.217727661\n",
      "min S2/<S^2> : 3.98580435798e-05\n",
      "min S2/<S^2> : 225.01032742\n",
      "Calculate average strainrate: 1.14 seconds\n"
     ]
    }
   ],
   "source": [
    "%%px\n",
    "comm.Barrier(); t1=MPI.Wtime()\n",
    "\n",
    "avgEpsilon = np.average(S2)\n",
    "avgEpsilonGl=np.zeros(1,dtype='float32')\n",
    "\n",
    "comm.Reduce([avgEpsilon,MPI.REAL],[avgEpsilonGl,MPI.REAL],op=MPI.SUM)\n",
    "avgEpsilon = avgEpsilonGl[0]/nproc\n",
    "avgEpsilon = comm.bcast(avgEpsilon, root=0)\n",
    "\n",
    "##########################\n",
    "\n",
    "minS2 = S2.min()\n",
    "maxS2 = S2.max()\n",
    "\n",
    "minS2Gl=np.zeros(nproc,dtype='float32')\n",
    "maxS2Gl=np.zeros(nproc,dtype='float32')\n",
    "\n",
    "comm.Allgather([minS2,MPI.REAL],[minS2Gl,MPI.REAL])\n",
    "comm.Allgather([maxS2,MPI.REAL],[maxS2Gl,MPI.REAL])\n",
    "\n",
    "minS2 = minS2Gl.min()\n",
    "maxS2 = maxS2Gl.max()\n",
    "\n",
    "comm.Barrier()\n",
    "\n",
    "if rank==0:\n",
    "    print(\"<S^2> : \"+str(avgEpsilon))\n",
    "    print(\"min S2/<S^2> : \"+str(minS2/avgEpsilon))\n",
    "    print(\"min S2/<S^2> : \"+str(maxS2/avgEpsilon))\n",
    "\n",
    "comm.Barrier(); t2=MPI.Wtime()\n",
    "if(rank==0):\n",
    "    sys.stdout.write('Calculate average strainrate: {0:.2f} seconds\\n'.format(t2-t1))\n"
   ]
  },
  {
   "cell_type": "markdown",
   "metadata": {},
   "source": [
    "nu = 0.000185\n",
    "\n",
    "urms = 0.674645176394, Reference: 0.6820399\n",
    "\n",
    "eps = 0.0922105592346\n",
    "\n",
    "kinectic energy = 0.682719171047\n",
    "\n",
    "Taylor micro-scale =0.117035222558\n",
    "\n",
    "ReLamb = 426.795937119, Reference: 426.8378"
   ]
  },
  {
   "cell_type": "code",
   "execution_count": 16,
   "metadata": {},
   "outputs": [
    {
     "name": "stdout",
     "output_type": "stream",
     "text": [
      "[stdout:2] Dissipation rate = 0.0922105592346\n"
     ]
    }
   ],
   "source": [
    "%%px\n",
    "\n",
    "nu = isotropic1024coarse['nu']\n",
    "if rank==0:\n",
    "    print(\"Dissipation rate = \"+str(2*nu*avgEpsilon))"
   ]
  },
  {
   "cell_type": "code",
   "execution_count": 17,
   "metadata": {},
   "outputs": [],
   "source": [
    "%%px\n",
    "S2_bins = np.load('dissipation_bins.npy')\n",
    "S2_pdf = np.load('dissipation_pdf.npy')\n",
    "\n",
    "Nbins = S2_bins.shape[0]\n",
    "s2temp = S2[S2<=20*avgEpsilon] \n",
    "s2red=np.zeros(Nbins,dtype='int')\n",
    "histred,edgesred = np.histogram(s2temp/avgEpsilon,S2_bins)"
   ]
  },
  {
   "cell_type": "code",
   "execution_count": 18,
   "metadata": {
    "collapsed": true
   },
   "outputs": [],
   "source": [
    "%%px\n",
    "blocks = Nbins//100\n",
    "comm.Barrier()\n",
    "for i in range(blocks):\n",
    "    comm.Reduce([histred[i*100:(i+1)*100],MPI.INT],[s2red[i*100:(i+1)*100],MPI.INT],op=MPI.SUM)\n",
    "    comm.Barrier()"
   ]
  },
  {
   "cell_type": "code",
   "execution_count": 19,
   "metadata": {},
   "outputs": [
    {
     "data": {
      "text/plain": [
       "[output:2]"
      ]
     },
     "metadata": {},
     "output_type": "display_data"
    },
    {
     "data": {
      "image/png": "[encoded data removed]",
      "text/plain": [
       "<matplotlib.figure.Figure at 0x7fc5f96af4e0>"
      ]
     },
     "metadata": {
      "engine": 2
     },
     "output_type": "display_data"
    }
   ],
   "source": [
    "%%px\n",
    "\n",
    "%matplotlib inline\n",
    "s2red[-1] = 0\n",
    "if rank==0:\n",
    "    S2_bins = np.load('dissipation_bins.npy')\n",
    "    S2_pdf = np.load('dissipation_pdf.npy')\n",
    "    \n",
    "    SIZE = 12\n",
    "    plt.rc('font', size=SIZE)  # controls default text sizes\n",
    "    plt.rc('axes', titlesize=SIZE+4)  # fontsize of the axes title\n",
    "    plt.rc('axes', labelsize=SIZE+4)  # fontsize of the x any y labels\n",
    "    plt.rc('xtick', labelsize=SIZE)  # fontsize of the tick labels\n",
    "    plt.rc('ytick', labelsize=SIZE)  # fontsize of the tick labels\n",
    "    plt.rc('legend', fontsize=SIZE+3)  # legend fontsize\n",
    "    plt.rc('figure', titlesize=SIZE)  # # size of the figure title\n",
    "    plt.xlabel(r'$\\epsilon/{\\langle \\epsilon\\rangle}$')\n",
    "    plt.ylabel(r'$P_{\\epsilon}$')\n",
    "    #plt.xlim(0,5)\n",
    "    #plt.ylim(10**(-2),10**(1))\n",
    "\n",
    "    plt.semilogy(edgesred,(s2red*(1024**(-3)))/((20*avgEpsilon-minS2)/(avgEpsilon*Nbins)),'r',label='Unfiltered')\n",
    "    plt.semilogy(S2_bins,S2_pdf,'b--')"
   ]
  },
  {
   "cell_type": "code",
   "execution_count": 20,
   "metadata": {},
   "outputs": [
    {
     "data": {
      "text/plain": [
       "[output:2]"
      ]
     },
     "metadata": {},
     "output_type": "display_data"
    },
    {
     "data": {
      "image/png": "[encoded data removed]",
      "text/plain": [
       "<matplotlib.figure.Figure at 0x7fc5a74ee438>"
      ]
     },
     "metadata": {
      "engine": 2
     },
     "output_type": "display_data"
    }
   ],
   "source": [
    "%%px\n",
    "\n",
    "%matplotlib inline\n",
    "s2red[-1] = 0\n",
    "if rank==0:\n",
    "    S2_bins = np.load('dissipation_bins.npy')\n",
    "    S2_pdf = np.load('dissipation_pdf.npy')\n",
    "    \n",
    "    SIZE = 12\n",
    "    plt.rc('font', size=SIZE)  # controls default text sizes\n",
    "    plt.rc('axes', titlesize=SIZE+4)  # fontsize of the axes title\n",
    "    plt.rc('axes', labelsize=SIZE+4)  # fontsize of the x any y labels\n",
    "    plt.rc('xtick', labelsize=SIZE)  # fontsize of the tick labels\n",
    "    plt.rc('ytick', labelsize=SIZE)  # fontsize of the tick labels\n",
    "    plt.rc('legend', fontsize=SIZE+3)  # legend fontsize\n",
    "    plt.rc('figure', titlesize=SIZE)  # # size of the figure title\n",
    "    plt.xlabel(r'$\\epsilon/{\\langle \\epsilon\\rangle}$')\n",
    "    plt.ylabel(r'$P_{\\epsilon}$')\n",
    "    plt.xlim(0,5)\n",
    "    #plt.ylim(10**(-2),10**(1))\n",
    "\n",
    "    plt.semilogy(edgesred,(s2red*(1024**(-3)))/((20*avgEpsilon-minS2)/(avgEpsilon*Nbins)),'r',label='Unfiltered')\n",
    "    plt.semilogy(S2_bins,S2_pdf,'b--')"
   ]
  },
  {
   "cell_type": "code",
   "execution_count": 22,
   "metadata": {},
   "outputs": [
    {
     "data": {
      "text/plain": [
       "[output:2]"
      ]
     },
     "metadata": {},
     "output_type": "display_data"
    },
    {
     "data": {
      "image/png": "[encoded data removed]",
      "text/plain": [
       "<matplotlib.figure.Figure at 0x7fc5a7458fd0>"
      ]
     },
     "metadata": {
      "engine": 2
     },
     "output_type": "display_data"
    }
   ],
   "source": [
    "%%px\n",
    "\n",
    "%matplotlib inline\n",
    "s2red[-1] = 0\n",
    "if rank==0:\n",
    "    S2_bins = np.load('dissipation_bins.npy')\n",
    "    S2_pdf = np.load('dissipation_pdf.npy')\n",
    "    \n",
    "    SIZE = 12\n",
    "    plt.rc('font', size=SIZE)  # controls default text sizes\n",
    "    plt.rc('axes', titlesize=SIZE+4)  # fontsize of the axes title\n",
    "    plt.rc('axes', labelsize=SIZE+4)  # fontsize of the x any y labels\n",
    "    plt.rc('xtick', labelsize=SIZE)  # fontsize of the tick labels\n",
    "    plt.rc('ytick', labelsize=SIZE)  # fontsize of the tick labels\n",
    "    plt.rc('legend', fontsize=SIZE+3)  # legend fontsize\n",
    "    plt.rc('figure', titlesize=SIZE)  # # size of the figure title\n",
    "    plt.xlabel(r'$\\epsilon/{\\langle \\epsilon\\rangle}$')\n",
    "    plt.ylabel(r'$P_{\\epsilon}$')\n",
    "    plt.xlim(5,20)\n",
    "    #plt.ylim(10**(-2),10**(1))\n",
    "\n",
    "    plt.semilogy(edgesred,(s2red*(1024**(-3)))/((20*avgEpsilon-minS2)/(avgEpsilon*Nbins)),'r',label='Unfiltered')\n",
    "    plt.semilogy(S2_bins,S2_pdf,'b--')"
   ]
  },
  {
   "cell_type": "code",
   "execution_count": 32,
   "metadata": {
    "collapsed": true
   },
   "outputs": [],
   "source": [
    "%%px\n",
    "\n",
    "Nbins = 1024*32\n",
    "stemp = S2[:,:,:] \n",
    "s2red=np.zeros(Nbins,dtype='int')\n",
    "lbins = np.logspace(np.log10(minS2/avgEpsilon),np.log10(maxS2/avgEpsilon),Nbins)\n",
    "histred,edgesred = np.histogram(stemp/avgEpsilon,lbins)"
   ]
  },
  {
   "cell_type": "code",
   "execution_count": 33,
   "metadata": {
    "collapsed": true
   },
   "outputs": [],
   "source": [
    "%%px\n",
    "blocks = Nbins//100\n",
    "comm.Barrier()\n",
    "for i in range(blocks):\n",
    "    comm.Reduce([histred[i*100:(i+1)*100],MPI.INT],[s2red[i*100:(i+1)*100],MPI.INT],op=MPI.SUM)\n",
    "    comm.Barrier()\n",
    "    \n",
    "left = edgesred[0:(Nbins-1)]\n",
    "right = edgesred[1:Nbins]\n",
    "normhist = (histred*(1024**(-3)))/(right-left)\n",
    "\n",
    "if rank==0:\n",
    "    norm = np.sum(normhist*(right-left))"
   ]
  },
  {
   "cell_type": "code",
   "execution_count": 34,
   "metadata": {},
   "outputs": [
    {
     "data": {
      "text/plain": [
       "[output:2]"
      ]
     },
     "metadata": {},
     "output_type": "display_data"
    },
    {
     "data": {
      "image/png": "[encoded data removed]",
      "text/plain": [
       "<matplotlib.figure.Figure at 0x7fc5a7bc94a8>"
      ]
     },
     "metadata": {
      "engine": 2
     },
     "output_type": "display_data"
    }
   ],
   "source": [
    "%%px\n",
    "\n",
    "%matplotlib inline\n",
    "s2red[-1] = 0\n",
    "if rank==0:\n",
    "    S2_bins = np.load('dissipation_bins.npy')\n",
    "    S2_pdf = np.load('dissipation_pdf.npy')\n",
    "    \n",
    "    SIZE = 12\n",
    "    plt.rc('font', size=SIZE)  # controls default text sizes\n",
    "    plt.rc('axes', titlesize=SIZE+4)  # fontsize of the axes title\n",
    "    plt.rc('axes', labelsize=SIZE+4)  # fontsize of the x any y labels\n",
    "    plt.rc('xtick', labelsize=SIZE)  # fontsize of the tick labels\n",
    "    plt.rc('ytick', labelsize=SIZE)  # fontsize of the tick labels\n",
    "    plt.rc('legend', fontsize=SIZE+3)  # legend fontsize\n",
    "    plt.rc('figure', titlesize=SIZE)  # # size of the figure title\n",
    "    plt.xlabel(r'$\\epsilon/{\\langle \\epsilon\\rangle}$')\n",
    "    plt.ylabel(r'$P_{\\epsilon}$')\n",
    "    #plt.xlim(0,5)\n",
    "    #plt.ylim(10**(-2),10**(1))\n",
    "\n",
    "    plt.loglog((left+right)/2.,normhist/norm,'r',label='Unfiltered')\n",
    "    plt.loglog(S2_bins,S2_pdf,'b--')"
   ]
  },
  {
   "cell_type": "code",
   "execution_count": 35,
   "metadata": {},
   "outputs": [
    {
     "data": {
      "text/plain": [
       "[output:2]"
      ]
     },
     "metadata": {},
     "output_type": "display_data"
    },
    {
     "data": {
      "image/png": "[encoded data removed]",
      "text/plain": [
       "<matplotlib.figure.Figure at 0x7fc5a74cad30>"
      ]
     },
     "metadata": {
      "engine": 2
     },
     "output_type": "display_data"
    }
   ],
   "source": [
    "%%px\n",
    "\n",
    "%matplotlib inline\n",
    "s2red[-1] = 0\n",
    "if rank==0:\n",
    "    S2_bins = np.load('dissipation_bins.npy')\n",
    "    S2_pdf = np.load('dissipation_pdf.npy')\n",
    "    \n",
    "    SIZE = 12\n",
    "    plt.rc('font', size=SIZE)  # controls default text sizes\n",
    "    plt.rc('axes', titlesize=SIZE+4)  # fontsize of the axes title\n",
    "    plt.rc('axes', labelsize=SIZE+4)  # fontsize of the x any y labels\n",
    "    plt.rc('xtick', labelsize=SIZE)  # fontsize of the tick labels\n",
    "    plt.rc('ytick', labelsize=SIZE)  # fontsize of the tick labels\n",
    "    plt.rc('legend', fontsize=SIZE+3)  # legend fontsize\n",
    "    plt.rc('figure', titlesize=SIZE)  # # size of the figure title\n",
    "    plt.xlabel(r'$\\epsilon/{\\langle \\epsilon\\rangle}$')\n",
    "    plt.ylabel(r'$P_{\\epsilon}$')\n",
    "    plt.xlim(0,20)\n",
    "    plt.ylim(10**(-5),10**(1))\n",
    "\n",
    "    plt.semilogy((left+right)/2.,normhist/norm,'r',label='Unfiltered')\n",
    "    plt.semilogy(S2_bins,S2_pdf,'b--')"
   ]
  },
  {
   "cell_type": "code",
   "execution_count": 36,
   "metadata": {},
   "outputs": [
    {
     "data": {
      "text/plain": [
       "[output:2]"
      ]
     },
     "metadata": {},
     "output_type": "display_data"
    },
    {
     "data": {
      "image/png": "[encoded data removed]",
      "text/plain": [
       "<matplotlib.figure.Figure at 0x7fc5a7bf5240>"
      ]
     },
     "metadata": {
      "engine": 2
     },
     "output_type": "display_data"
    }
   ],
   "source": [
    "%%px\n",
    "\n",
    "%matplotlib inline\n",
    "s2red[-1] = 0\n",
    "if rank==0:\n",
    "    S2_bins = np.load('dissipation_bins.npy')\n",
    "    S2_pdf = np.load('dissipation_pdf.npy')\n",
    "    \n",
    "    SIZE = 12\n",
    "    plt.rc('font', size=SIZE)  # controls default text sizes\n",
    "    plt.rc('axes', titlesize=SIZE+4)  # fontsize of the axes title\n",
    "    plt.rc('axes', labelsize=SIZE+4)  # fontsize of the x any y labels\n",
    "    plt.rc('xtick', labelsize=SIZE)  # fontsize of the tick labels\n",
    "    plt.rc('ytick', labelsize=SIZE)  # fontsize of the tick labels\n",
    "    plt.rc('legend', fontsize=SIZE+3)  # legend fontsize\n",
    "    plt.rc('figure', titlesize=SIZE)  # # size of the figure title\n",
    "    plt.xlabel(r'$\\epsilon/{\\langle \\epsilon\\rangle}$')\n",
    "    plt.ylabel(r'$P_{\\epsilon}$')\n",
    "    plt.xlim(0,5)\n",
    "    plt.ylim(10**(-2),10**(1))\n",
    "\n",
    "    plt.semilogy((left+right)/2.,normhist/norm,'r',label='Unfiltered')\n",
    "    plt.semilogy(S2_bins,S2_pdf,'b--')"
   ]
  },
  {
   "cell_type": "code",
   "execution_count": 37,
   "metadata": {},
   "outputs": [
    {
     "data": {
      "text/plain": [
       "[output:2]"
      ]
     },
     "metadata": {},
     "output_type": "display_data"
    },
    {
     "data": {
      "image/png": "[encoded data removed]",
      "text/plain": [
       "<matplotlib.figure.Figure at 0x7fc5a7b848d0>"
      ]
     },
     "metadata": {
      "engine": 2
     },
     "output_type": "display_data"
    }
   ],
   "source": [
    "%%px\n",
    "\n",
    "%matplotlib inline\n",
    "s2red[-1] = 0\n",
    "if rank==0:\n",
    "    S2_bins = np.load('dissipation_bins.npy')\n",
    "    S2_pdf = np.load('dissipation_pdf.npy')\n",
    "    \n",
    "    SIZE = 12\n",
    "    plt.rc('font', size=SIZE)  # controls default text sizes\n",
    "    plt.rc('axes', titlesize=SIZE+4)  # fontsize of the axes title\n",
    "    plt.rc('axes', labelsize=SIZE+4)  # fontsize of the x any y labels\n",
    "    plt.rc('xtick', labelsize=SIZE)  # fontsize of the tick labels\n",
    "    plt.rc('ytick', labelsize=SIZE)  # fontsize of the tick labels\n",
    "    plt.rc('legend', fontsize=SIZE+3)  # legend fontsize\n",
    "    plt.rc('figure', titlesize=SIZE)  # # size of the figure title\n",
    "    plt.xlabel(r'$\\epsilon/{\\langle \\epsilon\\rangle}$')\n",
    "    plt.ylabel(r'$P_{\\epsilon}$')\n",
    "    plt.xlim(0,1)\n",
    "    plt.ylim(10**(-1),10**(1))\n",
    "\n",
    "    plt.semilogy((left+right)/2.,normhist/norm,'r',label='Unfiltered')\n",
    "    plt.semilogy(S2_bins,S2_pdf,'b--')"
   ]
  },
  {
   "cell_type": "code",
   "execution_count": 38,
   "metadata": {},
   "outputs": [
    {
     "data": {
      "text/plain": [
       "[output:2]"
      ]
     },
     "metadata": {},
     "output_type": "display_data"
    },
    {
     "data": {
      "image/png": "[encoded data removed]",
      "text/plain": [
       "<matplotlib.figure.Figure at 0x7fc5a7bd6a58>"
      ]
     },
     "metadata": {
      "engine": 2
     },
     "output_type": "display_data"
    }
   ],
   "source": [
    "%%px\n",
    "\n",
    "%matplotlib inline\n",
    "s2red[-1] = 0\n",
    "if rank==0:\n",
    "    S2_bins = np.load('dissipation_bins.npy')\n",
    "    S2_pdf = np.load('dissipation_pdf.npy')\n",
    "    \n",
    "    SIZE = 12\n",
    "    plt.rc('font', size=SIZE)  # controls default text sizes\n",
    "    plt.rc('axes', titlesize=SIZE+4)  # fontsize of the axes title\n",
    "    plt.rc('axes', labelsize=SIZE+4)  # fontsize of the x any y labels\n",
    "    plt.rc('xtick', labelsize=SIZE)  # fontsize of the tick labels\n",
    "    plt.rc('ytick', labelsize=SIZE)  # fontsize of the tick labels\n",
    "    plt.rc('legend', fontsize=SIZE+3)  # legend fontsize\n",
    "    plt.rc('figure', titlesize=SIZE)  # # size of the figure title\n",
    "    plt.xlabel(r'$\\epsilon/{\\langle \\epsilon\\rangle}$')\n",
    "    plt.ylabel(r'$P_{\\epsilon}$')\n",
    "    plt.xlim(0.2,1)\n",
    "    plt.ylim(0.3,2)\n",
    "\n",
    "    plt.semilogy((left+right)/2.,normhist/norm,'r',label='Unfiltered')\n",
    "    plt.semilogy(S2_bins,S2_pdf,'b--')"
   ]
  },
  {
   "cell_type": "code",
   "execution_count": 39,
   "metadata": {
    "collapsed": true
   },
   "outputs": [],
   "source": [
    "%%px\n",
    "\n",
    "#Nbins = 1024*32\n",
    "#stemp = S2[:,:,:] \n",
    "#s2red=np.zeros(Nbins,dtype='int')\n",
    "#lbins = np.logspace(np.log10(minS2/avgEpsilon),np.log10(maxS2/avgEpsilon),Nbins)\n",
    "#histred,edgesred = np.histogram(stemp/avgEpsilon,lbins)\n",
    "\n",
    "Nbins = 4*1024\n",
    "stemp = S2[:,:,:] \n",
    "s2red=np.zeros(Nbins,dtype='int')\n",
    "histred,edgesred = np.histogram(stemp/avgEpsilon,np.linspace(minS2/avgEpsilon, maxS2/avgEpsilon, Nbins))\n",
    "#hist,edges = np.histogram(w2/sigma2g,10 ** np.linspace(np.log10(m/sigma2g), np.log10(M/sigma2g), Nbins))"
   ]
  },
  {
   "cell_type": "code",
   "execution_count": 40,
   "metadata": {
    "collapsed": true
   },
   "outputs": [],
   "source": [
    "%%px\n",
    "\n",
    "blocks = Nbins//100\n",
    "comm.Barrier()\n",
    "for i in range(blocks):\n",
    "    comm.Reduce([histred[i*100:(i+1)*100],MPI.INT],[s2red[i*100:(i+1)*100],MPI.INT],op=MPI.SUM)\n",
    "    comm.Barrier()"
   ]
  },
  {
   "cell_type": "code",
   "execution_count": 45,
   "metadata": {},
   "outputs": [
    {
     "data": {
      "text/plain": [
       "[output:2]"
      ]
     },
     "metadata": {},
     "output_type": "display_data"
    },
    {
     "data": {
      "image/png": "[encoded data removed]",
      "text/plain": [
       "<matplotlib.figure.Figure at 0x7fc5a76a6208>"
      ]
     },
     "metadata": {
      "engine": 2
     },
     "output_type": "display_data"
    }
   ],
   "source": [
    "%%px\n",
    "%matplotlib inline\n",
    "#w2red[-1] = 0\n",
    "if rank==0:\n",
    "    S2_bins = np.load('dissipation_bins.npy')\n",
    "    S2_pdf = np.load('dissipation_pdf.npy')\n",
    "    \n",
    "    SIZE = 12\n",
    "    plt.rc('font', size=SIZE)  # controls default text sizes\n",
    "    plt.rc('axes', titlesize=SIZE+4)  # fontsize of the axes title\n",
    "    plt.rc('axes', labelsize=SIZE+4)  # fontsize of the x any y labels\n",
    "    plt.rc('xtick', labelsize=SIZE)  # fontsize of the tick labels\n",
    "    plt.rc('ytick', labelsize=SIZE)  # fontsize of the tick labels\n",
    "    plt.rc('legend', fontsize=SIZE+3)  # legend fontsize\n",
    "    plt.rc('figure', titlesize=SIZE)  # # size of the figure title\n",
    "    plt.xlabel(r'$\\epsilon/{\\langle \\epsilon\\rangle}$')\n",
    "    plt.ylabel(r'$P_{\\epsilon}$')\n",
    "    #ks=np.linspace(1,101,100)\n",
    "    #plt.xlabel('$\\langle \\omega^2\\rangle$')\n",
    "    #plt.ylabel('Bin-count')\n",
    "    plt.xlim(0,20)\n",
    "    #plt.ylim(10**(-2),10**(1))\n",
    "\n",
    "    plt.semilogy(edgesred,(s2red*(1024**(-3)))/((maxS2-minS2)/(avgEpsilon*Nbins)),'r',label='Unfiltered')\n",
    "    plt.semilogy(S2_bins,S2_pdf,'b--')"
   ]
  },
  {
   "cell_type": "code",
   "execution_count": 47,
   "metadata": {},
   "outputs": [
    {
     "data": {
      "text/plain": [
       "[output:2]"
      ]
     },
     "metadata": {},
     "output_type": "display_data"
    },
    {
     "data": {
      "image/png": "[encoded data removed]",
      "text/plain": [
       "<matplotlib.figure.Figure at 0x7fc5a75cc518>"
      ]
     },
     "metadata": {
      "engine": 2
     },
     "output_type": "display_data"
    }
   ],
   "source": [
    "%%px\n",
    "%matplotlib inline\n",
    "#w2red[-1] = 0\n",
    "if rank==0:\n",
    "    S2_bins = np.load('dissipation_bins.npy')\n",
    "    S2_pdf = np.load('dissipation_pdf.npy')\n",
    "    \n",
    "    SIZE = 12\n",
    "    plt.rc('font', size=SIZE)  # controls default text sizes\n",
    "    plt.rc('axes', titlesize=SIZE+4)  # fontsize of the axes title\n",
    "    plt.rc('axes', labelsize=SIZE+4)  # fontsize of the x any y labels\n",
    "    plt.rc('xtick', labelsize=SIZE)  # fontsize of the tick labels\n",
    "    plt.rc('ytick', labelsize=SIZE)  # fontsize of the tick labels\n",
    "    plt.rc('legend', fontsize=SIZE+3)  # legend fontsize\n",
    "    plt.rc('figure', titlesize=SIZE)  # # size of the figure title\n",
    "    plt.xlabel(r'$\\epsilon/{\\langle \\epsilon\\rangle}$')\n",
    "    plt.ylabel(r'$P_{\\epsilon}$')\n",
    "    #ks=np.linspace(1,101,100)\n",
    "    #plt.xlabel('$\\langle \\omega^2\\rangle$')\n",
    "    #plt.ylabel('Bin-count')\n",
    "    plt.xlim(0,5)\n",
    "    plt.ylim(10**(-2),10**(1))\n",
    "\n",
    "    plt.semilogy(edgesred,(s2red*(1024**(-3)))/((maxS2-minS2)/(avgEpsilon*Nbins)),'r',label='Unfiltered')\n",
    "    plt.semilogy(S2_bins,S2_pdf,'b--')"
   ]
  },
  {
   "cell_type": "code",
   "execution_count": 49,
   "metadata": {},
   "outputs": [
    {
     "data": {
      "text/plain": [
       "[output:2]"
      ]
     },
     "metadata": {},
     "output_type": "display_data"
    },
    {
     "data": {
      "image/png": "[encoded data removed]",
      "text/plain": [
       "<matplotlib.figure.Figure at 0x7fc5a7bc94e0>"
      ]
     },
     "metadata": {
      "engine": 2
     },
     "output_type": "display_data"
    }
   ],
   "source": [
    "%%px\n",
    "%matplotlib inline\n",
    "#w2red[-1] = 0\n",
    "if rank==0:\n",
    "    S2_bins = np.load('dissipation_bins.npy')\n",
    "    S2_pdf = np.load('dissipation_pdf.npy')\n",
    "    \n",
    "    SIZE = 12\n",
    "    plt.rc('font', size=SIZE)  # controls default text sizes\n",
    "    plt.rc('axes', titlesize=SIZE+4)  # fontsize of the axes title\n",
    "    plt.rc('axes', labelsize=SIZE+4)  # fontsize of the x any y labels\n",
    "    plt.rc('xtick', labelsize=SIZE)  # fontsize of the tick labels\n",
    "    plt.rc('ytick', labelsize=SIZE)  # fontsize of the tick labels\n",
    "    plt.rc('legend', fontsize=SIZE+3)  # legend fontsize\n",
    "    plt.rc('figure', titlesize=SIZE)  # # size of the figure title\n",
    "    plt.xlabel(r'$\\epsilon/{\\langle \\epsilon\\rangle}$')\n",
    "    plt.ylabel(r'$P_{\\epsilon}$')\n",
    "    #ks=np.linspace(1,101,100)\n",
    "    #plt.xlabel('$\\langle \\omega^2\\rangle$')\n",
    "    #plt.ylabel('Bin-count')\n",
    "    plt.xlim(5,20)\n",
    "    plt.ylim(10**(-4),2*10**(-2))\n",
    "\n",
    "    plt.semilogy(edgesred,(s2red*(1024**(-3)))/((maxS2-minS2)/(avgEpsilon*Nbins)),'r',label='Unfiltered')\n",
    "    plt.semilogy(S2_bins,S2_pdf,'b--')"
   ]
  }
 ],
 "metadata": {
  "kernelspec": {
   "display_name": "Python 2",
   "language": "python",
   "name": "python2"
  },
  "language_info": {
   "codemirror_mode": {
    "name": "ipython",
    "version": 2
   },
   "file_extension": ".py",
   "mimetype": "text/x-python",
   "name": "python",
   "nbconvert_exporter": "python",
   "pygments_lexer": "ipython2",
   "version": "2.7.13"
  }
 },
 "nbformat": 4,
 "nbformat_minor": 1
}
