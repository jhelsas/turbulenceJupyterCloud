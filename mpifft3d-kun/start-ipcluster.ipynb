{
 "cells": [
  {
   "cell_type": "code",
   "execution_count": 1,
   "metadata": {},
   "outputs": [
    {
     "name": "stdout",
     "output_type": "stream",
     "text": [
      "2017-04-20 21:10:43.585 [IPClusterStart] Removing pid file: /home/admin/.ipython/profile_mpi/pid/ipcluster.pid\n",
      "2017-04-20 21:10:43.585 [IPClusterStart] Starting ipcluster with [daemon=False]\n",
      "2017-04-20 21:10:43.586 [IPClusterStart] Creating pid file: /home/admin/.ipython/profile_mpi/pid/ipcluster.pid\n",
      "2017-04-20 21:10:43.586 [IPClusterStart] Starting Controller with LocalControllerLauncher\n",
      "2017-04-20 21:10:44.591 [IPClusterStart] Starting 8 Engines with MPI\n",
      "2017-04-20 21:11:14.597 [IPClusterStart] Engines appear to have started successfully\n",
      "^C\n",
      "2017-04-20 21:17:04.269 [IPClusterStart] ERROR | IPython cluster: stopping\n"
     ]
    }
   ],
   "source": [
    "!ipcluster start -n 8 --engines=MPI --profile='mpi' # for parallel run: start the engines using terminal"
   ]
  },
  {
   "cell_type": "code",
   "execution_count": null,
   "metadata": {
    "collapsed": true
   },
   "outputs": [],
   "source": []
  }
 ],
 "metadata": {
  "kernelspec": {
   "display_name": "Python 2",
   "language": "python",
   "name": "python2"
  },
  "language_info": {
   "codemirror_mode": {
    "name": "ipython",
    "version": 2
   },
   "file_extension": ".py",
   "mimetype": "text/x-python",
   "name": "python",
   "nbconvert_exporter": "python",
   "pygments_lexer": "ipython2",
   "version": "2.7.13"
  }
 },
 "nbformat": 4,
 "nbformat_minor": 1
}
