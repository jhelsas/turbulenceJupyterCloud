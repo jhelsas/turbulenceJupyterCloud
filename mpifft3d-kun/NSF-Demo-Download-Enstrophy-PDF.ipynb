{
 "cells": [
  {
   "cell_type": "code",
   "execution_count": 1,
   "metadata": {
    "collapsed": true
   },
   "outputs": [],
   "source": [
    "#!ipcluster start -n 8 --engines=MPI --profile='mpi' # for parallel run: start the engines using terminal\n",
    "from ipyparallel import Client\n",
    "rc = Client(profile='mpi')"
   ]
  },
  {
   "cell_type": "code",
   "execution_count": 2,
   "metadata": {
    "collapsed": true
   },
   "outputs": [],
   "source": [
    "%%px\n",
    "# Import the libraries\n",
    "\n",
    "import os\n",
    "import sys\n",
    "import math\n",
    "import numpy as np\n",
    "import pyfftw as ft \n",
    "from mpi4py import MPI\n",
    "import matplotlib\n",
    "import matplotlib.pyplot as plt\n",
    "import pyJHTDB\n",
    "from pyJHTDB.dbinfo import isotropic1024coarse\n",
    "from pyJHTDB import libJHTDB\n",
    "\n",
    "from fft3d import FFT3Dfield_new\n",
    "from EnergySpectrum import EnergySpectrum"
   ]
  },
  {
   "cell_type": "code",
   "execution_count": 3,
   "metadata": {},
   "outputs": [
    {
     "name": "stdout",
     "output_type": "stream",
     "text": [
      "[stdout:5] \n",
      "n_proc = 8\n",
      "rank = 0\n"
     ]
    }
   ],
   "source": [
    "%%px\n",
    "\n",
    "Nx = isotropic1024coarse['nx']\n",
    "Ny = isotropic1024coarse['ny']\n",
    "Nz = isotropic1024coarse['nz']\n",
    "Lx = isotropic1024coarse['lx']\n",
    "Ly = isotropic1024coarse['ly']\n",
    "Lz = isotropic1024coarse['lz']\n",
    "\n",
    "comm = MPI.COMM_WORLD\n",
    "rank = comm.Get_rank()\n",
    "nproc = comm.Get_size()\n",
    "if(rank==0):\n",
    "    print(\"n_proc = \"+str(nproc))\n",
    "    print(\"rank = \"+str(rank))\n",
    "    \n",
    "# Computational Domain\n",
    "\n",
    "nx=Nx//nproc\n",
    "ny=Ny\n",
    "nz=Nz\n",
    "nz_half=nz//2\n",
    "nek=int(math.sqrt(2.0)/3*Nx)\n",
    "time = 0.0\n",
    "\n",
    "chkSz = 32\n",
    "slabs = nx//chkSz"
   ]
  },
  {
   "cell_type": "code",
   "execution_count": 4,
   "metadata": {},
   "outputs": [
    {
     "ename": "CompositeError",
     "evalue": "one or more exceptions from call to method: execute\n[Engine Exception]EngineError: Engine 0 died while running task u'91c2bf02-18f4e534c8f12e8d630e3034'\n[Engine Exception]EngineError: Engine 1 died while running task u'41bbe858-af89da05e739f4a65fa5f276'\n[Engine Exception]EngineError: Engine 2 died while running task u'964e2a19-3e4fb1b47c4704d4914cfc1b'\n[Engine Exception]EngineError: Engine 3 died while running task u'4eb60809-2ae5c8af3e5c726a8d738028'\n.... 4 more exceptions ...",
     "output_type": "error",
     "traceback": [
      "[Engine Exception]",
      "Traceback (most recent call last):",
      "  File \"/opt/anaconda2/lib/python2.7/site-packages/ipyparallel/client/client.py\", line 721, in _handle_stranded_msgs",
      "    raise error.EngineError(\"Engine %r died while running task %r\"%(eid, msg_id))",
      "EngineError: Engine 0 died while running task u'91c2bf02-18f4e534c8f12e8d630e3034'",
      "",
      "[Engine Exception]",
      "Traceback (most recent call last):",
      "  File \"/opt/anaconda2/lib/python2.7/site-packages/ipyparallel/client/client.py\", line 721, in _handle_stranded_msgs",
      "    raise error.EngineError(\"Engine %r died while running task %r\"%(eid, msg_id))",
      "EngineError: Engine 1 died while running task u'41bbe858-af89da05e739f4a65fa5f276'",
      "",
      "[Engine Exception]",
      "Traceback (most recent call last):",
      "  File \"/opt/anaconda2/lib/python2.7/site-packages/ipyparallel/client/client.py\", line 721, in _handle_stranded_msgs",
      "    raise error.EngineError(\"Engine %r died while running task %r\"%(eid, msg_id))",
      "EngineError: Engine 2 died while running task u'964e2a19-3e4fb1b47c4704d4914cfc1b'",
      "",
      "[Engine Exception]",
      "Traceback (most recent call last):",
      "  File \"/opt/anaconda2/lib/python2.7/site-packages/ipyparallel/client/client.py\", line 721, in _handle_stranded_msgs",
      "    raise error.EngineError(\"Engine %r died while running task %r\"%(eid, msg_id))",
      "EngineError: Engine 3 died while running task u'4eb60809-2ae5c8af3e5c726a8d738028'",
      "",
      "... 4 more exceptions ..."
     ]
    }
   ],
   "source": [
    "%%px\n",
    "\n",
    "from DataDownload import DataDownload\n",
    "\n",
    "# Populate velocity field from the Database\n",
    "\n",
    "if(rank==0):\n",
    "    print(\"Starting the loading process\")\n",
    "\n",
    "##########################################\n",
    "load_from_file = False\n",
    "store_on_file = True\n",
    "auth_token = \"com.gmail.jhelsas-b854269a\"\n",
    "\n",
    "folder = \"/home/admin/scratch\"\n",
    "filename = \"aws-isotropic1024coarse-\"+str(rank)+\"-(t=\"+str(time)+\")\"+\".npz\"\n",
    "file = folder + \"/\" + filename\n",
    "\n",
    "if(load_from_file):\n",
    "    vx = ft.zeros_aligned((nx,ny,nz), dtype='float32')\n",
    "    vy = ft.zeros_aligned((nx,ny,nz), dtype='float32')\n",
    "    vz = ft.zeros_aligned((nx,ny,nz), dtype='float32')\n",
    "\n",
    "    comm.Barrier(); t1=MPI.Wtime()\n",
    "    content = np.load(file)\n",
    "    if(int(content['nproc'])!=nproc):\n",
    "        print(\"Unmatched number of processes. Must first pre-process to adequate number of process\")\n",
    "    vx = content['vx']\n",
    "    vy = content['vy']\n",
    "    vz = content['vz']\n",
    "    comm.Barrier(); t2=MPI.Wtime()\n",
    "    if(rank==0):\n",
    "        print(\"Finished loading\")\n",
    "        sys.stdout.write('Load from disk: {0:.2f} seconds\\n'.format(t2-t1))\n",
    "else:\n",
    "    comm.Barrier(); t1=MPI.Wtime()\n",
    "    \n",
    "    ddwnld = DataDownload()\n",
    "    vx,vy,vz = ddwnld.DownldData_pyJHTDB('isotropic1024coarse',time,nx,ny,nz,nproc,rank,auth_token)\n",
    "    \n",
    "    comm.Barrier(); t2=MPI.Wtime()\n",
    "    if(rank==0):\n",
    "        print(\"Finished loading\")\n",
    "        sys.stdout.write('Load field from database: {0:.2f} seconds\\n'.format(t2-t1))\n",
    "    \n",
    "    comm.Barrier(); t1=MPI.Wtime()\n",
    "    \n",
    "    np.savez(file,vx=vx,vy=vy,vz=vz,nproc=nproc)\n",
    "    comm.Barrier(); t2=MPI.Wtime()\n",
    "    if(rank==0):\n",
    "        sys.stdout.write('Caching the data: {0:.2f} seconds\\n'.format(t2-t1))\n",
    "\n",
    "\n",
    "if(rank==0):\n",
    "    print(\"vx shape = \"+str(vx.shape))       "
   ]
  },
  {
   "cell_type": "code",
   "execution_count": 6,
   "metadata": {},
   "outputs": [
    {
     "name": "stdout",
     "output_type": "stream",
     "text": [
      "[stdout:1] Calculate all wavenumbers: 100.13 seconds\n"
     ]
    }
   ],
   "source": [
    "%%px\n",
    "comm.Barrier(); t1=MPI.Wtime()\n",
    "# Get wavenumber:\n",
    "myEnergySpc=EnergySpectrum()\n",
    "k2,kx,ky,kz=myEnergySpc.GetWavenumbers(nx,ny,nz,rank)\n",
    "\n",
    "comm.Barrier(); t2=MPI.Wtime()\n",
    "if(rank==0):\n",
    "    sys.stdout.write('Calculate all wavenumbers: {0:.2f} seconds\\n'.format(t2-t1))"
   ]
  },
  {
   "cell_type": "code",
   "execution_count": 7,
   "metadata": {},
   "outputs": [
    {
     "name": "stdout",
     "output_type": "stream",
     "text": [
      "[stdout:1] Alocate FFT : 73.55 seconds\n"
     ]
    }
   ],
   "source": [
    "%%px \n",
    "\n",
    "comm.Barrier(); t1=MPI.Wtime()\n",
    "\n",
    "fft = FFT3Dfield_new(nx,ny,nz,nproc,rank)\n",
    "\n",
    "cvx = ft.zeros_aligned((nx,ny,1+(nz//2)), dtype='complex64')\n",
    "cvy = ft.zeros_aligned((nx,ny,1+(nz//2)), dtype='complex64')\n",
    "cvz = ft.zeros_aligned((nx,ny,1+(nz//2)), dtype='complex64')\n",
    "\n",
    "comm.Barrier(); t2=MPI.Wtime()\n",
    "if(rank==0):\n",
    "    sys.stdout.write('Alocate FFT : {0:.2f} seconds\\n'.format(t2-t1))"
   ]
  },
  {
   "cell_type": "code",
   "execution_count": 8,
   "metadata": {},
   "outputs": [
    {
     "name": "stdout",
     "output_type": "stream",
     "text": [
      "[stdout:1] Calculate 3D spatial FFT: 62.78 seconds\n"
     ]
    }
   ],
   "source": [
    "%%px\n",
    "comm.Barrier(); t1=MPI.Wtime()\n",
    "\n",
    "cvx[:,:,:] = fft.forward3Dfft(vx,nx,ny,nz,nproc,rank)\n",
    "cvy[:,:,:] = fft.forward3Dfft(vy,nx,ny,nz,nproc,rank)\n",
    "cvz[:,:,:] = fft.forward3Dfft(vz,nx,ny,nz,nproc,rank)\n",
    "\n",
    "comm.Barrier(); t2=MPI.Wtime()\n",
    "if(rank==0):\n",
    "    sys.stdout.write('Calculate 3D spatial FFT: {0:.2f} seconds\\n'.format(t2-t1))"
   ]
  },
  {
   "cell_type": "code",
   "execution_count": 9,
   "metadata": {
    "scrolled": true
   },
   "outputs": [
    {
     "name": "stdout",
     "output_type": "stream",
     "text": [
      "[stdout:1] Calculate vorticity in k space: 217.99 seconds\n"
     ]
    }
   ],
   "source": [
    "%%px\n",
    "comm.Barrier(); t1=MPI.Wtime()\n",
    "\n",
    "cwx=np.complex64(0.0+1.0j)*(ky*cvz-kz*cvy)\n",
    "cwy=np.complex64(0.0+1.0j)*(kx*cvz-kz*cvx)\n",
    "cwz=np.complex64(0.0+1.0j)*(kx*cvy-ky*cvx)\n",
    "\n",
    "comm.Barrier(); t2=MPI.Wtime()\n",
    "if(rank==0):\n",
    "    sys.stdout.write('Calculate vorticity in k space: {0:.2f} seconds\\n'.format(t2-t1))"
   ]
  },
  {
   "cell_type": "code",
   "execution_count": 10,
   "metadata": {
    "collapsed": true
   },
   "outputs": [],
   "source": [
    "%%px\n",
    "\n",
    "wx = ft.zeros_aligned((nx,ny,nz), dtype='float32')\n",
    "wy = ft.zeros_aligned((nx,ny,nz), dtype='float32')\n",
    "wz = ft.zeros_aligned((nx,ny,nz), dtype='float32')"
   ]
  },
  {
   "cell_type": "code",
   "execution_count": 11,
   "metadata": {
    "collapsed": true
   },
   "outputs": [],
   "source": [
    "%%px \n",
    "\n",
    "cwx[kz==(Nz//2)] = 0.\n",
    "cwy[kz==(Nz//2)] = 0.\n",
    "cwz[kz==(Nz//2)] = 0."
   ]
  },
  {
   "cell_type": "code",
   "execution_count": 12,
   "metadata": {},
   "outputs": [
    {
     "name": "stdout",
     "output_type": "stream",
     "text": [
      "[stdout:1] Calculate 3D spatial inverse FFT: 22.09 seconds\n"
     ]
    }
   ],
   "source": [
    "%%px\n",
    "comm.Barrier(); t1=MPI.Wtime()\n",
    "# Get velocity field in Fourier space:\n",
    "\n",
    "\n",
    "wx[:,:,:]=fft.backward3Dfft(cwx,nx,ny,nz,nproc,rank)\n",
    "wy[:,:,:]=fft.backward3Dfft(cwy,nx,ny,nz,nproc,rank)\n",
    "wz[:,:,:]=fft.backward3Dfft(cwz,nx,ny,nz,nproc,rank)\n",
    "\n",
    "comm.Barrier(); t2=MPI.Wtime()\n",
    "if(rank==0):\n",
    "    sys.stdout.write('Calculate 3D spatial inverse FFT: {0:.2f} seconds\\n'.format(t2-t1))"
   ]
  },
  {
   "cell_type": "code",
   "execution_count": 13,
   "metadata": {
    "collapsed": true
   },
   "outputs": [],
   "source": [
    "%%px\n",
    "\n",
    "w2 = (wx**2+wy**2+wz**2)"
   ]
  },
  {
   "cell_type": "code",
   "execution_count": 14,
   "metadata": {},
   "outputs": [
    {
     "name": "stdout",
     "output_type": "stream",
     "text": [
      "[stdout:1] Caching the data: 3.22 seconds\n"
     ]
    }
   ],
   "source": [
    "%%px\n",
    "\n",
    "cacheEnstrophyData = True\n",
    "loadEnstrophyFromCache = False\n",
    "\n",
    "folder = \"/home/jhelsas/scratch\"\n",
    "filename = \"ref-enstrophy-\"+str(rank)+\".npz\"\n",
    "file = folder + \"/\" + filename\n",
    "\n",
    "if(loadEnstrophyFromCache):\n",
    "    comm.Barrier(); t1=MPI.Wtime()\n",
    "    content = np.load(file)\n",
    "    \n",
    "    w2 = ft.zeros_aligned((nx,ny,nz), dtype='float32')\n",
    "    \n",
    "    w2[:,:,:] = content['w2']\n",
    "    \n",
    "    comm.Barrier(); t2=MPI.Wtime()\n",
    "    if(rank==0):\n",
    "        print(\"Finished loading\")\n",
    "        sys.stdout.write('Load from disk: {0:.2f} seconds\\n'.format(t2-t1))\n",
    "\n",
    "if(cacheEnstrophyData):\n",
    "    \n",
    "    comm.Barrier(); t1=MPI.Wtime()\n",
    "    np.savez(file,w2=w2,nproc=nproc)\n",
    "    comm.Barrier(); t2=MPI.Wtime()\n",
    "    if(rank==0):\n",
    "        sys.stdout.write('Caching the data: {0:.2f} seconds\\n'.format(t2-t1))"
   ]
  },
  {
   "cell_type": "code",
   "execution_count": 15,
   "metadata": {},
   "outputs": [
    {
     "name": "stdout",
     "output_type": "stream",
     "text": [
      "[stdout:1] \n",
      "<w^2> : 498.43548584\n",
      "min w2/<w^2> : 1.43997824626e-07\n",
      "min w2/<w^2> : 675.170001054\n",
      "Calculate average enstrophy: 0.27 seconds\n"
     ]
    }
   ],
   "source": [
    "%%px\n",
    "comm.Barrier(); t1=MPI.Wtime()\n",
    "\n",
    "avgOmega = np.average(w2)\n",
    "avgOmegaGl=np.zeros(1,dtype='float32')\n",
    "\n",
    "comm.Reduce([avgOmega,MPI.REAL],[avgOmegaGl,MPI.REAL],op=MPI.SUM)\n",
    "avgOmega = avgOmegaGl[0]/nproc\n",
    "avgOmega = comm.bcast(avgOmega, root=0)\n",
    "\n",
    "##########################\n",
    "\n",
    "minw2 = w2.min()\n",
    "maxw2 = w2.max()\n",
    "\n",
    "minwGl=np.zeros(nproc,dtype='float32')\n",
    "maxwGl=np.zeros(nproc,dtype='float32')\n",
    "\n",
    "comm.Allgather([minw2,MPI.REAL],[minwGl,MPI.REAL])\n",
    "comm.Allgather([maxw2,MPI.REAL],[maxwGl,MPI.REAL])\n",
    "\n",
    "minw2 = minwGl.min()\n",
    "maxw2 = maxwGl.max()\n",
    "\n",
    "comm.Barrier()\n",
    "\n",
    "if rank==0:\n",
    "    print(\"<w^2> : \"+str(avgOmega))\n",
    "    print(\"min w2/<w^2> : \"+str(minw2/avgOmega))\n",
    "    print(\"min w2/<w^2> : \"+str(maxw2/avgOmega))\n",
    "\n",
    "comm.Barrier(); t2=MPI.Wtime()\n",
    "if(rank==0):\n",
    "    sys.stdout.write('Calculate average enstrophy: {0:.2f} seconds\\n'.format(t2-t1))\n"
   ]
  },
  {
   "cell_type": "code",
   "execution_count": 18,
   "metadata": {
    "collapsed": true
   },
   "outputs": [],
   "source": [
    "%%px\n",
    "w2_bins = np.load('enstrophy_bins.npy')\n",
    "w2_pdf = np.load('enstrophy_pdf.npy')\n",
    "\n",
    "Nbins = w2_bins.shape[0]\n",
    "wtemp = w2[w2<=20*avgOmega] \n",
    "w2red=np.zeros(Nbins,dtype='int')\n",
    "histred,edgesred = np.histogram(wtemp/avgOmega,w2_bins)"
   ]
  },
  {
   "cell_type": "code",
   "execution_count": 21,
   "metadata": {
    "collapsed": true
   },
   "outputs": [],
   "source": [
    "%%px\n",
    "blocks = Nbins//100\n",
    "comm.Barrier()\n",
    "for i in range(blocks):\n",
    "    comm.Reduce([histred[i*100:(i+1)*100],MPI.INT],[w2red[i*100:(i+1)*100],MPI.INT],op=MPI.SUM)\n",
    "    comm.Barrier()"
   ]
  },
  {
   "cell_type": "code",
   "execution_count": 22,
   "metadata": {},
   "outputs": [
    {
     "data": {
      "text/plain": [
       "[output:1]"
      ]
     },
     "metadata": {},
     "output_type": "display_data"
    },
    {
     "data": {
      "image/png": "[encoded data removed]",
      "text/plain": [
       "<matplotlib.figure.Figure at 0x2b2e78fdef10>"
      ]
     },
     "metadata": {
      "engine": 1
     },
     "output_type": "display_data"
    }
   ],
   "source": [
    "%%px\n",
    "\n",
    "%matplotlib inline\n",
    "w2red[-1] = 0\n",
    "if rank==0:\n",
    "    w2_bins = np.load('enstrophy_bins.npy')\n",
    "    w2_pdf = np.load('enstrophy_pdf.npy')\n",
    "    \n",
    "    SIZE = 12\n",
    "    #plt.rc('font', size=SIZE)  # controls default text sizes\n",
    "    #plt.rc('axes', titlesize=SIZE+4)  # fontsize of the axes title\n",
    "    #plt.rc('axes', labelsize=SIZE+4)  # fontsize of the x any y labels\n",
    "    #plt.rc('xtick', labelsize=SIZE)  # fontsize of the tick labels\n",
    "    #plt.rc('ytick', labelsize=SIZE)  # fontsize of the tick labels\n",
    "    #plt.rc('legend', fontsize=SIZE+3)  # legend fontsize\n",
    "    #plt.rc('figure', titlesize=SIZE)  # # size of the figure title\n",
    "    plt.xlabel(r'$\\omega^2/{\\langle \\omega^2\\rangle}$')\n",
    "    plt.ylabel(r'$P_{\\omega^2}$')\n",
    "    #plt.xlim(0,5)\n",
    "    #plt.ylim(10**(-2),10**(1))\n",
    "\n",
    "    plt.semilogy(edgesred,(w2red*(1024**(-3)))/((20*avgOmega-minw2)/(avgOmega*Nbins)),'r',label='Unfiltered')\n",
    "    plt.semilogy(w2_bins,w2_pdf,'b--')"
   ]
  },
  {
   "cell_type": "code",
   "execution_count": 23,
   "metadata": {
    "collapsed": true
   },
   "outputs": [],
   "source": [
    "%%px\n",
    "\n",
    "sigma2g = avgOmega\n",
    "Nbins = 1024*8\n",
    "wtemp = w2[:,:,:] \n",
    "w2red=np.zeros(Nbins,dtype='int')\n",
    "lbins = np.logspace(np.log10(minw2/avgOmega),np.log10(maxw2/avgOmega),Nbins)\n",
    "histred,edgesred = np.histogram(wtemp/avgOmega,lbins)\n",
    "#hist,edges = np.histogram(w2/sigma2g,10 ** np.linspace(np.log10(m/sigma2g), np.log10(M/sigma2g), Nbins))"
   ]
  },
  {
   "cell_type": "code",
   "execution_count": 24,
   "metadata": {
    "collapsed": true
   },
   "outputs": [],
   "source": [
    "%%px\n",
    "blocks = Nbins//100\n",
    "comm.Barrier()\n",
    "for i in range(blocks):\n",
    "    comm.Reduce([histred[i*100:(i+1)*100],MPI.INT],[w2red[i*100:(i+1)*100],MPI.INT],op=MPI.SUM)\n",
    "    comm.Barrier()\n",
    "    \n",
    "left = edgesred[0:(Nbins-1)]\n",
    "right = edgesred[1:Nbins]\n",
    "normhist = (histred*(1024**(-3)))/(right-left)\n",
    "\n",
    "if rank==0:\n",
    "    norm = np.sum(normhist*(right-left))"
   ]
  },
  {
   "cell_type": "code",
   "execution_count": 26,
   "metadata": {},
   "outputs": [
    {
     "data": {
      "text/plain": [
       "[output:1]"
      ]
     },
     "metadata": {},
     "output_type": "display_data"
    },
    {
     "data": {
      "image/png": "[encoded data removed]",
      "text/plain": [
       "<matplotlib.figure.Figure at 0x2b2e791c5a10>"
      ]
     },
     "metadata": {
      "engine": 1
     },
     "output_type": "display_data"
    }
   ],
   "source": [
    "%%px\n",
    "\n",
    "%matplotlib inline\n",
    "w2red[-1] = 0\n",
    "if rank==0:\n",
    "    w2_bins = np.load('enstrophy_bins.npy')\n",
    "    w2_pdf = np.load('enstrophy_pdf.npy')\n",
    "    \n",
    "    SIZE = 12\n",
    "    plt.rc('font', size=SIZE)  # controls default text sizes\n",
    "    plt.rc('axes', titlesize=SIZE+4)  # fontsize of the axes title\n",
    "    plt.rc('axes', labelsize=SIZE+4)  # fontsize of the x any y labels\n",
    "    plt.rc('xtick', labelsize=SIZE)  # fontsize of the tick labels\n",
    "    plt.rc('ytick', labelsize=SIZE)  # fontsize of the tick labels\n",
    "    plt.rc('legend', fontsize=SIZE+3)  # legend fontsize\n",
    "    #plt.rc('figure', titlesize=SIZE)  # # size of the figure title\n",
    "    plt.xlabel(r'$\\omega^2/{\\langle \\omega^2\\rangle}$')\n",
    "    plt.ylabel(r'$P_{\\omega^2}$')\n",
    "    #plt.xlim(0,5)\n",
    "    #plt.ylim(10**(-2),10**(1))\n",
    "\n",
    "    plt.loglog((left+right)/2.,normhist/norm,'r',label='Unfiltered')\n",
    "    plt.loglog(w2_bins,w2_pdf,'b--')"
   ]
  },
  {
   "cell_type": "code",
   "execution_count": 28,
   "metadata": {},
   "outputs": [
    {
     "data": {
      "text/plain": [
       "[output:1]"
      ]
     },
     "metadata": {},
     "output_type": "display_data"
    },
    {
     "data": {
      "image/png": "[encoded data removed]",
      "text/plain": [
       "<matplotlib.figure.Figure at 0x2b2e78fff710>"
      ]
     },
     "metadata": {
      "engine": 1
     },
     "output_type": "display_data"
    }
   ],
   "source": [
    "%%px\n",
    "\n",
    "%matplotlib inline\n",
    "w2red[-1] = 0\n",
    "if rank==0:\n",
    "    w2_bins = np.load('enstrophy_bins.npy')\n",
    "    w2_pdf = np.load('enstrophy_pdf.npy')\n",
    "    \n",
    "    SIZE = 12\n",
    "    plt.rc('font', size=SIZE)  # controls default text sizes\n",
    "    plt.rc('axes', titlesize=SIZE+4)  # fontsize of the axes title\n",
    "    plt.rc('axes', labelsize=SIZE+4)  # fontsize of the x any y labels\n",
    "    plt.rc('xtick', labelsize=SIZE)  # fontsize of the tick labels\n",
    "    plt.rc('ytick', labelsize=SIZE)  # fontsize of the tick labels\n",
    "    plt.rc('legend', fontsize=SIZE+3)  # legend fontsize\n",
    "    #plt.rc('figure', titlesize=SIZE)  # # size of the figure title\n",
    "    plt.xlabel(r'$\\omega^2/{\\langle \\omega^2\\rangle}$')\n",
    "    plt.ylabel(r'$P_{\\omega^2}$')\n",
    "    plt.xlim(0,20)\n",
    "    plt.ylim(10**(-4),10**(1))\n",
    "\n",
    "    plt.semilogy((left+right)/2.,normhist/norm,'r',label='Unfiltered')\n",
    "    plt.semilogy(w2_bins,w2_pdf,'b--')"
   ]
  },
  {
   "cell_type": "code",
   "execution_count": 29,
   "metadata": {
    "collapsed": true
   },
   "outputs": [],
   "source": [
    "%%px\n",
    "Nbins = 4*1024\n",
    "wtemp = w2[w2<=20*sigma2g] \n",
    "w2red=np.zeros(Nbins,dtype='int')\n",
    "histred,edgesred = np.histogram(wtemp/sigma2g,np.linspace(minw2/sigma2g, 20, Nbins))\n",
    "#hist,edges = np.histogram(w2/sigma2g,10 ** np.linspace(np.log10(m/sigma2g), np.log10(M/sigma2g), Nbins))"
   ]
  },
  {
   "cell_type": "code",
   "execution_count": 30,
   "metadata": {
    "collapsed": true
   },
   "outputs": [],
   "source": [
    "%%px\n",
    "blocks = Nbins//100\n",
    "comm.Barrier()\n",
    "for i in range(blocks):\n",
    "    comm.Reduce([histred[i*100:(i+1)*100],MPI.INT],[w2red[i*100:(i+1)*100],MPI.INT],op=MPI.SUM)\n",
    "    comm.Barrier()"
   ]
  },
  {
   "cell_type": "code",
   "execution_count": 32,
   "metadata": {},
   "outputs": [
    {
     "data": {
      "text/plain": [
       "[output:1]"
      ]
     },
     "metadata": {},
     "output_type": "display_data"
    },
    {
     "data": {
      "image/png": "[encoded data removed]",
      "text/plain": [
       "<matplotlib.figure.Figure at 0x2b2e98e0e110>"
      ]
     },
     "metadata": {
      "engine": 1
     },
     "output_type": "display_data"
    }
   ],
   "source": [
    "%%px\n",
    "%matplotlib inline\n",
    "w2red[-1] = 0\n",
    "if rank==0:\n",
    "    w2_bins = np.load('enstrophy_bins.npy')\n",
    "    w2_pdf = np.load('enstrophy_pdf.npy')\n",
    "    \n",
    "    SIZE = 12\n",
    "    plt.rc('font', size=SIZE)  # controls default text sizes\n",
    "    plt.rc('axes', titlesize=SIZE+4)  # fontsize of the axes title\n",
    "    plt.rc('axes', labelsize=SIZE+4)  # fontsize of the x any y labels\n",
    "    plt.rc('xtick', labelsize=SIZE)  # fontsize of the tick labels\n",
    "    plt.rc('ytick', labelsize=SIZE)  # fontsize of the tick labels\n",
    "    plt.rc('legend', fontsize=SIZE+3)  # legend fontsize\n",
    "    #plt.rc('figure', titlesize=SIZE)  # # size of the figure title\n",
    "    plt.xlabel(r'$\\omega^2/{\\langle \\omega^2\\rangle}$')\n",
    "    plt.ylabel(r'$P_{\\omega^2}$')\n",
    "    #ks=np.linspace(1,101,100)\n",
    "    #plt.xlabel('$\\langle \\omega^2\\rangle$')\n",
    "    #plt.ylabel('Bin-count')\n",
    "    #plt.xlim(0,5)\n",
    "    #plt.ylim(10**(-2),10**(1))\n",
    "\n",
    "    plt.semilogy(edgesred,(w2red*(1024**(-3)))/((20*sigma2g-minw2)/(sigma2g*Nbins)),'r',label='Unfiltered')\n",
    "    plt.semilogy(w2_bins,w2_pdf,'b--')"
   ]
  }
 ],
 "metadata": {
  "kernelspec": {
   "display_name": "Python 2",
   "language": "python",
   "name": "python2"
  },
  "language_info": {
   "codemirror_mode": {
    "name": "ipython",
    "version": 2
   },
   "file_extension": ".py",
   "mimetype": "text/x-python",
   "name": "python",
   "nbconvert_exporter": "python",
   "pygments_lexer": "ipython2",
   "version": "2.7.13"
  }
 },
 "nbformat": 4,
 "nbformat_minor": 1
}
