{
 "cells": [
  {
   "cell_type": "code",
   "execution_count": 1,
   "metadata": {
    "collapsed": false
   },
   "outputs": [],
   "source": [
    "#!ipcluster start -n 8 --engines=MPI --profile='mpi' # for parallel run: start the engines using terminal\n",
    "from ipyparallel import Client\n",
    "rc = Client(profile='mpi')"
   ]
  },
  {
   "cell_type": "code",
   "execution_count": 2,
   "metadata": {
    "collapsed": false
   },
   "outputs": [],
   "source": [
    "%%px\n",
    "# Import the libraries\n",
    "\n",
    "import os\n",
    "import sys\n",
    "import math\n",
    "import numpy as np\n",
    "import pyfftw as ft \n",
    "from mpi4py import MPI\n",
    "import matplotlib\n",
    "import matplotlib.pyplot as plt\n",
    "import pyJHTDB\n",
    "from pyJHTDB.dbinfo import isotropic1024coarse\n",
    "from pyJHTDB import libJHTDB\n",
    "\n",
    "from fft3d import FFT3Dfield_new\n",
    "from EnergySpectrum import EnergySpectrum"
   ]
  },
  {
   "cell_type": "code",
   "execution_count": 3,
   "metadata": {
    "collapsed": false
   },
   "outputs": [
    {
     "name": "stdout",
     "output_type": "stream",
     "text": [
      "[stdout:2] \n",
      "n_proc = 8\n",
      "rank = 0\n"
     ]
    }
   ],
   "source": [
    "%%px\n",
    "\n",
    "Nx = isotropic1024coarse['nx']; Ny = isotropic1024coarse['ny']; Nz = isotropic1024coarse['nz']\n",
    "Lx = isotropic1024coarse['lx']; Ly = isotropic1024coarse['ly']; Lz = isotropic1024coarse['lz']\n",
    "\n",
    "comm = MPI.COMM_WORLD\n",
    "rank = comm.Get_rank()\n",
    "nproc = comm.Get_size()\n",
    "if(rank==0):\n",
    "    print(\"n_proc = \"+str(nproc))\n",
    "    print(\"rank = \"+str(rank))\n",
    "\n",
    "# Computational Domain\n",
    "\n",
    "nx=Nx//nproc; ny=Ny; nz=Nz\n",
    "nz_half=nz//2\n",
    "nek=int(math.sqrt(2.0)/3*Nx)\n",
    "time = 0.0\n",
    "\n",
    "chkSz = 32\n",
    "slabs = nx//chkSz"
   ]
  },
  {
   "cell_type": "code",
   "execution_count": 4,
   "metadata": {
    "collapsed": false
   },
   "outputs": [
    {
     "name": "stdout",
     "output_type": "stream",
     "text": [
      "[stdout:2] \n",
      "Finished loading\n",
      "Load from disk: 68.92 seconds\n"
     ]
    }
   ],
   "source": [
    "%%px\n",
    "\n",
    "cacheEnstrophyData = False\n",
    "loadEnstrophyFromCache = True\n",
    "\n",
    "folder = \"/home/idies/workspace/scratch\"\n",
    "filename = \"ref-enstrophy-\"+str(rank)+\".npz\"\n",
    "file = folder + \"/\" + filename\n",
    "\n",
    "if(loadEnstrophyFromCache):\n",
    "    comm.Barrier(); t1=MPI.Wtime()\n",
    "    content = np.load(file)\n",
    "    \n",
    "    w2 = ft.zeros_aligned((nx,ny,nz), dtype='float32')\n",
    "    \n",
    "    if(int(content['nproc'])!=nproc):\n",
    "        print(\"Unmatched number of processes. Must first pre-process to adequate number of process\")\n",
    "    w2[:,:,:] = content['w2']\n",
    "    \n",
    "    comm.Barrier(); t2=MPI.Wtime()\n",
    "    if(rank==0):\n",
    "        print(\"Finished loading\")\n",
    "        sys.stdout.write('Load from disk: {0:.2f} seconds\\n'.format(t2-t1))\n",
    "\n",
    "if(cacheEnstrophyData):\n",
    "    \n",
    "    comm.Barrier(); t1=MPI.Wtime()\n",
    "    np.savez(file,w2=w2,nproc=nproc)\n",
    "    comm.Barrier(); t2=MPI.Wtime()\n",
    "    if(rank==0):\n",
    "        sys.stdout.write('Caching the data: {0:.2f} seconds\\n'.format(t2-t1))"
   ]
  },
  {
   "cell_type": "code",
   "execution_count": 5,
   "metadata": {
    "collapsed": true
   },
   "outputs": [],
   "source": [
    "%%px\n",
    "\n",
    "w2 = 0.5*w2"
   ]
  },
  {
   "cell_type": "code",
   "execution_count": 6,
   "metadata": {
    "collapsed": false
   },
   "outputs": [
    {
     "name": "stdout",
     "output_type": "stream",
     "text": [
      "[stdout:2] \n",
      "<w^2>/2 : 249.21774292\n",
      "min w2/<w^2> : 1.43020472082e-07\n",
      "min w2/<w^2> : 675.170126447\n"
     ]
    }
   ],
   "source": [
    "%%px\n",
    "\n",
    "avgOmega = np.average(w2)\n",
    "avgOmegaGl=np.zeros(1,dtype='float32')\n",
    "\n",
    "comm.Reduce([avgOmega,MPI.REAL],[avgOmegaGl,MPI.REAL],op=MPI.SUM)\n",
    "avgOmega = avgOmegaGl[0]/nproc\n",
    "avgOmega = comm.bcast(avgOmega, root=0)\n",
    "\n",
    "##########################\n",
    "\n",
    "minw2 = w2.min()\n",
    "maxw2 = w2.max()\n",
    "\n",
    "minwGl=np.zeros(nproc,dtype='float32')\n",
    "maxwGl=np.zeros(nproc,dtype='float32')\n",
    "\n",
    "comm.Allgather([minw2,MPI.REAL],[minwGl,MPI.REAL])\n",
    "comm.Allgather([maxw2,MPI.REAL],[maxwGl,MPI.REAL])\n",
    "\n",
    "minw2 = minwGl.min()\n",
    "maxw2 = maxwGl.max()\n",
    "\n",
    "comm.Barrier()\n",
    "\n",
    "if rank==0:\n",
    "    print(\"<w^2>/2 : \"+str(avgOmega))\n",
    "    print(\"min w2/<w^2> : \"+str(minw2/avgOmega))\n",
    "    print(\"min w2/<w^2> : \"+str(maxw2/avgOmega))"
   ]
  },
  {
   "cell_type": "code",
   "execution_count": 7,
   "metadata": {
    "collapsed": false
   },
   "outputs": [
    {
     "name": "stdout",
     "output_type": "stream",
     "text": [
      "[stdout:2] Alocating vectors: 1.56 seconds\n"
     ]
    }
   ],
   "source": [
    "%%px\n",
    "\n",
    "dx = isotropic1024coarse['dx']\n",
    "ner = int(1024*np.sqrt(3))\n",
    "rbins = np.linspace(-0.5*dx,2*np.pi*np.sqrt(3)+0.5*dx,ner+1)\n",
    "\n",
    "comm.Barrier(); t1=MPI.Wtime()\n",
    "\n",
    "X = np.zeros((nx,ny,nz), dtype='float32')\n",
    "Y = np.zeros((nx,ny,nz), dtype='float32')\n",
    "Z = np.zeros((nx,ny,nz), dtype='float32')\n",
    "r2 = np.zeros((nx,ny,nz), dtype='float32')\n",
    "\n",
    "chi = ft.zeros_aligned((nx,ny,nz), dtype='float32')\n",
    "\n",
    "comm.Barrier(); t2=MPI.Wtime()\n",
    "if(rank==0):\n",
    "    sys.stdout.write('Alocating vectors: {0:.2f} seconds\\n'.format(t2-t1))"
   ]
  },
  {
   "cell_type": "code",
   "execution_count": 8,
   "metadata": {
    "collapsed": false
   },
   "outputs": [
    {
     "name": "stdout",
     "output_type": "stream",
     "text": [
      "[stdout:2] Preparing the real domain for radial integration: 170.54 seconds\n"
     ]
    }
   ],
   "source": [
    "%%px\n",
    "\n",
    "comm.Barrier(); t1=MPI.Wtime()\n",
    "for i in range(nx):\n",
    "    X[i,:,:] = (i+rank*nx)*isotropic1024coarse['dx']\n",
    "    \n",
    "for j in range(ny):\n",
    "    Y[:,j,:] = j*isotropic1024coarse['dy']\n",
    "    \n",
    "for k in range(nz):\n",
    "    Z[:,:,k] = k*isotropic1024coarse['dz']\n",
    "    \n",
    "r2[:,:,:] = X[:,:,:]**2+Y[:,:,:]**2+Z[:,:,:]**2\n",
    "\n",
    "r2rt = np.sqrt(r2)\n",
    "comm.Barrier(); t2=MPI.Wtime()\n",
    "if(rank==0):\n",
    "    sys.stdout.write('Preparing the real domain for radial integration: {0:.2f} seconds\\n'.format(t2-t1))"
   ]
  },
  {
   "cell_type": "code",
   "execution_count": 9,
   "metadata": {
    "collapsed": true
   },
   "outputs": [],
   "source": [
    "%%px\n",
    "\n",
    "BoxL = isotropic1024coarse['lx']\n",
    "x0 = y0 = z0 = 0.\n",
    "t = 5\n",
    "\n",
    "L = BoxL/2.\n",
    "\n",
    "x1 = x0+isotropic1024coarse['lx']\n",
    "y1 = y0+isotropic1024coarse['ly']\n",
    "z1 = z0+isotropic1024coarse['lz']\n",
    "\n",
    "nx = int((x1-x0)/L)+1\n",
    "ny = int((y1-y0)/L)+1\n",
    "nz = int((z1-z0)/L)+1\n",
    "\n",
    "x1 = x0 + nx*L\n",
    "y1 = y0 + ny*L \n",
    "z1 = z0 + nz*L"
   ]
  },
  {
   "cell_type": "code",
   "execution_count": null,
   "metadata": {
    "collapsed": false,
    "scrolled": false
   },
   "outputs": [],
   "source": [
    "%%px\n",
    "tl = [1,2,3,4,5,6,7,10,15,20,30,50]\n",
    "dtl = [1.,0.7,0.5,0.2,0.1,0.05,0.025,0.01,0.005]\n",
    "\n",
    "lcorr = []\n",
    "llogr = []\n",
    "\n",
    "eta = 0.00287\n",
    "\n",
    "tboxes = []\n",
    "\n",
    "#t=20\n",
    "dt = 0.05\n",
    "#for dt in dtl:\n",
    "for t in tl:\n",
    "    comm.Barrier(); t1=MPI.Wtime()\n",
    "    \n",
    "    Xs = X[(w2 > t*avgOmega)&(w2 < t*(1+dt)*avgOmega)]\n",
    "    Ys = Y[(w2 > t*avgOmega)&(w2 < t*(1+dt)*avgOmega)]\n",
    "    Zs = Z[(w2 > t*avgOmega)&(w2 < t*(1+dt)*avgOmega)]\n",
    "    \n",
    "    print(Xs.shape)\n",
    "    \n",
    "    hist = np.zeros((Xs.shape[0],3))\n",
    "    \n",
    "    hist[:,0] = Xs[:]\n",
    "    hist[:,1] = Ys[:]\n",
    "    hist[:,2] = Zs[:]\n",
    "    \n",
    "    count = []\n",
    "    scales = np.logspace(np.log(2*425*eta),np.log(0.1*42.5*eta), num=250, endpoint=True, base=np.e)\n",
    "    #scales = [0.1*42.5*eta,0.3*42.5*eta]\n",
    "    \n",
    "    for L in scales:\n",
    "        x1 = x0+isotropic1024coarse['lx']\n",
    "        y1 = y0+isotropic1024coarse['ly']\n",
    "        z1 = z0+isotropic1024coarse['lz']\n",
    "        \n",
    "        nx = int((x1-x0)/L)+1\n",
    "        ny = int((y1-y0)/L)+1\n",
    "        nz = int((z1-z0)/L)+1\n",
    "        \n",
    "        x1 = x0 + nx*L\n",
    "        y1 = y0 + ny*L \n",
    "        z1 = z0 + nz*L\n",
    "        \n",
    "        H, edges = np.histogramdd(hist, bins=(nx,ny,nz), range=((x0,x1),(y0,y1),(z0,z1)), normed=True)\n",
    "        \n",
    "        Hglobal = np.zeros(H.shape,dtype='float64')\n",
    "        comm.Allreduce([H,MPI.DOUBLE],[Hglobal,MPI.DOUBLE],op=MPI.SUM)\n",
    "        \n",
    "        Hn = Hglobal[:,:,:]\n",
    "        Hn[Hn>0] = 1\n",
    "        numBox = np.sum(Hn)\n",
    "        gbox = np.zeros(1,dtype='float32')\n",
    "        gbox[0] = numBox\n",
    "        gbox = gbox[0]\n",
    "        \n",
    "        count.append(gbox)\n",
    "    \n",
    "    acount = np.array(count)\n",
    "    \n",
    "    tboxes.append(acount[:])\n",
    "        \n",
    "    comm.Barrier(); t2=MPI.Wtime()\n",
    "    if(rank==0):\n",
    "        sys.stdout.write('Computing boxcounting numbers: {0:.2f} seconds\\n'.format(t2-t1))"
   ]
  },
  {
   "cell_type": "code",
   "execution_count": 15,
   "metadata": {
    "collapsed": false
   },
   "outputs": [
    {
     "name": "stdout",
     "output_type": "stream",
     "text": [
      "[stdout:2] \n",
      "[  2.70000000e+01   2.70000000e+01   2.70000000e+01   2.70000000e+01\n",
      "   2.70000000e+01   2.70000000e+01   2.70000000e+01   2.70000000e+01\n",
      "   6.40000000e+01   6.40000000e+01   6.40000000e+01   6.40000000e+01\n",
      "   6.40000000e+01   6.40000000e+01   6.40000000e+01   6.40000000e+01\n",
      "   6.40000000e+01   6.40000000e+01   6.40000000e+01   6.40000000e+01\n",
      "   6.40000000e+01   1.25000000e+02   1.25000000e+02   1.25000000e+02\n",
      "   1.25000000e+02   1.25000000e+02   1.25000000e+02   1.25000000e+02\n",
      "   1.25000000e+02   1.25000000e+02   1.25000000e+02   1.25000000e+02\n",
      "   2.16000000e+02   2.16000000e+02   2.16000000e+02   2.16000000e+02\n",
      "   2.16000000e+02   2.16000000e+02   2.16000000e+02   2.16000000e+02\n",
      "   3.43000000e+02   3.43000000e+02   3.43000000e+02   3.43000000e+02\n",
      "   3.43000000e+02   3.43000000e+02   3.43000000e+02   3.43000000e+02\n",
      "   5.12000000e+02   5.12000000e+02   5.12000000e+02   5.12000000e+02\n",
      "   5.12000000e+02   5.12000000e+02   7.29000000e+02   7.29000000e+02\n",
      "   7.29000000e+02   7.29000000e+02   7.29000000e+02   1.00000000e+03\n",
      "   1.00000000e+03   1.00000000e+03   1.00000000e+03   1.00000000e+03\n",
      "   1.33100000e+03   1.33100000e+03   1.33100000e+03   1.33100000e+03\n",
      "   1.33100000e+03   1.72800000e+03   1.72800000e+03   1.72800000e+03\n",
      "   1.72800000e+03   2.19700000e+03   2.19700000e+03   2.19700000e+03\n",
      "   2.19700000e+03   2.74400000e+03   2.74400000e+03   2.74400000e+03\n",
      "   3.37500000e+03   3.37500000e+03   3.37500000e+03   4.09600000e+03\n",
      "   4.09600000e+03   4.09600000e+03   4.91300000e+03   4.91300000e+03\n",
      "   4.91300000e+03   5.83200000e+03   5.83200000e+03   5.83200000e+03\n",
      "   6.85900000e+03   6.85900000e+03   7.96900000e+03   8.00000000e+03\n",
      "   8.00000000e+03   9.26100000e+03   9.26100000e+03   1.06470000e+04\n",
      "   1.06480000e+04   1.21650000e+04   1.21670000e+04   1.38010000e+04\n",
      "   1.38240000e+04   1.55980000e+04   1.56250000e+04   1.75710000e+04\n",
      "   1.75750000e+04   1.96800000e+04   1.96830000e+04   2.19470000e+04\n",
      "   2.19520000e+04   2.43860000e+04   2.69830000e+04   2.69970000e+04\n",
      "   2.97840000e+04   3.26470000e+04   3.27560000e+04   3.59220000e+04\n",
      "   3.92460000e+04   3.92890000e+04   4.28500000e+04   4.66130000e+04\n",
      "   5.04070000e+04   5.06080000e+04   5.48160000e+04   5.92460000e+04\n",
      "   6.38670000e+04   6.86340000e+04   6.88180000e+04   7.39510000e+04\n",
      "   7.93140000e+04   8.49680000e+04   9.08400000e+04   9.70200000e+04\n",
      "   1.03424000e+05   1.10093000e+05   1.17058000e+05   1.24310000e+05\n",
      "   1.31858000e+05   1.39646000e+05   1.47789000e+05   1.56208000e+05\n",
      "   1.73376000e+05   1.83061000e+05   1.92773000e+05   2.02862000e+05\n",
      "   2.13050000e+05   2.34327000e+05   2.45796000e+05   2.57461000e+05\n",
      "   2.81451000e+05   2.94150000e+05   3.19654000e+05   3.34065000e+05\n",
      "   3.60932000e+05   3.76979000e+05   4.06720000e+05   4.23191000e+05\n",
      "   4.55530000e+05   4.87839000e+05   5.07317000e+05   5.43418000e+05\n",
      "   5.80821000e+05   6.17672000e+05   6.40935000e+05   6.82273000e+05\n",
      "   7.24827000e+05   7.69437000e+05   8.15147000e+05   8.62384000e+05\n",
      "   9.11161000e+05   9.82735000e+05   1.03724100e+06   1.09217200e+06\n",
      "   1.14716300e+06   1.22699300e+06   1.29113300e+06   1.36827800e+06\n",
      "   1.44058200e+06   1.52314300e+06   1.60057400e+06   1.69635800e+06\n",
      "   1.78681500e+06   1.86886200e+06   1.97227600e+06   2.07743100e+06\n",
      "   2.18531000e+06   2.29677300e+06   2.40934500e+06   2.51947000e+06\n",
      "   2.64965900e+06   2.77587900e+06   2.89393400e+06   3.02941000e+06\n",
      "   3.16492700e+06   3.31441400e+06   3.43244500e+06   3.57754700e+06\n",
      "   3.72079100e+06   3.86323900e+06   4.01117000e+06   4.15667900e+06\n",
      "   4.31275000e+06   4.46517800e+06   4.62528000e+06   4.76345200e+06\n",
      "   4.90592100e+06   5.04605400e+06   5.19522500e+06   5.34529400e+06\n",
      "   5.48966000e+06   5.64140400e+06   5.80027200e+06   5.95304100e+06\n",
      "   6.10056800e+06   6.23919900e+06   6.36483300e+06   6.48036400e+06\n",
      "   6.60932600e+06   6.73432300e+06   6.86105100e+06   6.98070000e+06\n",
      "   7.12135500e+06   7.23970300e+06   7.37380100e+06   7.50362600e+06\n",
      "   7.63128800e+06   7.75972800e+06   7.87603100e+06   7.95755800e+06\n",
      "   8.04526500e+06   8.13284200e+06   8.21390600e+06   8.30598300e+06\n",
      "   8.38860300e+06   8.47506700e+06   8.55998500e+06   8.64175000e+06\n",
      "   8.72863800e+06   8.82212400e+06   8.90175500e+06   8.98477800e+06\n",
      "   9.07270800e+06   9.15458700e+06   9.23726200e+06   9.32191100e+06\n",
      "   9.40152400e+06   9.47066300e+06]\n",
      "[  2.70000000e+01   2.70000000e+01   2.70000000e+01   2.70000000e+01\n",
      "   2.70000000e+01   2.70000000e+01   2.70000000e+01   2.70000000e+01\n",
      "   6.40000000e+01   6.40000000e+01   6.40000000e+01   6.40000000e+01\n",
      "   6.40000000e+01   6.40000000e+01   6.40000000e+01   6.40000000e+01\n",
      "   6.40000000e+01   6.40000000e+01   6.40000000e+01   6.40000000e+01\n",
      "   6.40000000e+01   1.25000000e+02   1.25000000e+02   1.25000000e+02\n",
      "   1.25000000e+02   1.25000000e+02   1.25000000e+02   1.25000000e+02\n",
      "   1.25000000e+02   1.25000000e+02   1.25000000e+02   1.25000000e+02\n",
      "   2.16000000e+02   2.16000000e+02   2.16000000e+02   2.16000000e+02\n",
      "   2.16000000e+02   2.16000000e+02   2.16000000e+02   2.16000000e+02\n",
      "   3.42000000e+02   3.43000000e+02   3.43000000e+02   3.43000000e+02\n",
      "   3.43000000e+02   3.43000000e+02   3.43000000e+02   3.43000000e+02\n",
      "   5.12000000e+02   5.12000000e+02   5.12000000e+02   5.12000000e+02\n",
      "   5.12000000e+02   5.12000000e+02   7.29000000e+02   7.29000000e+02\n",
      "   7.29000000e+02   7.29000000e+02   7.29000000e+02   9.98000000e+02\n",
      "   1.00000000e+03   1.00000000e+03   1.00000000e+03   1.00000000e+03\n",
      "   1.33000000e+03   1.33100000e+03   1.33100000e+03   1.33100000e+03\n",
      "   1.33100000e+03   1.72800000e+03   1.72800000e+03   1.72800000e+03\n",
      "   1.72800000e+03   2.19700000e+03   2.19700000e+03   2.19700000e+03\n",
      "   2.19700000e+03   2.74400000e+03   2.74400000e+03   2.74400000e+03\n",
      "   3.37500000e+03   3.37500000e+03   3.37500000e+03   4.09000000e+03\n",
      "   4.09600000e+03   4.09600000e+03   4.90200000e+03   4.91300000e+03\n",
      "   4.91300000e+03   5.82700000e+03   5.83100000e+03   5.83200000e+03\n",
      "   6.85900000e+03   6.85900000e+03   7.94800000e+03   7.99900000e+03\n",
      "   8.00000000e+03   9.26000000e+03   9.25900000e+03   1.06380000e+04\n",
      "   1.06470000e+04   1.21350000e+04   1.21600000e+04   1.37580000e+04\n",
      "   1.38170000e+04   1.55390000e+04   1.56160000e+04   1.75120000e+04\n",
      "   1.75670000e+04   1.96350000e+04   1.96650000e+04   2.19140000e+04\n",
      "   2.19260000e+04   2.43290000e+04   2.68560000e+04   2.69300000e+04\n",
      "   2.96790000e+04   3.23320000e+04   3.26470000e+04   3.57700000e+04\n",
      "   3.89110000e+04   3.90880000e+04   4.25770000e+04   4.62480000e+04\n",
      "   4.97060000e+04   5.02610000e+04   5.43110000e+04   5.86090000e+04\n",
      "   6.30610000e+04   6.74930000e+04   6.79410000e+04   7.29490000e+04\n",
      "   7.81150000e+04   8.34920000e+04   8.91620000e+04   9.50450000e+04\n",
      "   1.01096000e+05   1.07423000e+05   1.14005000e+05   1.20890000e+05\n",
      "   1.27877000e+05   1.35190000e+05   1.42810000e+05   1.50612000e+05\n",
      "   1.65679000e+05   1.75011000e+05   1.84023000e+05   1.93284000e+05\n",
      "   2.02610000e+05   2.21264000e+05   2.31731000e+05   2.42046000e+05\n",
      "   2.62920000e+05   2.74503000e+05   2.95662000e+05   3.08794000e+05\n",
      "   3.30746000e+05   3.45550000e+05   3.70029000e+05   3.84358000e+05\n",
      "   4.11262000e+05   4.36702000e+05   4.53810000e+05   4.82779000e+05\n",
      "   5.12882000e+05   5.41841000e+05   5.61037000e+05   5.93350000e+05\n",
      "   6.26705000e+05   6.60973000e+05   6.95397000e+05   7.31054000e+05\n",
      "   7.67652000e+05   8.19881000e+05   8.60502000e+05   9.00354000e+05\n",
      "   9.40394000e+05   9.97204000e+05   1.04358000e+06   1.09615800e+06\n",
      "   1.14723000e+06   1.20270400e+06   1.25646000e+06   1.32089400e+06\n",
      "   1.38182500e+06   1.43639900e+06   1.50563700e+06   1.57365900e+06\n",
      "   1.64310500e+06   1.71494700e+06   1.78828900e+06   1.85760600e+06\n",
      "   1.93978300e+06   2.01919300e+06   2.09353000e+06   2.17852600e+06\n",
      "   2.26292700e+06   2.35552000e+06   2.42857900e+06   2.51565200e+06\n",
      "   2.60550000e+06   2.69214800e+06   2.78310900e+06   2.87209000e+06\n",
      "   2.96548800e+06   3.05860900e+06   3.15714200e+06   3.24079800e+06\n",
      "   3.32934700e+06   3.41422000e+06   3.50356200e+06   3.59709600e+06\n",
      "   3.68620500e+06   3.77759100e+06   3.87294900e+06   3.96799800e+06\n",
      "   4.05817400e+06   4.14251000e+06   4.22013100e+06   4.29367400e+06\n",
      "   4.37225800e+06   4.45052500e+06   4.52761600e+06   4.60454700e+06\n",
      "   4.69078500e+06   4.76610000e+06   4.84685400e+06   4.92782600e+06\n",
      "   5.00945800e+06   5.08861200e+06   5.16090900e+06   5.21180400e+06\n",
      "   5.27097800e+06   5.32434000e+06   5.37555400e+06   5.43561100e+06\n",
      "   5.49012900e+06   5.54345600e+06   5.59994300e+06   5.65345400e+06\n",
      "   5.70784900e+06   5.76637500e+06   5.81945400e+06   5.87248900e+06\n",
      "   5.92891300e+06   5.98357300e+06   6.03550900e+06   6.08897500e+06\n",
      "   6.14075900e+06   6.18630000e+06]\n",
      "[[  2.70000000e+01   2.70000000e+01   2.70000000e+01 ...,   9.32191100e+06\n",
      "    9.40152400e+06   9.47066300e+06]\n",
      " [  2.70000000e+01   2.70000000e+01   2.70000000e+01 ...,   6.08897500e+06\n",
      "    6.14075900e+06   6.18630000e+06]\n",
      " [  2.70000000e+01   2.70000000e+01   2.70000000e+01 ...,   4.24943300e+06\n",
      "    4.28562200e+06   4.31678300e+06]\n",
      " ..., \n",
      " [  2.70000000e+01   2.70000000e+01   2.70000000e+01 ...,   2.50536000e+05\n",
      "    2.52193000e+05   2.53862000e+05]\n",
      " [  2.70000000e+01   2.70000000e+01   2.70000000e+01 ...,   1.05699000e+05\n",
      "    1.06258000e+05   1.06935000e+05]\n",
      " [  2.70000000e+01   2.70000000e+01   2.70000000e+01 ...,   3.07780000e+04\n",
      "    3.08270000e+04   3.10810000e+04]]\n"
     ]
    }
   ],
   "source": [
    "%%px \n",
    "\n",
    "if rank==0:\n",
    "    print(tboxes[0])\n",
    "    print(tboxes[1])\n",
    "    tfboxes = np.array(tboxes)\n",
    "    print(tfboxes)\n",
    "    np.savez('boxcount-enstrophy-shells-dims.npz',tfboxes = tfboxes)"
   ]
  },
  {
   "cell_type": "code",
   "execution_count": null,
   "metadata": {
    "collapsed": true
   },
   "outputs": [],
   "source": []
  }
 ],
 "metadata": {
  "kernelspec": {
   "display_name": "Python 3",
   "language": "python",
   "name": "python3"
  },
  "language_info": {
   "codemirror_mode": {
    "name": "ipython",
    "version": 3
   },
   "file_extension": ".py",
   "mimetype": "text/x-python",
   "name": "python",
   "nbconvert_exporter": "python",
   "pygments_lexer": "ipython3",
   "version": "3.5.2"
  }
 },
 "nbformat": 4,
 "nbformat_minor": 0
}
