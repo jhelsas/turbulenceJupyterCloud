{
 "cells": [
  {
   "cell_type": "code",
   "execution_count": 1,
   "metadata": {},
   "outputs": [],
   "source": [
    "#!ipcluster start -n 8 --engines=MPI --profile='mpi' # for parallel run: start the engines using terminal\n",
    "from ipyparallel import Client\n",
    "rc = Client(profile='mpi')"
   ]
  },
  {
   "cell_type": "code",
   "execution_count": 1,
   "metadata": {},
   "outputs": [
    {
     "name": "stderr",
     "output_type": "stream",
     "text": [
      "ERROR: Cell magic `%%px` not found.\n"
     ]
    }
   ],
   "source": [
    "%%px\n",
    "# Import the libraries\n",
    "\n",
    "import numpy as np\n",
    "import pyfftw as ft \n",
    "from mpi4py import MPI\n",
    "import math\n",
    "import sys\n",
    "import os\n",
    "import pyJHTDB\n",
    "from pyJHTDB.dbinfo import isotropic1024coarse\n",
    "from pyJHTDB import libJHTDB\n",
    "\n",
    "#sys.path.insert(0,'ClassRepository')\n",
    "from fft3d import FFT3Dfield_new\n",
    "from EnergySpectrum import EnergySpectrum"
   ]
  },
  {
   "cell_type": "code",
   "execution_count": 3,
   "metadata": {},
   "outputs": [
    {
     "name": "stdout",
     "output_type": "stream",
     "text": [
      "[stdout:2] \n",
      "n_proc = 8\n",
      "rank = 0\n"
     ]
    }
   ],
   "source": [
    "%%px\n",
    "\n",
    "Nx = isotropic1024coarse['nx']\n",
    "Ny = isotropic1024coarse['ny']\n",
    "Nz = isotropic1024coarse['nz']\n",
    "Lx = isotropic1024coarse['lx']\n",
    "Ly = isotropic1024coarse['ly']\n",
    "Lz = isotropic1024coarse['lz']\n",
    "nu = isotropic1024coarse['nu']\n",
    "\n",
    "comm = MPI.COMM_WORLD\n",
    "rank = comm.Get_rank()\n",
    "nproc = comm.Get_size()\n",
    "if(rank==0):\n",
    "    print(\"n_proc = \"+str(nproc))\n",
    "    print(\"rank = \"+str(rank))\n",
    "\n",
    "nx=Nx//nproc\n",
    "ny=Ny\n",
    "nz=Nz\n",
    "nz_half=nz//2\n",
    "nek=int(math.sqrt(2.0)/3*Nx)\n",
    "time = 0.0 #1.024# 0.0\n",
    "\n",
    "chkSz = 32\n",
    "slabs = nx//chkSz"
   ]
  },
  {
   "cell_type": "code",
   "execution_count": 21,
   "metadata": {},
   "outputs": [
    {
     "name": "stdout",
     "output_type": "stream",
     "text": [
      "[stdout:2] \n",
      "Starting the loading process\n",
      "Finished loading\n",
      "Load from disk: 76.63 seconds\n",
      "vx shape = (128, 1024, 1024)\n"
     ]
    }
   ],
   "source": [
    "%%px\n",
    "\n",
    "from DataDownload import DataDownload\n",
    "\n",
    "# Populate velocity field from the Database\n",
    "\n",
    "if(rank==0):\n",
    "    print(\"Starting the loading process\")\n",
    "\n",
    "##########################################\n",
    "load_from_file = True\n",
    "store_on_file = False\n",
    "auth_token = \"com.gmail.jhelsas-b854269a\"\n",
    "\n",
    "folder = \"/home/idies/workspace/scratch\"\n",
    "filename = \"ref-isotropic1024coarse-\"+str(rank)+\"-(t=\"+str(time)+\")\"+\".npz\"\n",
    "file = folder + \"/\" + filename\n",
    "\n",
    "if(load_from_file):\n",
    "    vx = ft.zeros_aligned((nx,ny,nz), dtype='float32')\n",
    "    vy = ft.zeros_aligned((nx,ny,nz), dtype='float32')\n",
    "    vz = ft.zeros_aligned((nx,ny,nz), dtype='float32')\n",
    "\n",
    "    comm.Barrier(); t1=MPI.Wtime()\n",
    "    content = np.load(file)\n",
    "    if(int(content['nproc'])!=nproc):\n",
    "        print(\"Unmatched number of processes. Must first pre-process to adequate number of process\")\n",
    "    vx = content['vx']\n",
    "    vy = content['vy']\n",
    "    vz = content['vz']\n",
    "    comm.Barrier(); t2=MPI.Wtime()\n",
    "    if(rank==0):\n",
    "        print(\"Finished loading\")\n",
    "        sys.stdout.write('Load from disk: {0:.2f} seconds\\n'.format(t2-t1))\n",
    "else:\n",
    "    comm.Barrier(); t1=MPI.Wtime()\n",
    "    \n",
    "    ddwnld = DataDownload()\n",
    "    vx,vy,vz = ddwnld.DownldData_pyJHTDB('isotropic1024coarse',time,nx,ny,nz,nproc,rank,auth_token)\n",
    "    \n",
    "    comm.Barrier(); t2=MPI.Wtime()\n",
    "    if(rank==0):\n",
    "        print(\"Finished loading\")\n",
    "        sys.stdout.write('Load field from database: {0:.2f} seconds\\n'.format(t2-t1))\n",
    "    \n",
    "    comm.Barrier(); t1=MPI.Wtime()\n",
    "    \n",
    "    np.savez(file,vx=vx,vy=vy,vz=vz,nproc=nproc)\n",
    "    comm.Barrier(); t2=MPI.Wtime()\n",
    "    if(rank==0):\n",
    "        sys.stdout.write('Caching the data: {0:.2f} seconds\\n'.format(t2-t1))\n",
    "\n",
    "\n",
    "if(rank==0):\n",
    "    print(\"vx shape = \"+str(vx.shape))       "
   ]
  },
  {
   "cell_type": "code",
   "execution_count": 5,
   "metadata": {},
   "outputs": [
    {
     "name": "stdout",
     "output_type": "stream",
     "text": [
      "[stdout:2] kinectic energy = 0.682719171047\n"
     ]
    }
   ],
   "source": [
    "%%px\n",
    "\n",
    "K = 0.5*(vx**2+vy**2+vz**2)\n",
    "\n",
    "slabK = np.sum(K)\n",
    "\n",
    "avgK=np.zeros(1,dtype='float32')\n",
    "\n",
    "comm.Reduce([slabK,MPI.REAL],[avgK,MPI.REAL],op=MPI.SUM)\n",
    "avgK = avgK[0]*(1024**(-3))\n",
    "avgK = comm.bcast(avgK, root=0)\n",
    "\n",
    "if rank==0:\n",
    "    print(\"kinectic energy = \"+str(avgK))"
   ]
  },
  {
   "cell_type": "code",
   "execution_count": 6,
   "metadata": {},
   "outputs": [
    {
     "name": "stdout",
     "output_type": "stream",
     "text": [
      "[stdout:2] Calculate all wavenumbers: 33.88 seconds\n"
     ]
    }
   ],
   "source": [
    "%%px\n",
    "\n",
    "comm.Barrier(); t1=MPI.Wtime()\n",
    "# Get wavenumber:\n",
    "myEnergySpc=EnergySpectrum()\n",
    "k2,kx,ky,kz=myEnergySpc.GetWavenumbers(nx,ny,nz,rank)\n",
    "\n",
    "comm.Barrier(); t2=MPI.Wtime()\n",
    "if(rank==0):\n",
    "    sys.stdout.write('Calculate all wavenumbers: {0:.2f} seconds\\n'.format(t2-t1))"
   ]
  },
  {
   "cell_type": "code",
   "execution_count": 7,
   "metadata": {},
   "outputs": [
    {
     "name": "stdout",
     "output_type": "stream",
     "text": [
      "[stdout:2] Preparing FFT: 54.31 seconds\n"
     ]
    }
   ],
   "source": [
    "%%px \n",
    "comm.Barrier(); t1=MPI.Wtime()\n",
    "\n",
    "fft = FFT3Dfield_new(nx,ny,nz,nproc,rank)\n",
    "\n",
    "cvx = ft.zeros_aligned((nx,ny,1+(nz//2)), dtype='complex64')\n",
    "cvy = ft.zeros_aligned((nx,ny,1+(nz//2)), dtype='complex64')\n",
    "cvz = ft.zeros_aligned((nx,ny,1+(nz//2)), dtype='complex64')\n",
    "\n",
    "comm.Barrier(); t2=MPI.Wtime()\n",
    "if(rank==0):\n",
    "    sys.stdout.write('Preparing FFT: {0:.2f} seconds\\n'.format(t2-t1))"
   ]
  },
  {
   "cell_type": "code",
   "execution_count": 8,
   "metadata": {},
   "outputs": [
    {
     "name": "stdout",
     "output_type": "stream",
     "text": [
      "[stdout:2] Calculate 3D spatial FFT: 104.76 seconds\n"
     ]
    }
   ],
   "source": [
    "%%px\n",
    "comm.Barrier(); t1=MPI.Wtime()\n",
    "\n",
    "cvx[:,:,:] = fft.forward3Dfft(vx,nx,ny,nz,nproc,rank)\n",
    "cvy[:,:,:] = fft.forward3Dfft(vy,nx,ny,nz,nproc,rank)\n",
    "cvz[:,:,:] = fft.forward3Dfft(vz,nx,ny,nz,nproc,rank)\n",
    "\n",
    "comm.Barrier(); t2=MPI.Wtime()\n",
    "if(rank==0):\n",
    "    sys.stdout.write('Calculate 3D spatial FFT: {0:.2f} seconds\\n'.format(t2-t1))"
   ]
  },
  {
   "cell_type": "code",
   "execution_count": 9,
   "metadata": {},
   "outputs": [
    {
     "name": "stdout",
     "output_type": "stream",
     "text": [
      "[stdout:2] alocating fourier space derivatives: 269.99 seconds\n"
     ]
    }
   ],
   "source": [
    "%%px\n",
    "comm.Barrier(); t1=MPI.Wtime()\n",
    "\n",
    "cA11 = ft.zeros_aligned((nx,ny,1+(nz//2)), dtype='complex64')\n",
    "cA12 = ft.zeros_aligned((nx,ny,1+(nz//2)), dtype='complex64')\n",
    "cA13 = ft.zeros_aligned((nx,ny,1+(nz//2)), dtype='complex64')\n",
    "cA21 = ft.zeros_aligned((nx,ny,1+(nz//2)), dtype='complex64')\n",
    "cA22 = ft.zeros_aligned((nx,ny,1+(nz//2)), dtype='complex64')\n",
    "cA23 = ft.zeros_aligned((nx,ny,1+(nz//2)), dtype='complex64')\n",
    "cA31 = ft.zeros_aligned((nx,ny,1+(nz//2)), dtype='complex64')\n",
    "cA32 = ft.zeros_aligned((nx,ny,1+(nz//2)), dtype='complex64')\n",
    "cA33 = ft.zeros_aligned((nx,ny,1+(nz//2)), dtype='complex64')\n",
    "\n",
    "comm.Barrier(); t2=MPI.Wtime()\n",
    "if(rank==0):\n",
    "    sys.stdout.write('alocating fourier space derivatives: {0:.2f} seconds\\n'.format(t2-t1))"
   ]
  },
  {
   "cell_type": "code",
   "execution_count": 10,
   "metadata": {},
   "outputs": [
    {
     "name": "stdout",
     "output_type": "stream",
     "text": [
      "[stdout:2] Calculate velocity gradient: 320.76 seconds\n"
     ]
    }
   ],
   "source": [
    "%%px\n",
    "comm.Barrier(); t1=MPI.Wtime()\n",
    "\n",
    "cA11[:,:,:] = np.complex64(0.0+1.0j)*kx[:,:,:]*cvx[:,:,:]\n",
    "cA12[:,:,:] = np.complex64(0.0+1.0j)*kx[:,:,:]*cvy[:,:,:]\n",
    "cA13[:,:,:] = np.complex64(0.0+1.0j)*kx[:,:,:]*cvz[:,:,:]\n",
    "\n",
    "cA21[:,:,:] = np.complex64(0.0+1.0j)*ky[:,:,:]*cvx[:,:,:]\n",
    "cA22[:,:,:] = np.complex64(0.0+1.0j)*ky[:,:,:]*cvy[:,:,:]\n",
    "cA23[:,:,:] = np.complex64(0.0+1.0j)*ky[:,:,:]*cvz[:,:,:]\n",
    "\n",
    "cA31[:,:,:] = np.complex64(0.0+1.0j)*kz[:,:,:]*cvx[:,:,:]\n",
    "cA32[:,:,:] = np.complex64(0.0+1.0j)*kz[:,:,:]*cvy[:,:,:]\n",
    "cA33[:,:,:] = np.complex64(0.0+1.0j)*kz[:,:,:]*cvz[:,:,:]\n",
    "\n",
    "comm.Barrier(); t2=MPI.Wtime()\n",
    "if(rank==0):\n",
    "    sys.stdout.write('Calculate velocity gradient: {0:.2f} seconds\\n'.format(t2-t1))"
   ]
  },
  {
   "cell_type": "code",
   "execution_count": 11,
   "metadata": {},
   "outputs": [
    {
     "name": "stdout",
     "output_type": "stream",
     "text": [
      "[stdout:2] Alocate real space gradients: 114.17 seconds\n"
     ]
    }
   ],
   "source": [
    "%%px\n",
    "comm.Barrier(); t1=MPI.Wtime()\n",
    "\n",
    "A11 = ft.zeros_aligned((nx,ny,nz), dtype='float32')\n",
    "A12 = ft.zeros_aligned((nx,ny,nz), dtype='float32')\n",
    "A13 = ft.zeros_aligned((nx,ny,nz), dtype='float32')\n",
    "A21 = ft.zeros_aligned((nx,ny,nz), dtype='float32')\n",
    "A22 = ft.zeros_aligned((nx,ny,nz), dtype='float32')\n",
    "A23 = ft.zeros_aligned((nx,ny,nz), dtype='float32')\n",
    "A31 = ft.zeros_aligned((nx,ny,nz), dtype='float32')\n",
    "A32 = ft.zeros_aligned((nx,ny,nz), dtype='float32')\n",
    "A33 = ft.zeros_aligned((nx,ny,nz), dtype='float32')\n",
    "\n",
    "comm.Barrier(); t2=MPI.Wtime()\n",
    "if(rank==0):\n",
    "    sys.stdout.write('Alocate real space gradients: {0:.2f} seconds\\n'.format(t2-t1))"
   ]
  },
  {
   "cell_type": "code",
   "execution_count": 12,
   "metadata": {},
   "outputs": [
    {
     "name": "stdout",
     "output_type": "stream",
     "text": [
      "[stdout:2] Calculate inverse 3D spatial FFT - velocity gradients: 302.61 seconds\n"
     ]
    }
   ],
   "source": [
    "%%px\n",
    "comm.Barrier(); t1=MPI.Wtime()\n",
    "\n",
    "A11[:,:,:] = fft.backward3Dfft(cA11,nx,ny,nz,nproc,rank)\n",
    "A12[:,:,:] = fft.backward3Dfft(cA12,nx,ny,nz,nproc,rank)\n",
    "A13[:,:,:] = fft.backward3Dfft(cA13,nx,ny,nz,nproc,rank)\n",
    "A21[:,:,:] = fft.backward3Dfft(cA21,nx,ny,nz,nproc,rank)\n",
    "A22[:,:,:] = fft.backward3Dfft(cA22,nx,ny,nz,nproc,rank)\n",
    "A23[:,:,:] = fft.backward3Dfft(cA23,nx,ny,nz,nproc,rank)\n",
    "A31[:,:,:] = fft.backward3Dfft(cA31,nx,ny,nz,nproc,rank)\n",
    "A32[:,:,:] = fft.backward3Dfft(cA32,nx,ny,nz,nproc,rank)\n",
    "A33[:,:,:] = fft.backward3Dfft(cA33,nx,ny,nz,nproc,rank)\n",
    "\n",
    "comm.Barrier(); t2=MPI.Wtime()\n",
    "if(rank==0):\n",
    "    sys.stdout.write('Calculate inverse 3D spatial FFT - velocity gradients: {0:.2f} seconds\\n'.format(t2-t1))"
   ]
  },
  {
   "cell_type": "code",
   "execution_count": 13,
   "metadata": {},
   "outputs": [],
   "source": [
    "%%px\n",
    "\n",
    "\n",
    "del vx\n",
    "del vy\n",
    "del vz"
   ]
  },
  {
   "cell_type": "code",
   "execution_count": 14,
   "metadata": {
    "collapsed": true
   },
   "outputs": [],
   "source": [
    "%%px \n",
    "\n",
    "del cvx,cvy,cvz\n",
    "del cA11,cA12,cA13\n",
    "del cA21,cA22,cA23\n",
    "del cA31,cA32,cA33"
   ]
  },
  {
   "cell_type": "code",
   "execution_count": 15,
   "metadata": {},
   "outputs": [
    {
     "name": "stdout",
     "output_type": "stream",
     "text": [
      "[stdout:2] \n",
      "<A11> = -1.01607611214e-11\n",
      "<A12> = -1.9371509552e-07\n",
      "<A13> = 5.21540641785e-07\n",
      "<A21> = -4.51336745755e-11\n",
      "<A22> = -1.10162545752e-10\n",
      "<A23> = -6.59895249555e-10\n",
      "<A31> = 7.5606187977e-13\n",
      "<A32> = 3.22852855561e-11\n",
      "<A33> = 1.04782849064e-12\n"
     ]
    }
   ],
   "source": [
    "%%px \n",
    "\n",
    "A  = [A11,A12,A13,A21,A22,A23,A31,A32,A33]\n",
    "la = ['A11','A12','A13','A21','A22','A23','A31','A32','A33']\n",
    "\n",
    "for i in range(9):\n",
    "    Aav = np.average(A[i])\n",
    "    slabAavg = np.sum(Aav)\n",
    "    \n",
    "    avgA =np.zeros(1,dtype='float32')\n",
    "    \n",
    "    comm.Reduce([slabAavg,MPI.REAL],[avgA,MPI.REAL],op=MPI.SUM)\n",
    "    avgA = avgA[0]/nproc #avgK[0]*(1024**(-3))\n",
    "    avgA = comm.bcast(avgA, root=0)\n",
    "    \n",
    "    if rank==0:\n",
    "        print(\"<\"+la[i]+\"> = \"+str(avgA))"
   ]
  },
  {
   "cell_type": "code",
   "execution_count": 16,
   "metadata": {},
   "outputs": [
    {
     "name": "stdout",
     "output_type": "stream",
     "text": [
      "[stdout:2] \n",
      "<A11^2> = 33.2611160278\n",
      "<A12^2> = 66.9627380371\n",
      "<A13^2> = 67.0288848877\n",
      "<A21^2> = 65.7715530396\n",
      "<A22^2> = 33.0682907104\n",
      "<A23^2> = 65.7397689819\n",
      "<A31^2> = 66.6280975342\n",
      "<A32^2> = 66.7571411133\n",
      "<A33^2> = 33.2177276611\n"
     ]
    }
   ],
   "source": [
    "%%px \n",
    "\n",
    "A  = [A11,A12,A13,A21,A22,A23,A31,A32,A33]\n",
    "la = ['A11','A12','A13','A21','A22','A23','A31','A32','A33']\n",
    "\n",
    "for i in range(9):\n",
    "    A2av = np.average(A[i]**2)\n",
    "    \n",
    "    avgA2 =np.zeros(1,dtype='float32')\n",
    "    \n",
    "    comm.Reduce([A2av,MPI.REAL],[avgA2,MPI.REAL],op=MPI.SUM)\n",
    "    avgA2 = avgA2[0]/nproc #avgK[0]*(1024**(-3))\n",
    "    avgA2 = comm.bcast(avgA2, root=0)\n",
    "    \n",
    "    if rank==0:\n",
    "        print(\"<\"+la[i]+\"^2> = \"+str(avgA2))"
   ]
  },
  {
   "cell_type": "code",
   "execution_count": 17,
   "metadata": {},
   "outputs": [
    {
     "name": "stdout",
     "output_type": "stream",
     "text": [
      "[stdout:2] \n",
      "skewness = <A11^3>/<A11^2>^(3/2) = -0.590255673714\n",
      "skewness = <A12^3>/<A12^2>^(3/2) = -0.0262069046671\n",
      "skewness = <A13^3>/<A13^2>^(3/2) = -0.0446001044037\n",
      "skewness = <A21^3>/<A21^2>^(3/2) = -0.00580454587372\n",
      "skewness = <A22^3>/<A22^2>^(3/2) = -0.553908776151\n",
      "skewness = <A23^3>/<A23^2>^(3/2) = -0.0494112993707\n",
      "skewness = <A31^3>/<A31^2>^(3/2) = 0.00386568212556\n",
      "skewness = <A32^3>/<A32^2>^(3/2) = 0.00726923617989\n",
      "skewness = <A33^3>/<A33^2>^(3/2) = -0.576320650439\n"
     ]
    }
   ],
   "source": [
    "%%px \n",
    "\n",
    "A  = [A11,A12,A13,A21,A22,A23,A31,A32,A33]\n",
    "la = ['A11','A12','A13','A21','A22','A23','A31','A32','A33']\n",
    "\n",
    "for i in range(9):  \n",
    "    A2av = np.average(A[i]**2)\n",
    "    A3av = np.average(A[i]**3)\n",
    "    \n",
    "    avgA2 =np.zeros(1,dtype='float32')\n",
    "    avgA3 =np.zeros(1,dtype='float32')\n",
    "    \n",
    "    comm.Reduce([A2av,MPI.REAL],[avgA2,MPI.REAL],op=MPI.SUM)\n",
    "    comm.Reduce([A3av,MPI.REAL],[avgA3,MPI.REAL],op=MPI.SUM)\n",
    "    \n",
    "    avgA2 = avgA2[0]/nproc \n",
    "    avgA2 = comm.bcast(avgA2, root=0)\n",
    "    avgA3 = avgA3[0]/nproc \n",
    "    avgA3 = comm.bcast(avgA3, root=0)\n",
    "    \n",
    "    if rank==0:\n",
    "        print(\"skewness = <\"+la[i]+\"^3>/\"+\"<\"+la[i]+\"^2>^(3/2) \"+\"= \"+str(avgA3/(avgA2**(3/2))) )"
   ]
  },
  {
   "cell_type": "code",
   "execution_count": 18,
   "metadata": {},
   "outputs": [
    {
     "name": "stdout",
     "output_type": "stream",
     "text": [
      "[stdout:2] <(div v)^2> = 5.53647616641e-09\n"
     ]
    }
   ],
   "source": [
    "%%px \n",
    "\n",
    "div = A11+A22+A33 \n",
    "\n",
    "div2av = np.average(div**2)\n",
    "    \n",
    "avgdiv2 =np.zeros(1,dtype='float32')\n",
    "   \n",
    "comm.Reduce([div2av,MPI.REAL],[avgdiv2,MPI.REAL],op=MPI.SUM)\n",
    "avgdiv2 = avgdiv2[0]/nproc \n",
    "avgdiv2 = comm.bcast(avgdiv2, root=0)\n",
    "\n",
    "if rank==0:\n",
    "    print(\"<(div v)^2> = \"+str(avgdiv2))"
   ]
  },
  {
   "cell_type": "code",
   "execution_count": 22,
   "metadata": {},
   "outputs": [
    {
     "name": "stdout",
     "output_type": "stream",
     "text": [
      "[stdout:2] \n",
      "(1024,)\n",
      "(1024,)\n",
      "(1024,)\n"
     ]
    }
   ],
   "source": [
    "%%px\n",
    "\n",
    "vx_xlp = vx[:,0,0]\n",
    "\n",
    "vx_xl = comm.gather(vx_xlp,root=0)\n",
    "if rank==0:\n",
    "    l = tuple(vx_xl)\n",
    "    vx_xl = np.concatenate(l)\n",
    "\n",
    "vx_yl = vx[0,:,0]\n",
    "vx_zl = vx[0,0,:]\n",
    "\n",
    "##########################\n",
    "\n",
    "vy_xlp = vy[:,0,0]\n",
    "\n",
    "vy_xl = comm.gather(vy_xlp,root=0)\n",
    "if rank==0:\n",
    "    l = tuple(vy_xl)\n",
    "    vy_xl = np.concatenate(l)\n",
    "\n",
    "vy_yl = vy[0,:,0]\n",
    "vy_zl = vy[0,0,:]\n",
    "\n",
    "##########################\n",
    "\n",
    "vz_xlp = vz[:,0,0]\n",
    "\n",
    "vz_xl = comm.gather(vz_xlp,root=0)\n",
    "if rank==0:\n",
    "    l = tuple(vz_xl)\n",
    "    vz_xl = np.concatenate(l)\n",
    "\n",
    "vz_yl = vz[0,:,0]\n",
    "vz_zl = vz[0,0,:]\n",
    "\n",
    "if rank==0:\n",
    "    print(vx_xl.shape)\n",
    "    print(vx_yl.shape)\n",
    "    print(vx_zl.shape)"
   ]
  },
  {
   "cell_type": "code",
   "execution_count": 23,
   "metadata": {},
   "outputs": [],
   "source": [
    "%%px\n",
    "\n",
    "vx_xlpdx = A11[:,0,0]\n",
    "\n",
    "vx_xldx = comm.gather(vx_xlpdx,root=0)\n",
    "if rank==0:\n",
    "    ldx = tuple(vx_xldx)\n",
    "    vx_xldx = np.concatenate(ldx)\n",
    "\n",
    "vx_yldx = A21[0,:,0]\n",
    "vx_zldx = A31[0,0,:]\n",
    "\n",
    "########################\n",
    "\n",
    "vy_xlpdx = A12[:,0,0]\n",
    "\n",
    "vy_xldx = comm.gather(vy_xlpdx,root=0)\n",
    "if rank==0:\n",
    "    ldy = tuple(vy_xldx)\n",
    "    vy_xldx = np.concatenate(ldy)\n",
    "\n",
    "vy_yldx = A22[0,:,0]\n",
    "vy_zldx = A32[0,0,:]\n",
    "\n",
    "########################\n",
    "\n",
    "\n",
    "vz_xlpdx = A13[:,0,0]\n",
    "\n",
    "vz_xldx = comm.gather(vz_xlpdx,root=0)\n",
    "if rank==0:\n",
    "    ldz = tuple(vz_xldx)\n",
    "    vz_xldx = np.concatenate(ldz)\n",
    "\n",
    "vz_yldx = A23[0,:,0]\n",
    "vz_zldx = A33[0,0,:]"
   ]
  },
  {
   "cell_type": "code",
   "execution_count": 24,
   "metadata": {},
   "outputs": [
    {
     "name": "stdout",
     "output_type": "stream",
     "text": [
      "[stdout:0] (1024,)\n",
      "[stdout:1] (1024,)\n",
      "[stdout:2] (1024,)\n",
      "[stdout:3] (1024,)\n",
      "[stdout:4] (1024,)\n",
      "[stdout:5] (1024,)\n",
      "[stdout:6] (1024,)\n",
      "[stdout:7] (1024,)\n"
     ]
    },
    {
     "data": {
      "text/plain": [
       "[output:2]"
      ]
     },
     "metadata": {},
     "output_type": "display_data"
    },
    {
     "data": {
      "image/png": "[encoded data removed]",
      "text/plain": [
       "<matplotlib.figure.Figure at 0x7fab7fdc6940>"
      ]
     },
     "metadata": {
      "engine": 2
     },
     "output_type": "display_data"
    }
   ],
   "source": [
    "%%px\n",
    "%matplotlib inline\n",
    "\n",
    "import matplotlib\n",
    "import matplotlib.pyplot as plt\n",
    "\n",
    "Y = np.linspace(0,2.*np.pi,Ny)\n",
    "print(Y.shape)\n",
    "\n",
    "if rank==0:\n",
    "    plt.plot(Y,vx_xl,'r-')\n",
    "    plt.plot(Y,vx_xldx/100,'b-')\n",
    "    plt.grid()\n",
    "    \n",
    "    plt.xlim((0,2))\n",
    "    \n",
    "    plt.show()"
   ]
  },
  {
   "cell_type": "code",
   "execution_count": 25,
   "metadata": {},
   "outputs": [
    {
     "data": {
      "text/plain": [
       "[output:2]"
      ]
     },
     "metadata": {},
     "output_type": "display_data"
    },
    {
     "data": {
      "image/png": "[encoded data removed]",
      "text/plain": [
       "<matplotlib.figure.Figure at 0x7fab7fa62da0>"
      ]
     },
     "metadata": {
      "engine": 2
     },
     "output_type": "display_data"
    }
   ],
   "source": [
    "%%px \n",
    "\n",
    "if rank==0:\n",
    "    pos = vx_xldx > 0\n",
    "    neg = vx_xldx < 0\n",
    "    scale = 30\n",
    "    \n",
    "    dx = 2.*np.pi/1024\n",
    "    vlgrx = np.gradient(vx_xl)/dx\n",
    "    \n",
    "    plt.plot(Y[pos],vx_xl[pos],'r.')\n",
    "    plt.plot(Y[pos],vx_xldx[pos]/scale,'b.')\n",
    "    \n",
    "    plt.plot(Y[neg],vx_xl[neg],'m.')\n",
    "    plt.plot(Y[neg],vx_xldx[neg]/scale,'k.')\n",
    "    \n",
    "    plt.plot(Y,vlgrx/scale,'g')\n",
    "    plt.grid()\n",
    "    \n",
    "    plt.xlim((1,2))\n",
    "    \n",
    "    plt.show()"
   ]
  },
  {
   "cell_type": "code",
   "execution_count": 26,
   "metadata": {},
   "outputs": [
    {
     "data": {
      "text/plain": [
       "[output:2]"
      ]
     },
     "metadata": {},
     "output_type": "display_data"
    },
    {
     "data": {
      "image/png": "[encoded data removed]",
      "text/plain": [
       "<matplotlib.figure.Figure at 0x7fab7d9f55f8>"
      ]
     },
     "metadata": {
      "engine": 2
     },
     "output_type": "display_data"
    },
    {
     "data": {
      "image/png": "[encoded data removed]",
      "text/plain": [
       "<matplotlib.figure.Figure at 0x7fab7d94acf8>"
      ]
     },
     "metadata": {
      "engine": 2
     },
     "output_type": "display_data"
    },
    {
     "data": {
      "image/png": "[encoded data removed]",
      "text/plain": [
       "<matplotlib.figure.Figure at 0x7fab7da0e198>"
      ]
     },
     "metadata": {
      "engine": 2
     },
     "output_type": "display_data"
    }
   ],
   "source": [
    "%%px \n",
    "\n",
    "if rank==0:\n",
    "    pos = vx_xldx > 0\n",
    "    neg = vx_xldx < 0\n",
    "    scale = 30\n",
    "    \n",
    "    dx = 2.*np.pi/1024\n",
    "    vxlgrx = np.gradient(vx_xl)/dx\n",
    "    vylgrx = np.gradient(vy_xl)/dx\n",
    "    vzlgrx = np.gradient(vz_xl)/dx\n",
    "            \n",
    "    plt.xlim((1,2))\n",
    "    plt.grid()\n",
    "    plt.plot(Y,vx_xldx,'r.')\n",
    "    plt.plot(Y,vxlgrx,'c-')\n",
    "    \n",
    "    plt.show()\n",
    "    \n",
    "    plt.xlim((1,2))\n",
    "    plt.grid()\n",
    "    plt.plot(Y,vy_xldx,'g.')\n",
    "    plt.plot(Y,vylgrx,'k-')\n",
    "    \n",
    "    plt.show()\n",
    "    \n",
    "    plt.xlim((1,2))\n",
    "    plt.grid()\n",
    "    plt.plot(Y,vz_xldx,'b.')\n",
    "    plt.plot(Y,vzlgrx,'m-')\n",
    "    \n",
    "    plt.show()\n",
    "    "
   ]
  },
  {
   "cell_type": "code",
   "execution_count": 27,
   "metadata": {},
   "outputs": [
    {
     "data": {
      "text/plain": [
       "[output:2]"
      ]
     },
     "metadata": {},
     "output_type": "display_data"
    },
    {
     "data": {
      "image/png": "[encoded data removed]",
      "text/plain": [
       "<matplotlib.figure.Figure at 0x7fab7d9375c0>"
      ]
     },
     "metadata": {
      "engine": 2
     },
     "output_type": "display_data"
    },
    {
     "data": {
      "image/png": "[encoded data removed]",
      "text/plain": [
       "<matplotlib.figure.Figure at 0x7fab7dc7b198>"
      ]
     },
     "metadata": {
      "engine": 2
     },
     "output_type": "display_data"
    },
    {
     "data": {
      "image/png": "[encoded data removed]",
      "text/plain": [
       "<matplotlib.figure.Figure at 0x7fab7d8a8940>"
      ]
     },
     "metadata": {
      "engine": 2
     },
     "output_type": "display_data"
    }
   ],
   "source": [
    "%%px \n",
    "\n",
    "if rank==0:\n",
    "    pos = vx_xldx > 0\n",
    "    neg = vx_xldx < 0\n",
    "    scale = 30\n",
    "    \n",
    "    dx = 2.*np.pi/1024\n",
    "    vxlgrx = np.gradient(vx_xl)/dx\n",
    "    vxlgry = np.gradient(vx_yl)/dx\n",
    "    vxlgrz = np.gradient(vx_zl)/dx\n",
    "            \n",
    "    plt.xlim((1,2))\n",
    "    plt.grid()\n",
    "    plt.plot(Y,vx_xldx,'r.')\n",
    "    plt.plot(Y,vxlgrx,'c-')\n",
    "    \n",
    "    plt.show()\n",
    "    \n",
    "    plt.xlim((1,2))\n",
    "    plt.grid()\n",
    "    plt.plot(Y,vx_yldx,'g.')\n",
    "    plt.plot(Y,vxlgry,'k-')\n",
    "    \n",
    "    plt.show()\n",
    "    \n",
    "    plt.xlim((1,2))\n",
    "    plt.grid()\n",
    "    plt.plot(Y,vx_yldx,'b.')\n",
    "    plt.plot(Y,vxlgry,'m-')\n",
    "    \n",
    "    plt.show()\n",
    "    "
   ]
  },
  {
   "cell_type": "code",
   "execution_count": 28,
   "metadata": {},
   "outputs": [
    {
     "data": {
      "text/plain": [
       "[output:2]"
      ]
     },
     "metadata": {},
     "output_type": "display_data"
    },
    {
     "data": {
      "image/png": "[encoded data removed]",
      "text/plain": [
       "<matplotlib.figure.Figure at 0x7fab7d896320>"
      ]
     },
     "metadata": {
      "engine": 2
     },
     "output_type": "display_data"
    },
    {
     "data": {
      "image/png": "[encoded data removed]",
      "text/plain": [
       "<matplotlib.figure.Figure at 0x7fab7d7ffb00>"
      ]
     },
     "metadata": {
      "engine": 2
     },
     "output_type": "display_data"
    },
    {
     "data": {
      "image/png": "[encoded data removed]",
      "text/plain": [
       "<matplotlib.figure.Figure at 0x7fab7d764f60>"
      ]
     },
     "metadata": {
      "engine": 2
     },
     "output_type": "display_data"
    }
   ],
   "source": [
    "%%px \n",
    "\n",
    "if rank==0:\n",
    "    pos = vx_xldx > 0\n",
    "    neg = vx_xldx < 0\n",
    "    scale = 30\n",
    "    \n",
    "    dx = 2.*np.pi/1024\n",
    "    vylgrx = np.gradient(vy_xl)/dx\n",
    "    vylgry = np.gradient(vy_yl)/dx\n",
    "    vylgrz = np.gradient(vy_zl)/dx\n",
    "            \n",
    "    plt.xlim((1,2))\n",
    "    plt.grid()\n",
    "    plt.plot(Y,vy_xldx,'r.')\n",
    "    plt.plot(Y,vylgrx,'c-')\n",
    "    \n",
    "    plt.show()\n",
    "    \n",
    "    plt.xlim((1,2))\n",
    "    plt.grid()\n",
    "    plt.plot(Y,vy_yldx,'g.')\n",
    "    plt.plot(Y,vylgry,'k-')\n",
    "    \n",
    "    plt.show()\n",
    "    \n",
    "    plt.xlim((1,2))\n",
    "    plt.grid()\n",
    "    plt.plot(Y,vy_zldx,'b.')\n",
    "    plt.plot(Y,vylgrz,'m-')\n",
    "    \n",
    "    plt.show()"
   ]
  },
  {
   "cell_type": "markdown",
   "metadata": {},
   "source": [
    "Now prepare the gradient tensor invariants averages, which should all be zero."
   ]
  },
  {
   "cell_type": "code",
   "execution_count": 29,
   "metadata": {},
   "outputs": [],
   "source": [
    "%%px \n",
    "\n",
    "Q = 0.5*( (A12*A21+A23*A32+A13*A31) - (A22*A33+A11*A33+A11*A22) )"
   ]
  },
  {
   "cell_type": "code",
   "execution_count": 34,
   "metadata": {},
   "outputs": [
    {
     "name": "stdout",
     "output_type": "stream",
     "text": [
      "[stdout:2] Average Q = 1.1408701539e-07\n"
     ]
    }
   ],
   "source": [
    "%%px\n",
    "\n",
    "slabQ = np.average(Q)\n",
    "\n",
    "avgQ=np.zeros(1,dtype='float32')\n",
    "\n",
    "comm.Reduce([slabQ,MPI.REAL],[avgQ,MPI.REAL],op=MPI.SUM)\n",
    "avgQ = avgQ[0]/nproc\n",
    "avgQ = comm.bcast(avgQ, root=0)\n",
    "\n",
    "if rank==0:\n",
    "    print(\"Average Q = \"+str(avgQ))"
   ]
  },
  {
   "cell_type": "code",
   "execution_count": 31,
   "metadata": {
    "collapsed": true
   },
   "outputs": [],
   "source": [
    "%%px\n",
    "\n",
    "R = A11**3 + A22**3 + A33**3 + 3*( A11*(A21*A12+A13*A31) + A22*(A12*A21+A23*A32) + A33*(A13*A31+A23*A32) + A13*A21*A32 + A12*A23*A31 )"
   ]
  },
  {
   "cell_type": "code",
   "execution_count": 33,
   "metadata": {},
   "outputs": [
    {
     "name": "stdout",
     "output_type": "stream",
     "text": [
      "[stdout:2] Average R = -0.00386608392\n"
     ]
    }
   ],
   "source": [
    "%%px\n",
    "\n",
    "slabR = np.average(R)\n",
    "\n",
    "avgR=np.zeros(1,dtype='float32')\n",
    "\n",
    "comm.Reduce([slabR,MPI.REAL],[avgR,MPI.REAL],op=MPI.SUM)\n",
    "avgR = avgR[0]/nproc\n",
    "avgR = comm.bcast(avgR, root=0)\n",
    "\n",
    "if rank==0:\n",
    "    print(\"Average R = \"+str(avgR))"
   ]
  },
  {
   "cell_type": "code",
   "execution_count": 35,
   "metadata": {},
   "outputs": [
    {
     "name": "stdout",
     "output_type": "stream",
     "text": [
      "[stdout:2] Average Q^2 = 17679.1640625\n"
     ]
    }
   ],
   "source": [
    "%%px\n",
    "\n",
    "slabQ2 = np.average(Q**2)\n",
    "\n",
    "avgQ2=np.zeros(1,dtype='float32')\n",
    "\n",
    "comm.Reduce([slabQ2,MPI.REAL],[avgQ2,MPI.REAL],op=MPI.SUM)\n",
    "avgQ2 = avgQ2[0]/nproc\n",
    "avgQ2 = comm.bcast(avgQ2, root=0)\n",
    "\n",
    "if rank==0:\n",
    "    print(\"Average Q^2 = \"+str(avgQ2))"
   ]
  },
  {
   "cell_type": "code",
   "execution_count": 37,
   "metadata": {},
   "outputs": [
    {
     "name": "stdout",
     "output_type": "stream",
     "text": [
      "[stdout:2] <R>/(<Q^2>^3/2) = -1.6446696862e-09\n"
     ]
    }
   ],
   "source": [
    "%%px\n",
    "\n",
    "slabR = np.average(R)\n",
    "\n",
    "avgR=np.zeros(1,dtype='float32')\n",
    "\n",
    "comm.Reduce([slabR,MPI.REAL],[avgR,MPI.REAL],op=MPI.SUM)\n",
    "avgR = avgR[0]/nproc\n",
    "avgR = comm.bcast(avgR, root=0)\n",
    "\n",
    "if rank==0:\n",
    "    print(\"<R>/(<Q^2>^3/2) = \"+str(avgR/(avgQ2**1.5)))"
   ]
  },
  {
   "cell_type": "code",
   "execution_count": 38,
   "metadata": {},
   "outputs": [],
   "source": [
    "%%px \n",
    "\n",
    "del Q,R"
   ]
  },
  {
   "cell_type": "code",
   "execution_count": 40,
   "metadata": {
    "collapsed": true
   },
   "outputs": [],
   "source": [
    "%%px\n",
    "\n",
    "Omega = 2.*(((A12-A21)/2.)**2 + ((A13-A13)/2.)**2 + ((A23-A32)/2.)**2 )"
   ]
  },
  {
   "cell_type": "code",
   "execution_count": 41,
   "metadata": {
    "collapsed": true
   },
   "outputs": [],
   "source": [
    "%%px\n",
    "\n",
    "Epsilon = A11**2 + A22**2 + A33**2 + 2.*( ((A12+A21)/2.)**2 + ((A13+A13)/2.)**2 + ((A23+A32)/2.)**2 )"
   ]
  },
  {
   "cell_type": "code",
   "execution_count": 42,
   "metadata": {},
   "outputs": [
    {
     "name": "stdout",
     "output_type": "stream",
     "text": [
      "[stdout:2] Average enstrophy = 165.684020996\n"
     ]
    }
   ],
   "source": [
    "%%px\n",
    "\n",
    "slabO = np.average(Omega)\n",
    "\n",
    "avgO=np.zeros(1,dtype='float32')\n",
    "\n",
    "comm.Reduce([slabO,MPI.REAL],[avgO,MPI.REAL],op=MPI.SUM)\n",
    "avgO = avgO[0]/nproc\n",
    "avgO = comm.bcast(avgO, root=0)\n",
    "\n",
    "if rank==0:\n",
    "    print(\"Average enstrophy = \"+str(avgO))"
   ]
  },
  {
   "cell_type": "code",
   "execution_count": 43,
   "metadata": {},
   "outputs": [
    {
     "name": "stdout",
     "output_type": "stream",
     "text": [
      "[stdout:2] Average strainrate = 333.151733398\n"
     ]
    }
   ],
   "source": [
    "%%px\n",
    "\n",
    "slabE = np.average(Epsilon)\n",
    "\n",
    "avgE=np.zeros(1,dtype='float32')\n",
    "\n",
    "comm.Reduce([slabE,MPI.REAL],[avgE,MPI.REAL],op=MPI.SUM)\n",
    "avgE = avgE[0]/nproc\n",
    "avgE = comm.bcast(avgE, root=0)\n",
    "\n",
    "if rank==0:\n",
    "    print(\"Average strainrate = \"+str(avgE))"
   ]
  },
  {
   "cell_type": "code",
   "execution_count": 45,
   "metadata": {
    "collapsed": true
   },
   "outputs": [],
   "source": [
    "%%px\n",
    "\n",
    "Omega = 0.5*( A12**2 + A21**2 + A13**2 + A31**2 + A23**2 + A32**2 - 2.*(A12*A21+A13*A31+A23*A32) )"
   ]
  },
  {
   "cell_type": "code",
   "execution_count": 46,
   "metadata": {},
   "outputs": [
    {
     "name": "stdout",
     "output_type": "stream",
     "text": [
      "[stdout:2] Average enstrophy = 249.217727661\n"
     ]
    }
   ],
   "source": [
    "%%px\n",
    "\n",
    "slabO = np.average(Omega)\n",
    "\n",
    "avgO=np.zeros(1,dtype='float32')\n",
    "\n",
    "comm.Reduce([slabO,MPI.REAL],[avgO,MPI.REAL],op=MPI.SUM)\n",
    "avgO = avgO[0]/nproc\n",
    "avgO = comm.bcast(avgO, root=0)\n",
    "\n",
    "if rank==0:\n",
    "    print(\"Average enstrophy = \"+str(avgO))"
   ]
  },
  {
   "cell_type": "code",
   "execution_count": 48,
   "metadata": {},
   "outputs": [],
   "source": [
    "%%px\n",
    "\n",
    "Epsilon  = A11**2 + A22**2 + A33**2 \n",
    "Epsilon += 0.5*( A12**2 + A21**2 + A23**2 + A32**2 + A13**2 + A31**2 )\n",
    "Epsilon += A12*A21 + A13*A31 + A23*A32"
   ]
  },
  {
   "cell_type": "code",
   "execution_count": 49,
   "metadata": {},
   "outputs": [
    {
     "name": "stdout",
     "output_type": "stream",
     "text": [
      "[stdout:2] Average strainrate = 249.217727661\n"
     ]
    }
   ],
   "source": [
    "%%px\n",
    "\n",
    "slabE = np.average(Epsilon)\n",
    "\n",
    "avgE=np.zeros(1,dtype='float32')\n",
    "\n",
    "comm.Reduce([slabE,MPI.REAL],[avgE,MPI.REAL],op=MPI.SUM)\n",
    "avgE = avgE[0]/nproc\n",
    "avgE = comm.bcast(avgE, root=0)\n",
    "\n",
    "if rank==0:\n",
    "    print(\"Average strainrate = \"+str(avgE))"
   ]
  },
  {
   "cell_type": "code",
   "execution_count": 50,
   "metadata": {},
   "outputs": [
    {
     "name": "stdout",
     "output_type": "stream",
     "text": [
      "[stdout:2] \n",
      "Average strainrate - enstrophy: 0.0\n",
      "Normalized strainrate - enstrophy: 0.0\n"
     ]
    }
   ],
   "source": [
    "%%px\n",
    "\n",
    "if rank==0:\n",
    "    print(\"Average strainrate - enstrophy: \"+str(avgE-avgO))\n",
    "    print(\"Normalized strainrate - enstrophy: \"+str((avgE-avgO)/avgO))"
   ]
  },
  {
   "cell_type": "code",
   "execution_count": 51,
   "metadata": {},
   "outputs": [],
   "source": [
    "%%px\n",
    "\n",
    "del Omega, Epsilon"
   ]
  },
  {
   "cell_type": "code",
   "execution_count": 52,
   "metadata": {},
   "outputs": [],
   "source": [
    "%%px\n",
    "\n",
    "eps = 2*nu*avgE"
   ]
  },
  {
   "cell_type": "code",
   "execution_count": 57,
   "metadata": {},
   "outputs": [
    {
     "name": "stdout",
     "output_type": "stream",
     "text": [
      "[stdout:2] \n",
      "nu = 0.000185\n",
      "urms = 0.674645176394, Reference: 0.6820399\n",
      "eps = 0.0922105592346\n",
      "kinectic energy = 0.682719171047\n",
      "Taylor micro-scale =0.117035222558\n",
      "ReLamb = 426.795937119, Reference: 426.8378\n"
     ]
    }
   ],
   "source": [
    "%%px\n",
    "\n",
    "urms = np.sqrt(2.*avgK/3)\n",
    "lamb = np.sqrt(15.*nu/eps)*urms\n",
    "ReTayor = urms*lamb/nu\n",
    "if rank==0:\n",
    "    print(\"nu = \"+str(nu))\n",
    "    print(\"urms = \"+str(urms)+\", Reference: 0.6820399\")\n",
    "    print(\"eps = \"+ str(eps))\n",
    "    print(\"kinectic energy = \"+str(avgK))\n",
    "    print(\"Taylor micro-scale =\"+str(lamb))\n",
    "    print(\"ReLamb = \"+str(ReTayor)+\", Reference: 426.8378\")"
   ]
  }
 ],
 "metadata": {
  "kernelspec": {
   "display_name": "Python 2",
   "language": "python",
   "name": "python2"
  },
  "language_info": {
   "codemirror_mode": {
    "name": "ipython",
    "version": 2
   },
   "file_extension": ".py",
   "mimetype": "text/x-python",
   "name": "python",
   "nbconvert_exporter": "python",
   "pygments_lexer": "ipython2",
   "version": "2.7.13"
  }
 },
 "nbformat": 4,
 "nbformat_minor": 1
}
